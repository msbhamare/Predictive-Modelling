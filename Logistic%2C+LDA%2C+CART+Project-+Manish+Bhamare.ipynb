{
 "cells": [
  {
   "cell_type": "markdown",
   "id": "c5ddb8cc",
   "metadata": {},
   "source": [
    "**Logistic, LDA, CART Project**"
   ]
  },
  {
   "cell_type": "markdown",
   "id": "7892b199",
   "metadata": {},
   "source": [
    "**Project 2**"
   ]
  },
  {
   "cell_type": "markdown",
   "id": "ab452b7b",
   "metadata": {},
   "source": [
    "You are a statistician at the Republic of Indonesia Ministry of Health and you are provided with a data of 1473 females collected from a Contraceptive Prevalence Survey. The samples are married women who were either not pregnant or do not know if they were at the time of the survey.\n",
    "\n",
    "The problem is to predict do/don't they use a contraceptive method of choice based on their demographic and socio-economic characteristics."
   ]
  },
  {
   "cell_type": "markdown",
   "id": "e33187ed",
   "metadata": {},
   "source": [
    "**Data Dictionary:**\n",
    "\n",
    "1. Wife's age (numerical)\n",
    "2. Wife's education (categorical) 1=uneducated, 2, 3, 4=tertiary\n",
    "3. Husband's education (categorical) 1=uneducated, 2, 3, 4=tertiary\n",
    "4. Number of children ever born (numerical)\n",
    "5. Wife's religion (binary) Non-Scientology, Scientology\n",
    "6. Wife's now working? (binary) Yes, No\n",
    "7. Husband's occupation (categorical) 1, 2, 3, 4(random)\n",
    "8. Standard-of-living index (categorical) 1=verlow, 2, 3, 4=high\n",
    "9. Media exposure (binary) Good, Not good\n",
    "10. Contraceptive method used (class attribute) No,Yes"
   ]
  },
  {
   "cell_type": "code",
   "execution_count": 1,
   "id": "023f4082",
   "metadata": {},
   "outputs": [],
   "source": [
    "# Importing the necessary packages\n",
    "\n",
    "# For Data Wrangling/ Data Processing\n",
    "import numpy as np\n",
    "import pandas as pd\n",
    "\n",
    "# Data Visualizaiton\n",
    "import matplotlib.pyplot as plt   \n",
    "import seaborn as sns\n",
    "\n",
    "# For Modeling \n",
    "from sklearn.linear_model import LogisticRegression\n",
    "\n",
    "#For Model Performance and Tuning\n",
    "from sklearn.model_selection import train_test_split,GridSearchCV\n",
    "from sklearn import metrics\n",
    "from sklearn.metrics import roc_auc_score,roc_curve,classification_report,confusion_matrix,plot_confusion_matrix\n",
    "\n",
    "# Filtering warning message\n",
    "from warnings import filterwarnings\n",
    "filterwarnings(\"ignore\")\n",
    "\n",
    "# For Modeling \n",
    "from sklearn.discriminant_analysis import LinearDiscriminantAnalysis\n",
    "\n",
    "# Model Evaluation\n",
    "from sklearn import metrics,model_selection\n",
    "\n",
    "# Scaling the dataset\n",
    "from sklearn.preprocessing import scale\n",
    "\n",
    "# For Modeling \n",
    "from sklearn.tree import DecisionTreeClassifier"
   ]
  },
  {
   "cell_type": "code",
   "execution_count": 2,
   "id": "630ff4f6",
   "metadata": {},
   "outputs": [],
   "source": [
    "df=pd.read_excel(r'C:\\Users\\dell\\Downloads\\Contraceptive_method_dataset.xlsx')"
   ]
  },
  {
   "cell_type": "code",
   "execution_count": 3,
   "id": "4105ed60",
   "metadata": {
    "scrolled": false
   },
   "outputs": [
    {
     "data": {
      "text/html": [
       "<div>\n",
       "<style scoped>\n",
       "    .dataframe tbody tr th:only-of-type {\n",
       "        vertical-align: middle;\n",
       "    }\n",
       "\n",
       "    .dataframe tbody tr th {\n",
       "        vertical-align: top;\n",
       "    }\n",
       "\n",
       "    .dataframe thead th {\n",
       "        text-align: right;\n",
       "    }\n",
       "</style>\n",
       "<table border=\"1\" class=\"dataframe\">\n",
       "  <thead>\n",
       "    <tr style=\"text-align: right;\">\n",
       "      <th></th>\n",
       "      <th>Wife_age</th>\n",
       "      <th>Wife_ education</th>\n",
       "      <th>Husband_education</th>\n",
       "      <th>No_of_children_born</th>\n",
       "      <th>Wife_religion</th>\n",
       "      <th>Wife_Working</th>\n",
       "      <th>Husband_Occupation</th>\n",
       "      <th>Standard_of_living_index</th>\n",
       "      <th>Media_exposure</th>\n",
       "      <th>Contraceptive_method_used</th>\n",
       "    </tr>\n",
       "  </thead>\n",
       "  <tbody>\n",
       "    <tr>\n",
       "      <th>0</th>\n",
       "      <td>24.0</td>\n",
       "      <td>Primary</td>\n",
       "      <td>Secondary</td>\n",
       "      <td>3.0</td>\n",
       "      <td>Scientology</td>\n",
       "      <td>No</td>\n",
       "      <td>2</td>\n",
       "      <td>High</td>\n",
       "      <td>Exposed</td>\n",
       "      <td>No</td>\n",
       "    </tr>\n",
       "    <tr>\n",
       "      <th>1</th>\n",
       "      <td>45.0</td>\n",
       "      <td>Uneducated</td>\n",
       "      <td>Secondary</td>\n",
       "      <td>10.0</td>\n",
       "      <td>Scientology</td>\n",
       "      <td>No</td>\n",
       "      <td>3</td>\n",
       "      <td>Very High</td>\n",
       "      <td>Exposed</td>\n",
       "      <td>No</td>\n",
       "    </tr>\n",
       "    <tr>\n",
       "      <th>2</th>\n",
       "      <td>43.0</td>\n",
       "      <td>Primary</td>\n",
       "      <td>Secondary</td>\n",
       "      <td>7.0</td>\n",
       "      <td>Scientology</td>\n",
       "      <td>No</td>\n",
       "      <td>3</td>\n",
       "      <td>Very High</td>\n",
       "      <td>Exposed</td>\n",
       "      <td>No</td>\n",
       "    </tr>\n",
       "    <tr>\n",
       "      <th>3</th>\n",
       "      <td>42.0</td>\n",
       "      <td>Secondary</td>\n",
       "      <td>Primary</td>\n",
       "      <td>9.0</td>\n",
       "      <td>Scientology</td>\n",
       "      <td>No</td>\n",
       "      <td>3</td>\n",
       "      <td>High</td>\n",
       "      <td>Exposed</td>\n",
       "      <td>No</td>\n",
       "    </tr>\n",
       "    <tr>\n",
       "      <th>4</th>\n",
       "      <td>36.0</td>\n",
       "      <td>Secondary</td>\n",
       "      <td>Secondary</td>\n",
       "      <td>8.0</td>\n",
       "      <td>Scientology</td>\n",
       "      <td>No</td>\n",
       "      <td>3</td>\n",
       "      <td>Low</td>\n",
       "      <td>Exposed</td>\n",
       "      <td>No</td>\n",
       "    </tr>\n",
       "  </tbody>\n",
       "</table>\n",
       "</div>"
      ],
      "text/plain": [
       "   Wife_age Wife_ education Husband_education  No_of_children_born  \\\n",
       "0      24.0         Primary         Secondary                  3.0   \n",
       "1      45.0      Uneducated         Secondary                 10.0   \n",
       "2      43.0         Primary         Secondary                  7.0   \n",
       "3      42.0       Secondary           Primary                  9.0   \n",
       "4      36.0       Secondary         Secondary                  8.0   \n",
       "\n",
       "  Wife_religion Wife_Working  Husband_Occupation Standard_of_living_index  \\\n",
       "0   Scientology           No                   2                     High   \n",
       "1   Scientology           No                   3                Very High   \n",
       "2   Scientology           No                   3                Very High   \n",
       "3   Scientology           No                   3                     High   \n",
       "4   Scientology           No                   3                      Low   \n",
       "\n",
       "  Media_exposure  Contraceptive_method_used  \n",
       "0         Exposed                        No  \n",
       "1         Exposed                        No  \n",
       "2         Exposed                        No  \n",
       "3         Exposed                        No  \n",
       "4         Exposed                        No  "
      ]
     },
     "execution_count": 3,
     "metadata": {},
     "output_type": "execute_result"
    }
   ],
   "source": [
    "df.head()"
   ]
  },
  {
   "cell_type": "code",
   "execution_count": 4,
   "id": "36d69880",
   "metadata": {},
   "outputs": [
    {
     "data": {
      "text/html": [
       "<div>\n",
       "<style scoped>\n",
       "    .dataframe tbody tr th:only-of-type {\n",
       "        vertical-align: middle;\n",
       "    }\n",
       "\n",
       "    .dataframe tbody tr th {\n",
       "        vertical-align: top;\n",
       "    }\n",
       "\n",
       "    .dataframe thead th {\n",
       "        text-align: right;\n",
       "    }\n",
       "</style>\n",
       "<table border=\"1\" class=\"dataframe\">\n",
       "  <thead>\n",
       "    <tr style=\"text-align: right;\">\n",
       "      <th></th>\n",
       "      <th>Wife_age</th>\n",
       "      <th>Wife_ education</th>\n",
       "      <th>Husband_education</th>\n",
       "      <th>No_of_children_born</th>\n",
       "      <th>Wife_religion</th>\n",
       "      <th>Wife_Working</th>\n",
       "      <th>Husband_Occupation</th>\n",
       "      <th>Standard_of_living_index</th>\n",
       "      <th>Media_exposure</th>\n",
       "      <th>Contraceptive_method_used</th>\n",
       "    </tr>\n",
       "  </thead>\n",
       "  <tbody>\n",
       "    <tr>\n",
       "      <th>1468</th>\n",
       "      <td>33.0</td>\n",
       "      <td>Tertiary</td>\n",
       "      <td>Tertiary</td>\n",
       "      <td>NaN</td>\n",
       "      <td>Scientology</td>\n",
       "      <td>Yes</td>\n",
       "      <td>2</td>\n",
       "      <td>Very High</td>\n",
       "      <td>Exposed</td>\n",
       "      <td>Yes</td>\n",
       "    </tr>\n",
       "    <tr>\n",
       "      <th>1469</th>\n",
       "      <td>33.0</td>\n",
       "      <td>Tertiary</td>\n",
       "      <td>Tertiary</td>\n",
       "      <td>NaN</td>\n",
       "      <td>Scientology</td>\n",
       "      <td>No</td>\n",
       "      <td>1</td>\n",
       "      <td>Very High</td>\n",
       "      <td>Exposed</td>\n",
       "      <td>Yes</td>\n",
       "    </tr>\n",
       "    <tr>\n",
       "      <th>1470</th>\n",
       "      <td>39.0</td>\n",
       "      <td>Secondary</td>\n",
       "      <td>Secondary</td>\n",
       "      <td>NaN</td>\n",
       "      <td>Scientology</td>\n",
       "      <td>Yes</td>\n",
       "      <td>1</td>\n",
       "      <td>Very High</td>\n",
       "      <td>Exposed</td>\n",
       "      <td>Yes</td>\n",
       "    </tr>\n",
       "    <tr>\n",
       "      <th>1471</th>\n",
       "      <td>33.0</td>\n",
       "      <td>Secondary</td>\n",
       "      <td>Secondary</td>\n",
       "      <td>NaN</td>\n",
       "      <td>Scientology</td>\n",
       "      <td>Yes</td>\n",
       "      <td>2</td>\n",
       "      <td>Low</td>\n",
       "      <td>Exposed</td>\n",
       "      <td>Yes</td>\n",
       "    </tr>\n",
       "    <tr>\n",
       "      <th>1472</th>\n",
       "      <td>17.0</td>\n",
       "      <td>Secondary</td>\n",
       "      <td>Secondary</td>\n",
       "      <td>1.0</td>\n",
       "      <td>Scientology</td>\n",
       "      <td>No</td>\n",
       "      <td>2</td>\n",
       "      <td>Very High</td>\n",
       "      <td>Exposed</td>\n",
       "      <td>Yes</td>\n",
       "    </tr>\n",
       "  </tbody>\n",
       "</table>\n",
       "</div>"
      ],
      "text/plain": [
       "      Wife_age Wife_ education Husband_education  No_of_children_born  \\\n",
       "1468      33.0        Tertiary          Tertiary                  NaN   \n",
       "1469      33.0        Tertiary          Tertiary                  NaN   \n",
       "1470      39.0       Secondary         Secondary                  NaN   \n",
       "1471      33.0       Secondary         Secondary                  NaN   \n",
       "1472      17.0       Secondary         Secondary                  1.0   \n",
       "\n",
       "     Wife_religion Wife_Working  Husband_Occupation Standard_of_living_index  \\\n",
       "1468   Scientology          Yes                   2                Very High   \n",
       "1469   Scientology           No                   1                Very High   \n",
       "1470   Scientology          Yes                   1                Very High   \n",
       "1471   Scientology          Yes                   2                      Low   \n",
       "1472   Scientology           No                   2                Very High   \n",
       "\n",
       "     Media_exposure  Contraceptive_method_used  \n",
       "1468         Exposed                       Yes  \n",
       "1469         Exposed                       Yes  \n",
       "1470         Exposed                       Yes  \n",
       "1471         Exposed                       Yes  \n",
       "1472         Exposed                       Yes  "
      ]
     },
     "execution_count": 4,
     "metadata": {},
     "output_type": "execute_result"
    }
   ],
   "source": [
    "df.tail()"
   ]
  },
  {
   "cell_type": "code",
   "execution_count": 5,
   "id": "59600253",
   "metadata": {},
   "outputs": [],
   "source": [
    "df_head=df.head().style.background_gradient()\n",
    "df_tail=df.tail().style.background_gradient()"
   ]
  },
  {
   "cell_type": "code",
   "execution_count": 6,
   "id": "26bb849e",
   "metadata": {},
   "outputs": [],
   "source": [
    "import dataframe_image as dfi\n",
    "dfi.export(df_head, 'df_head.png',table_conversion=\"matplotlib\")\n",
    "dfi.export(df_tail, 'df_tail.png',table_conversion=\"matplotlib\")"
   ]
  },
  {
   "cell_type": "code",
   "execution_count": 7,
   "id": "08c48252",
   "metadata": {},
   "outputs": [
    {
     "data": {
      "text/plain": [
       "(1473, 10)"
      ]
     },
     "execution_count": 7,
     "metadata": {},
     "output_type": "execute_result"
    }
   ],
   "source": [
    "df.shape"
   ]
  },
  {
   "cell_type": "code",
   "execution_count": 8,
   "id": "9b164359",
   "metadata": {
    "scrolled": true
   },
   "outputs": [
    {
     "name": "stdout",
     "output_type": "stream",
     "text": [
      "<class 'pandas.core.frame.DataFrame'>\n",
      "RangeIndex: 1473 entries, 0 to 1472\n",
      "Data columns (total 10 columns):\n",
      " #   Column                     Non-Null Count  Dtype  \n",
      "---  ------                     --------------  -----  \n",
      " 0   Wife_age                   1402 non-null   float64\n",
      " 1   Wife_ education            1473 non-null   object \n",
      " 2   Husband_education          1473 non-null   object \n",
      " 3   No_of_children_born        1452 non-null   float64\n",
      " 4   Wife_religion              1473 non-null   object \n",
      " 5   Wife_Working               1473 non-null   object \n",
      " 6   Husband_Occupation         1473 non-null   int64  \n",
      " 7   Standard_of_living_index   1473 non-null   object \n",
      " 8   Media_exposure             1473 non-null   object \n",
      " 9   Contraceptive_method_used  1473 non-null   object \n",
      "dtypes: float64(2), int64(1), object(7)\n",
      "memory usage: 115.2+ KB\n"
     ]
    }
   ],
   "source": [
    "df.info()"
   ]
  },
  {
   "cell_type": "code",
   "execution_count": 9,
   "id": "946dcec4",
   "metadata": {},
   "outputs": [],
   "source": [
    "df['Husband_Occupation']=df['Husband_Occupation'].astype('object')"
   ]
  },
  {
   "cell_type": "code",
   "execution_count": 10,
   "id": "8d7ea5da",
   "metadata": {
    "scrolled": true
   },
   "outputs": [
    {
     "data": {
      "text/html": [
       "<div>\n",
       "<style scoped>\n",
       "    .dataframe tbody tr th:only-of-type {\n",
       "        vertical-align: middle;\n",
       "    }\n",
       "\n",
       "    .dataframe tbody tr th {\n",
       "        vertical-align: top;\n",
       "    }\n",
       "\n",
       "    .dataframe thead th {\n",
       "        text-align: right;\n",
       "    }\n",
       "</style>\n",
       "<table border=\"1\" class=\"dataframe\">\n",
       "  <thead>\n",
       "    <tr style=\"text-align: right;\">\n",
       "      <th></th>\n",
       "      <th>count</th>\n",
       "      <th>mean</th>\n",
       "      <th>std</th>\n",
       "      <th>min</th>\n",
       "      <th>25%</th>\n",
       "      <th>50%</th>\n",
       "      <th>75%</th>\n",
       "      <th>max</th>\n",
       "    </tr>\n",
       "  </thead>\n",
       "  <tbody>\n",
       "    <tr>\n",
       "      <th>Wife_age</th>\n",
       "      <td>1402.0</td>\n",
       "      <td>32.61</td>\n",
       "      <td>8.27</td>\n",
       "      <td>16.0</td>\n",
       "      <td>26.0</td>\n",
       "      <td>32.0</td>\n",
       "      <td>39.0</td>\n",
       "      <td>49.0</td>\n",
       "    </tr>\n",
       "    <tr>\n",
       "      <th>No_of_children_born</th>\n",
       "      <td>1452.0</td>\n",
       "      <td>3.25</td>\n",
       "      <td>2.37</td>\n",
       "      <td>0.0</td>\n",
       "      <td>1.0</td>\n",
       "      <td>3.0</td>\n",
       "      <td>4.0</td>\n",
       "      <td>16.0</td>\n",
       "    </tr>\n",
       "  </tbody>\n",
       "</table>\n",
       "</div>"
      ],
      "text/plain": [
       "                      count   mean   std   min   25%   50%   75%   max\n",
       "Wife_age             1402.0  32.61  8.27  16.0  26.0  32.0  39.0  49.0\n",
       "No_of_children_born  1452.0   3.25  2.37   0.0   1.0   3.0   4.0  16.0"
      ]
     },
     "execution_count": 10,
     "metadata": {},
     "output_type": "execute_result"
    }
   ],
   "source": [
    "df.describe().round(2).T"
   ]
  },
  {
   "cell_type": "code",
   "execution_count": 11,
   "id": "ddd0aa28",
   "metadata": {
    "scrolled": true
   },
   "outputs": [
    {
     "data": {
      "text/html": [
       "<div>\n",
       "<style scoped>\n",
       "    .dataframe tbody tr th:only-of-type {\n",
       "        vertical-align: middle;\n",
       "    }\n",
       "\n",
       "    .dataframe tbody tr th {\n",
       "        vertical-align: top;\n",
       "    }\n",
       "\n",
       "    .dataframe thead th {\n",
       "        text-align: right;\n",
       "    }\n",
       "</style>\n",
       "<table border=\"1\" class=\"dataframe\">\n",
       "  <thead>\n",
       "    <tr style=\"text-align: right;\">\n",
       "      <th></th>\n",
       "      <th>count</th>\n",
       "      <th>unique</th>\n",
       "      <th>top</th>\n",
       "      <th>freq</th>\n",
       "      <th>mean</th>\n",
       "      <th>std</th>\n",
       "      <th>min</th>\n",
       "      <th>25%</th>\n",
       "      <th>50%</th>\n",
       "      <th>75%</th>\n",
       "      <th>max</th>\n",
       "    </tr>\n",
       "  </thead>\n",
       "  <tbody>\n",
       "    <tr>\n",
       "      <th>Wife_age</th>\n",
       "      <td>1402.0</td>\n",
       "      <td>NaN</td>\n",
       "      <td>NaN</td>\n",
       "      <td>NaN</td>\n",
       "      <td>32.61</td>\n",
       "      <td>8.27</td>\n",
       "      <td>16.0</td>\n",
       "      <td>26.0</td>\n",
       "      <td>32.0</td>\n",
       "      <td>39.0</td>\n",
       "      <td>49.0</td>\n",
       "    </tr>\n",
       "    <tr>\n",
       "      <th>Wife_ education</th>\n",
       "      <td>1473</td>\n",
       "      <td>4</td>\n",
       "      <td>Tertiary</td>\n",
       "      <td>577</td>\n",
       "      <td>NaN</td>\n",
       "      <td>NaN</td>\n",
       "      <td>NaN</td>\n",
       "      <td>NaN</td>\n",
       "      <td>NaN</td>\n",
       "      <td>NaN</td>\n",
       "      <td>NaN</td>\n",
       "    </tr>\n",
       "    <tr>\n",
       "      <th>Husband_education</th>\n",
       "      <td>1473</td>\n",
       "      <td>4</td>\n",
       "      <td>Tertiary</td>\n",
       "      <td>899</td>\n",
       "      <td>NaN</td>\n",
       "      <td>NaN</td>\n",
       "      <td>NaN</td>\n",
       "      <td>NaN</td>\n",
       "      <td>NaN</td>\n",
       "      <td>NaN</td>\n",
       "      <td>NaN</td>\n",
       "    </tr>\n",
       "    <tr>\n",
       "      <th>No_of_children_born</th>\n",
       "      <td>1452.0</td>\n",
       "      <td>NaN</td>\n",
       "      <td>NaN</td>\n",
       "      <td>NaN</td>\n",
       "      <td>3.25</td>\n",
       "      <td>2.37</td>\n",
       "      <td>0.0</td>\n",
       "      <td>1.0</td>\n",
       "      <td>3.0</td>\n",
       "      <td>4.0</td>\n",
       "      <td>16.0</td>\n",
       "    </tr>\n",
       "    <tr>\n",
       "      <th>Wife_religion</th>\n",
       "      <td>1473</td>\n",
       "      <td>2</td>\n",
       "      <td>Scientology</td>\n",
       "      <td>1253</td>\n",
       "      <td>NaN</td>\n",
       "      <td>NaN</td>\n",
       "      <td>NaN</td>\n",
       "      <td>NaN</td>\n",
       "      <td>NaN</td>\n",
       "      <td>NaN</td>\n",
       "      <td>NaN</td>\n",
       "    </tr>\n",
       "    <tr>\n",
       "      <th>Wife_Working</th>\n",
       "      <td>1473</td>\n",
       "      <td>2</td>\n",
       "      <td>No</td>\n",
       "      <td>1104</td>\n",
       "      <td>NaN</td>\n",
       "      <td>NaN</td>\n",
       "      <td>NaN</td>\n",
       "      <td>NaN</td>\n",
       "      <td>NaN</td>\n",
       "      <td>NaN</td>\n",
       "      <td>NaN</td>\n",
       "    </tr>\n",
       "    <tr>\n",
       "      <th>Husband_Occupation</th>\n",
       "      <td>1473.0</td>\n",
       "      <td>4.0</td>\n",
       "      <td>3.0</td>\n",
       "      <td>585.0</td>\n",
       "      <td>NaN</td>\n",
       "      <td>NaN</td>\n",
       "      <td>NaN</td>\n",
       "      <td>NaN</td>\n",
       "      <td>NaN</td>\n",
       "      <td>NaN</td>\n",
       "      <td>NaN</td>\n",
       "    </tr>\n",
       "    <tr>\n",
       "      <th>Standard_of_living_index</th>\n",
       "      <td>1473</td>\n",
       "      <td>4</td>\n",
       "      <td>Very High</td>\n",
       "      <td>684</td>\n",
       "      <td>NaN</td>\n",
       "      <td>NaN</td>\n",
       "      <td>NaN</td>\n",
       "      <td>NaN</td>\n",
       "      <td>NaN</td>\n",
       "      <td>NaN</td>\n",
       "      <td>NaN</td>\n",
       "    </tr>\n",
       "    <tr>\n",
       "      <th>Media_exposure</th>\n",
       "      <td>1473</td>\n",
       "      <td>2</td>\n",
       "      <td>Exposed</td>\n",
       "      <td>1364</td>\n",
       "      <td>NaN</td>\n",
       "      <td>NaN</td>\n",
       "      <td>NaN</td>\n",
       "      <td>NaN</td>\n",
       "      <td>NaN</td>\n",
       "      <td>NaN</td>\n",
       "      <td>NaN</td>\n",
       "    </tr>\n",
       "    <tr>\n",
       "      <th>Contraceptive_method_used</th>\n",
       "      <td>1473</td>\n",
       "      <td>2</td>\n",
       "      <td>Yes</td>\n",
       "      <td>844</td>\n",
       "      <td>NaN</td>\n",
       "      <td>NaN</td>\n",
       "      <td>NaN</td>\n",
       "      <td>NaN</td>\n",
       "      <td>NaN</td>\n",
       "      <td>NaN</td>\n",
       "      <td>NaN</td>\n",
       "    </tr>\n",
       "  </tbody>\n",
       "</table>\n",
       "</div>"
      ],
      "text/plain": [
       "                            count unique          top   freq   mean   std  \\\n",
       "Wife_age                   1402.0    NaN          NaN    NaN  32.61  8.27   \n",
       "Wife_ education              1473      4     Tertiary    577    NaN   NaN   \n",
       "Husband_education            1473      4     Tertiary    899    NaN   NaN   \n",
       "No_of_children_born        1452.0    NaN          NaN    NaN   3.25  2.37   \n",
       "Wife_religion                1473      2  Scientology   1253    NaN   NaN   \n",
       "Wife_Working                 1473      2           No   1104    NaN   NaN   \n",
       "Husband_Occupation         1473.0    4.0          3.0  585.0    NaN   NaN   \n",
       "Standard_of_living_index     1473      4    Very High    684    NaN   NaN   \n",
       "Media_exposure               1473      2      Exposed   1364    NaN   NaN   \n",
       "Contraceptive_method_used    1473      2          Yes    844    NaN   NaN   \n",
       "\n",
       "                            min   25%   50%   75%   max  \n",
       "Wife_age                   16.0  26.0  32.0  39.0  49.0  \n",
       "Wife_ education             NaN   NaN   NaN   NaN   NaN  \n",
       "Husband_education           NaN   NaN   NaN   NaN   NaN  \n",
       "No_of_children_born         0.0   1.0   3.0   4.0  16.0  \n",
       "Wife_religion               NaN   NaN   NaN   NaN   NaN  \n",
       "Wife_Working                NaN   NaN   NaN   NaN   NaN  \n",
       "Husband_Occupation          NaN   NaN   NaN   NaN   NaN  \n",
       "Standard_of_living_index    NaN   NaN   NaN   NaN   NaN  \n",
       "Media_exposure              NaN   NaN   NaN   NaN   NaN  \n",
       "Contraceptive_method_used   NaN   NaN   NaN   NaN   NaN  "
      ]
     },
     "execution_count": 11,
     "metadata": {},
     "output_type": "execute_result"
    }
   ],
   "source": [
    "df.describe(include='all').round(2).T"
   ]
  },
  {
   "cell_type": "code",
   "execution_count": 12,
   "id": "71d3bfda",
   "metadata": {},
   "outputs": [
    {
     "data": {
      "text/plain": [
       "Wife_age                     34\n",
       "Wife_ education               4\n",
       "Husband_education             4\n",
       "No_of_children_born          15\n",
       "Wife_religion                 2\n",
       "Wife_Working                  2\n",
       "Husband_Occupation            4\n",
       "Standard_of_living_index      4\n",
       "Media_exposure                2\n",
       "Contraceptive_method_used     2\n",
       "dtype: int64"
      ]
     },
     "execution_count": 12,
     "metadata": {},
     "output_type": "execute_result"
    }
   ],
   "source": [
    "df.nunique()"
   ]
  },
  {
   "cell_type": "code",
   "execution_count": 13,
   "id": "ddb722f8",
   "metadata": {
    "scrolled": true
   },
   "outputs": [
    {
     "data": {
      "text/plain": [
       "Yes    0.57298\n",
       "No     0.42702\n",
       "Name: Contraceptive_method_used, dtype: float64"
      ]
     },
     "execution_count": 13,
     "metadata": {},
     "output_type": "execute_result"
    }
   ],
   "source": [
    "#Checking distribution in target column/variable.\n",
    "df['Contraceptive_method_used'].value_counts(normalize=True)"
   ]
  },
  {
   "cell_type": "code",
   "execution_count": 14,
   "id": "694c67ae",
   "metadata": {},
   "outputs": [
    {
     "name": "stdout",
     "output_type": "stream",
     "text": [
      "Number of duplicate rows = 80\n",
      "(1473, 10)\n"
     ]
    }
   ],
   "source": [
    "dups = df.duplicated()\n",
    "print('Number of duplicate rows = %d' % (dups.sum()))\n",
    "print(df.shape)"
   ]
  },
  {
   "cell_type": "code",
   "execution_count": 15,
   "id": "f66217b1",
   "metadata": {},
   "outputs": [
    {
     "data": {
      "text/plain": [
       "5.431093007467753"
      ]
     },
     "execution_count": 15,
     "metadata": {},
     "output_type": "execute_result"
    }
   ],
   "source": [
    "80/1473*100"
   ]
  },
  {
   "cell_type": "code",
   "execution_count": 16,
   "id": "8a35a768",
   "metadata": {
    "scrolled": true
   },
   "outputs": [
    {
     "data": {
      "text/plain": [
       "Wife_age                     71\n",
       "Wife_ education               0\n",
       "Husband_education             0\n",
       "No_of_children_born          21\n",
       "Wife_religion                 0\n",
       "Wife_Working                  0\n",
       "Husband_Occupation            0\n",
       "Standard_of_living_index      0\n",
       "Media_exposure                0\n",
       "Contraceptive_method_used     0\n",
       "dtype: int64"
      ]
     },
     "execution_count": 16,
     "metadata": {},
     "output_type": "execute_result"
    }
   ],
   "source": [
    "df.isna().sum()"
   ]
  },
  {
   "cell_type": "code",
   "execution_count": 17,
   "id": "e7620388",
   "metadata": {
    "scrolled": false
   },
   "outputs": [
    {
     "data": {
      "text/plain": [
       "Wife_age                     0\n",
       "Wife_ education              0\n",
       "Husband_education            0\n",
       "No_of_children_born          0\n",
       "Wife_religion                0\n",
       "Wife_Working                 0\n",
       "Husband_Occupation           0\n",
       "Standard_of_living_index     0\n",
       "Media_exposure               0\n",
       "Contraceptive_method_used    0\n",
       "dtype: int64"
      ]
     },
     "execution_count": 17,
     "metadata": {},
     "output_type": "execute_result"
    }
   ],
   "source": [
    "for column in df.columns:\n",
    "    if df[column].dtype !='object':\n",
    "        med=df[column].median()\n",
    "        df[column]=df[column].fillna(med)\n",
    "\n",
    "df.isna().sum()"
   ]
  },
  {
   "cell_type": "code",
   "execution_count": 18,
   "id": "9ce4b65d",
   "metadata": {
    "scrolled": true
   },
   "outputs": [
    {
     "data": {
      "text/plain": [
       "Index(['Wife_age', 'Wife_ education', 'Husband_education',\n",
       "       'No_of_children_born', 'Wife_religion', 'Wife_Working',\n",
       "       'Husband_Occupation', 'Standard_of_living_index', 'Media_exposure ',\n",
       "       'Contraceptive_method_used'],\n",
       "      dtype='object')"
      ]
     },
     "execution_count": 18,
     "metadata": {},
     "output_type": "execute_result"
    }
   ],
   "source": [
    "df.columns"
   ]
  },
  {
   "cell_type": "markdown",
   "id": "de36c4da",
   "metadata": {},
   "source": [
    "**EDA**"
   ]
  },
  {
   "cell_type": "code",
   "execution_count": 19,
   "id": "7cd68f16",
   "metadata": {},
   "outputs": [
    {
     "data": {
      "image/png": "[encoded data removed]",
      "text/plain": [
       "<Figure size 1440x864 with 6 Axes>"
      ]
     },
     "metadata": {
      "needs_background": "light"
     },
     "output_type": "display_data"
    }
   ],
   "source": [
    "fig, axes = plt.subplots(nrows=2,ncols=3)\n",
    "fig.set_size_inches(20,12)\n",
    "sns.countplot(data=df, x='Wife_religion',ax=axes[0][0]);\n",
    "sns.countplot(data=df, x='Media_exposure ',ax=axes[0][1]);\n",
    "sns.countplot(data=df, x='Standard_of_living_index',ax=axes[0][2]);\n",
    "sns.countplot(data=df, x='Wife_Working',ax=axes[1][0]);\n",
    "sns.countplot(data=df, x='Wife_ education', ax=axes[1][1]);\n",
    "sns.countplot(data=df, x='Husband_education', ax=axes[1][2]);"
   ]
  },
  {
   "cell_type": "code",
   "execution_count": 20,
   "id": "6c80bbd4",
   "metadata": {
    "scrolled": false
   },
   "outputs": [
    {
     "data": {
      "image/png": "[encoded data removed]",
      "text/plain": [
       "<Figure size 1080x1800 with 8 Axes>"
      ]
     },
     "metadata": {
      "needs_background": "light"
     },
     "output_type": "display_data"
    }
   ],
   "source": [
    "fig, axes = plt.subplots(nrows=4,ncols=2)\n",
    "fig.set_size_inches(15,25)\n",
    "sns.barplot(data=df,x='Wife_ education',y='Wife_age',hue='Contraceptive_method_used', ci=False,ax=axes[0][0]);\n",
    "sns.barplot(data=df,y='No_of_children_born',x='Wife_age', ci=False,ax=axes[0][1]);\n",
    "sns.barplot(data=df,x='Wife_Working',y='Wife_age', ci=False,ax=axes[1][0]);\n",
    "sns.barplot(data=df,x='Standard_of_living_index',y='Wife_age', ci=False,ax=axes[1][1]);\n",
    "sns.barplot(data=df,x='Media_exposure ',y='Wife_age', ci=False,ax=axes[2][0]);\n",
    "sns.barplot(data=df,x='Husband_Occupation',y='Wife_age', ci=False,ax=axes[2][1]);\n",
    "sns.barplot(data=df,y='No_of_children_born',x='Wife_ education', ci=False,estimator=np.mean,ax=axes[3][0]);\n",
    "sns.barplot(data=df,y='No_of_children_born',x='Contraceptive_method_used', ci=False,estimator=np.sum,ax=axes[3][1]);"
   ]
  },
  {
   "cell_type": "code",
   "execution_count": 21,
   "id": "5162f60a",
   "metadata": {},
   "outputs": [
    {
     "data": {
      "image/png": "[encoded data removed]",
      "text/plain": [
       "<Figure size 1080x720 with 4 Axes>"
      ]
     },
     "metadata": {
      "needs_background": "light"
     },
     "output_type": "display_data"
    }
   ],
   "source": [
    "fig, axes = plt.subplots(nrows=2,ncols=2)\n",
    "fig.set_size_inches(15,10)\n",
    "sns.histplot(df['Wife_age'],bins=10,kde=True,color='purple',edgecolor='k',alpha=0.7,ax=axes[0][0]);\n",
    "sns.boxplot(data=df,y='Wife_age',ax=axes[0][1]);\n",
    "sns.histplot(df['No_of_children_born'],kde=True,ax=axes[1][0],bins=10,color='purple',edgecolor='k',alpha=0.7,);\n",
    "sns.boxplot(data=df,y='No_of_children_born',ax=axes[1][1]);"
   ]
  },
  {
   "cell_type": "code",
   "execution_count": null,
   "id": "630c886f",
   "metadata": {},
   "outputs": [],
   "source": []
  },
  {
   "cell_type": "code",
   "execution_count": 22,
   "id": "199891d4",
   "metadata": {
    "scrolled": true
   },
   "outputs": [
    {
     "data": {
      "image/png": "[encoded data removed]",
      "text/plain": [
       "<Figure size 432x288 with 1 Axes>"
      ]
     },
     "metadata": {
      "needs_background": "light"
     },
     "output_type": "display_data"
    }
   ],
   "source": [
    "sns.stripplot(x ='Husband_education', y='Wife_age',data = df,jitter = True, hue ='Contraceptive_method_used', dodge = True);\n",
    "plt.legend(loc=[1.01,0.85]);"
   ]
  },
  {
   "cell_type": "code",
   "execution_count": 23,
   "id": "64350cc8",
   "metadata": {},
   "outputs": [
    {
     "data": {
      "text/plain": [
       "Index(['Wife_age', 'Wife_ education', 'Husband_education',\n",
       "       'No_of_children_born', 'Wife_religion', 'Wife_Working',\n",
       "       'Husband_Occupation', 'Standard_of_living_index', 'Media_exposure ',\n",
       "       'Contraceptive_method_used'],\n",
       "      dtype='object')"
      ]
     },
     "execution_count": 23,
     "metadata": {},
     "output_type": "execute_result"
    }
   ],
   "source": [
    "df.columns"
   ]
  },
  {
   "cell_type": "code",
   "execution_count": 24,
   "id": "75413af5",
   "metadata": {},
   "outputs": [
    {
     "data": {
      "image/png": "[encoded data removed]",
      "text/plain": [
       "<Figure size 1440x864 with 6 Axes>"
      ]
     },
     "metadata": {
      "needs_background": "light"
     },
     "output_type": "display_data"
    }
   ],
   "source": [
    "fig, axes = plt.subplots(nrows=2,ncols=3)\n",
    "fig.set_size_inches(20,12)\n",
    "sns.countplot(data=df, x='Wife_religion', hue='Contraceptive_method_used',ax=axes[0][0]);\n",
    "sns.countplot(data=df, x='Media_exposure ', hue='Contraceptive_method_used',ax=axes[0][1]);\n",
    "sns.countplot(data=df, x='Standard_of_living_index', hue='Contraceptive_method_used',ax=axes[0][2]);\n",
    "sns.countplot(data=df, x='Wife_Working', hue='Contraceptive_method_used',ax=axes[1][0]);\n",
    "sns.countplot(data=df, x='Wife_ education', hue='Contraceptive_method_used',ax=axes[1][1]);\n",
    "sns.countplot(data=df, x='Husband_education', hue='Contraceptive_method_used',ax=axes[1][2]);"
   ]
  },
  {
   "cell_type": "code",
   "execution_count": null,
   "id": "de9f94e5",
   "metadata": {},
   "outputs": [],
   "source": []
  },
  {
   "cell_type": "code",
   "execution_count": null,
   "id": "1fd04a51",
   "metadata": {},
   "outputs": [],
   "source": []
  },
  {
   "cell_type": "markdown",
   "id": "2c77f248",
   "metadata": {},
   "source": [
    "**Encoding the data**"
   ]
  },
  {
   "cell_type": "code",
   "execution_count": 25,
   "id": "cb6e2e4c",
   "metadata": {
    "scrolled": true
   },
   "outputs": [
    {
     "name": "stdout",
     "output_type": "stream",
     "text": [
      "WIFE_ EDUCATION ===  4\n",
      "Tertiary      577\n",
      "Secondary     410\n",
      "Primary       334\n",
      "Uneducated    152\n",
      "Name: Wife_ education, dtype: int64\n",
      "\n",
      "\n",
      "HUSBAND_EDUCATION ===  4\n",
      "Tertiary      899\n",
      "Secondary     352\n",
      "Primary       178\n",
      "Uneducated     44\n",
      "Name: Husband_education, dtype: int64\n",
      "\n",
      "\n",
      "WIFE_RELIGION ===  2\n",
      "Scientology        1253\n",
      "Non-Scientology     220\n",
      "Name: Wife_religion, dtype: int64\n",
      "\n",
      "\n",
      "WIFE_WORKING ===  2\n",
      "No     1104\n",
      "Yes     369\n",
      "Name: Wife_Working, dtype: int64\n",
      "\n",
      "\n",
      "HUSBAND_OCCUPATION ===  4\n",
      "3    585\n",
      "1    436\n",
      "2    425\n",
      "4     27\n",
      "Name: Husband_Occupation, dtype: int64\n",
      "\n",
      "\n",
      "STANDARD_OF_LIVING_INDEX ===  4\n",
      "Very High    684\n",
      "High         431\n",
      "Low          229\n",
      "Very Low     129\n",
      "Name: Standard_of_living_index, dtype: int64\n",
      "\n",
      "\n",
      "MEDIA_EXPOSURE  ===  2\n",
      "Exposed        1364\n",
      "Not-Exposed     109\n",
      "Name: Media_exposure , dtype: int64\n",
      "\n",
      "\n",
      "CONTRACEPTIVE_METHOD_USED ===  2\n",
      "Yes    844\n",
      "No     629\n",
      "Name: Contraceptive_method_used, dtype: int64\n",
      "\n",
      "\n"
     ]
    }
   ],
   "source": [
    "for column in df.columns:\n",
    "    if df[column].dtype == 'object':\n",
    "        print(column.upper(),'=== ',df[column].nunique())\n",
    "        print(df[column].value_counts().sort_values(ascending=False))\n",
    "        print('\\n')"
   ]
  },
  {
   "cell_type": "code",
   "execution_count": 26,
   "id": "f91da96a",
   "metadata": {},
   "outputs": [],
   "source": [
    "## We are coding up the 'WIFE_ EDUCATION, HUSBAND_EDUCATION, STANDARD_OF_LIVING_INDEX' variable in an ordinal manner\n",
    "\n",
    "df['Wife_ education']=np.where(df['Wife_ education'] =='Uneducated', '1', df['Wife_ education'])\n",
    "df['Wife_ education']=np.where(df['Wife_ education'] =='Primary', '2', df['Wife_ education'])\n",
    "df['Wife_ education']=np.where(df['Wife_ education'] =='Secondary', '3', df['Wife_ education'])\n",
    "df['Wife_ education']=np.where(df['Wife_ education'] =='Tertiary', '4', df['Wife_ education'])\n",
    "df['Husband_education']=np.where(df['Husband_education'] =='Uneducated', '1', df['Husband_education'])\n",
    "df['Husband_education']=np.where(df['Husband_education'] =='Primary', '2', df['Husband_education'])\n",
    "df['Husband_education']=np.where(df['Husband_education'] =='Secondary', '3', df['Husband_education'])\n",
    "df['Husband_education']=np.where(df['Husband_education'] =='Tertiary', '4', df['Husband_education'])\n",
    "df['Standard_of_living_index']=np.where(df['Standard_of_living_index'] =='Very Low', '1', df['Standard_of_living_index'])\n",
    "df['Standard_of_living_index']=np.where(df['Standard_of_living_index'] =='Low', '2', df['Standard_of_living_index'])\n",
    "df['Standard_of_living_index']=np.where(df['Standard_of_living_index'] =='High', '3', df['Standard_of_living_index'])\n",
    "df['Standard_of_living_index']=np.where(df['Standard_of_living_index'] =='Very High', '4', df['Standard_of_living_index'])"
   ]
  },
  {
   "cell_type": "code",
   "execution_count": 27,
   "id": "34363c83",
   "metadata": {},
   "outputs": [
    {
     "name": "stdout",
     "output_type": "stream",
     "text": [
      "<class 'pandas.core.frame.DataFrame'>\n",
      "RangeIndex: 1473 entries, 0 to 1472\n",
      "Data columns (total 10 columns):\n",
      " #   Column                     Non-Null Count  Dtype  \n",
      "---  ------                     --------------  -----  \n",
      " 0   Wife_age                   1473 non-null   float64\n",
      " 1   Wife_ education            1473 non-null   int8   \n",
      " 2   Husband_education          1473 non-null   int8   \n",
      " 3   No_of_children_born        1473 non-null   float64\n",
      " 4   Wife_religion              1473 non-null   object \n",
      " 5   Wife_Working               1473 non-null   object \n",
      " 6   Husband_Occupation         1473 non-null   int8   \n",
      " 7   Standard_of_living_index   1473 non-null   int8   \n",
      " 8   Media_exposure             1473 non-null   object \n",
      " 9   Contraceptive_method_used  1473 non-null   object \n",
      "dtypes: float64(2), int8(4), object(4)\n",
      "memory usage: 74.9+ KB\n"
     ]
    }
   ],
   "source": [
    "df['Husband_Occupation']=df['Husband_Occupation'].astype('int8')\n",
    "df['Wife_ education']=df['Wife_ education'].astype('int8')\n",
    "df['Husband_education']=df['Husband_education'].astype('int8')\n",
    "df['Standard_of_living_index']=df['Standard_of_living_index'].astype('int8')\n",
    "\n",
    "df.info()"
   ]
  },
  {
   "cell_type": "code",
   "execution_count": 28,
   "id": "fcb69411",
   "metadata": {
    "scrolled": true
   },
   "outputs": [
    {
     "name": "stdout",
     "output_type": "stream",
     "text": [
      "<class 'pandas.core.frame.DataFrame'>\n",
      "RangeIndex: 1473 entries, 0 to 1472\n",
      "Data columns (total 10 columns):\n",
      " #   Column                     Non-Null Count  Dtype  \n",
      "---  ------                     --------------  -----  \n",
      " 0   Wife_age                   1473 non-null   float64\n",
      " 1   Wife_ education            1473 non-null   int8   \n",
      " 2   Husband_education          1473 non-null   int8   \n",
      " 3   No_of_children_born        1473 non-null   float64\n",
      " 4   Wife_religion              1473 non-null   object \n",
      " 5   Wife_Working               1473 non-null   object \n",
      " 6   Husband_Occupation         1473 non-null   int8   \n",
      " 7   Standard_of_living_index   1473 non-null   int8   \n",
      " 8   Media_exposure             1473 non-null   object \n",
      " 9   Contraceptive_method_used  1473 non-null   object \n",
      "dtypes: float64(2), int8(4), object(4)\n",
      "memory usage: 74.9+ KB\n"
     ]
    }
   ],
   "source": [
    "df.info()"
   ]
  },
  {
   "cell_type": "markdown",
   "id": "8be2edaf",
   "metadata": {},
   "source": [
    "**Find Duplicates**"
   ]
  },
  {
   "cell_type": "code",
   "execution_count": 29,
   "id": "c129661c",
   "metadata": {},
   "outputs": [
    {
     "name": "stdout",
     "output_type": "stream",
     "text": [
      "Number of duplicate rows = 85\n",
      "(1473, 10)\n"
     ]
    }
   ],
   "source": [
    "dups = df.duplicated()\n",
    "print('Number of duplicate rows = %d' % (dups.sum()))\n",
    "print(df.shape)"
   ]
  },
  {
   "cell_type": "code",
   "execution_count": 30,
   "id": "1d4108bc",
   "metadata": {},
   "outputs": [
    {
     "data": {
      "text/plain": [
       "5.770536320434488"
      ]
     },
     "execution_count": 30,
     "metadata": {},
     "output_type": "execute_result"
    }
   ],
   "source": [
    "85/1473*100"
   ]
  },
  {
   "cell_type": "code",
   "execution_count": 31,
   "id": "502e8f07",
   "metadata": {
    "scrolled": true
   },
   "outputs": [
    {
     "data": {
      "text/html": [
       "<div>\n",
       "<style scoped>\n",
       "    .dataframe tbody tr th:only-of-type {\n",
       "        vertical-align: middle;\n",
       "    }\n",
       "\n",
       "    .dataframe tbody tr th {\n",
       "        vertical-align: top;\n",
       "    }\n",
       "\n",
       "    .dataframe thead th {\n",
       "        text-align: right;\n",
       "    }\n",
       "</style>\n",
       "<table border=\"1\" class=\"dataframe\">\n",
       "  <thead>\n",
       "    <tr style=\"text-align: right;\">\n",
       "      <th></th>\n",
       "      <th>Wife_age</th>\n",
       "      <th>Wife_ education</th>\n",
       "      <th>Husband_education</th>\n",
       "      <th>No_of_children_born</th>\n",
       "      <th>Wife_religion</th>\n",
       "      <th>Wife_Working</th>\n",
       "      <th>Husband_Occupation</th>\n",
       "      <th>Standard_of_living_index</th>\n",
       "      <th>Media_exposure</th>\n",
       "      <th>Contraceptive_method_used</th>\n",
       "    </tr>\n",
       "  </thead>\n",
       "  <tbody>\n",
       "    <tr>\n",
       "      <th>79</th>\n",
       "      <td>38.0</td>\n",
       "      <td>4</td>\n",
       "      <td>4</td>\n",
       "      <td>1.0</td>\n",
       "      <td>Scientology</td>\n",
       "      <td>Yes</td>\n",
       "      <td>1</td>\n",
       "      <td>4</td>\n",
       "      <td>Exposed</td>\n",
       "      <td>No</td>\n",
       "    </tr>\n",
       "    <tr>\n",
       "      <th>167</th>\n",
       "      <td>26.0</td>\n",
       "      <td>4</td>\n",
       "      <td>4</td>\n",
       "      <td>1.0</td>\n",
       "      <td>Scientology</td>\n",
       "      <td>No</td>\n",
       "      <td>1</td>\n",
       "      <td>4</td>\n",
       "      <td>Exposed</td>\n",
       "      <td>No</td>\n",
       "    </tr>\n",
       "    <tr>\n",
       "      <th>224</th>\n",
       "      <td>47.0</td>\n",
       "      <td>4</td>\n",
       "      <td>4</td>\n",
       "      <td>4.0</td>\n",
       "      <td>Scientology</td>\n",
       "      <td>No</td>\n",
       "      <td>1</td>\n",
       "      <td>4</td>\n",
       "      <td>Exposed</td>\n",
       "      <td>No</td>\n",
       "    </tr>\n",
       "    <tr>\n",
       "      <th>270</th>\n",
       "      <td>30.0</td>\n",
       "      <td>4</td>\n",
       "      <td>4</td>\n",
       "      <td>2.0</td>\n",
       "      <td>Scientology</td>\n",
       "      <td>No</td>\n",
       "      <td>1</td>\n",
       "      <td>4</td>\n",
       "      <td>Exposed</td>\n",
       "      <td>No</td>\n",
       "    </tr>\n",
       "    <tr>\n",
       "      <th>299</th>\n",
       "      <td>26.0</td>\n",
       "      <td>4</td>\n",
       "      <td>4</td>\n",
       "      <td>1.0</td>\n",
       "      <td>Scientology</td>\n",
       "      <td>No</td>\n",
       "      <td>1</td>\n",
       "      <td>4</td>\n",
       "      <td>Exposed</td>\n",
       "      <td>No</td>\n",
       "    </tr>\n",
       "  </tbody>\n",
       "</table>\n",
       "</div>"
      ],
      "text/plain": [
       "     Wife_age  Wife_ education  Husband_education  No_of_children_born  \\\n",
       "79       38.0                4                  4                  1.0   \n",
       "167      26.0                4                  4                  1.0   \n",
       "224      47.0                4                  4                  4.0   \n",
       "270      30.0                4                  4                  2.0   \n",
       "299      26.0                4                  4                  1.0   \n",
       "\n",
       "    Wife_religion Wife_Working  Husband_Occupation  Standard_of_living_index  \\\n",
       "79    Scientology          Yes                   1                         4   \n",
       "167   Scientology           No                   1                         4   \n",
       "224   Scientology           No                   1                         4   \n",
       "270   Scientology           No                   1                         4   \n",
       "299   Scientology           No                   1                         4   \n",
       "\n",
       "    Media_exposure  Contraceptive_method_used  \n",
       "79          Exposed                        No  \n",
       "167         Exposed                        No  \n",
       "224         Exposed                        No  \n",
       "270         Exposed                        No  \n",
       "299         Exposed                        No  "
      ]
     },
     "execution_count": 31,
     "metadata": {},
     "output_type": "execute_result"
    }
   ],
   "source": [
    "df[dups].head()"
   ]
  },
  {
   "cell_type": "code",
   "execution_count": 32,
   "id": "b1a4d274",
   "metadata": {},
   "outputs": [],
   "source": [
    "df_dups=df[dups].head().style.background_gradient()\n",
    "dfi.export(df_dups, 'df_dups.png',table_conversion=\"matplotlib\")"
   ]
  },
  {
   "cell_type": "markdown",
   "id": "5325d2d0",
   "metadata": {},
   "source": [
    "As some of the data from rows looks similar nut other data from same rows is unique. So should not delete the data."
   ]
  },
  {
   "cell_type": "code",
   "execution_count": 33,
   "id": "6db5ee7e",
   "metadata": {},
   "outputs": [
    {
     "data": {
      "image/png": "[encoded data removed]",
      "text/plain": [
       "<Figure size 1440x576 with 1 Axes>"
      ]
     },
     "metadata": {
      "needs_background": "light"
     },
     "output_type": "display_data"
    }
   ],
   "source": [
    "plt.figure(figsize=(20 ,8))\n",
    "df.boxplot(grid=True);\n",
    "plt.xticks(fontsize=15);\n",
    "plt.yticks(fontsize=15);\n",
    "plt.title('Boxplot before Outlier Treatment', fontsize=16);"
   ]
  },
  {
   "cell_type": "code",
   "execution_count": 34,
   "id": "0c741b4c",
   "metadata": {},
   "outputs": [
    {
     "name": "stdout",
     "output_type": "stream",
     "text": [
      "(array([   1,    3,   35,   60,   95,  179,  182,  192,  200,  249,  267,\n",
      "        296,  444,  485,  519,  561,  564,  653,  675,  747,  834,  955,\n",
      "        993,  998,  999, 1001, 1013, 1029, 1045, 1063, 1110, 1120, 1138,\n",
      "       1139, 1142, 1152, 1204, 1223, 1248, 1271, 1324, 1342, 1344, 1405,\n",
      "       1415], dtype=int64),)\n"
     ]
    }
   ],
   "source": [
    "# Position of the Outlier\n",
    "print(np.where(df['No_of_children_born']>8))"
   ]
  },
  {
   "cell_type": "markdown",
   "id": "a00d47da",
   "metadata": {},
   "source": [
    "As uneducated females has more count of children"
   ]
  },
  {
   "cell_type": "markdown",
   "id": "b71f59fe",
   "metadata": {},
   "source": [
    "**Heatemap**"
   ]
  },
  {
   "cell_type": "code",
   "execution_count": 35,
   "id": "c586518e",
   "metadata": {},
   "outputs": [
    {
     "data": {
      "text/html": [
       "<div>\n",
       "<style scoped>\n",
       "    .dataframe tbody tr th:only-of-type {\n",
       "        vertical-align: middle;\n",
       "    }\n",
       "\n",
       "    .dataframe tbody tr th {\n",
       "        vertical-align: top;\n",
       "    }\n",
       "\n",
       "    .dataframe thead th {\n",
       "        text-align: right;\n",
       "    }\n",
       "</style>\n",
       "<table border=\"1\" class=\"dataframe\">\n",
       "  <thead>\n",
       "    <tr style=\"text-align: right;\">\n",
       "      <th></th>\n",
       "      <th>Wife_age</th>\n",
       "      <th>Wife_ education</th>\n",
       "      <th>Husband_education</th>\n",
       "      <th>No_of_children_born</th>\n",
       "      <th>Husband_Occupation</th>\n",
       "      <th>Standard_of_living_index</th>\n",
       "    </tr>\n",
       "  </thead>\n",
       "  <tbody>\n",
       "    <tr>\n",
       "      <th>Wife_age</th>\n",
       "      <td>1.000000</td>\n",
       "      <td>-0.039194</td>\n",
       "      <td>-0.049708</td>\n",
       "      <td>0.526923</td>\n",
       "      <td>-0.200720</td>\n",
       "      <td>0.176384</td>\n",
       "    </tr>\n",
       "    <tr>\n",
       "      <th>Wife_ education</th>\n",
       "      <td>-0.039194</td>\n",
       "      <td>1.000000</td>\n",
       "      <td>0.618369</td>\n",
       "      <td>-0.192009</td>\n",
       "      <td>-0.395921</td>\n",
       "      <td>0.361450</td>\n",
       "    </tr>\n",
       "    <tr>\n",
       "      <th>Husband_education</th>\n",
       "      <td>-0.049708</td>\n",
       "      <td>0.618369</td>\n",
       "      <td>1.000000</td>\n",
       "      <td>-0.186945</td>\n",
       "      <td>-0.337003</td>\n",
       "      <td>0.357490</td>\n",
       "    </tr>\n",
       "    <tr>\n",
       "      <th>No_of_children_born</th>\n",
       "      <td>0.526923</td>\n",
       "      <td>-0.192009</td>\n",
       "      <td>-0.186945</td>\n",
       "      <td>1.000000</td>\n",
       "      <td>-0.020354</td>\n",
       "      <td>-0.008994</td>\n",
       "    </tr>\n",
       "    <tr>\n",
       "      <th>Husband_Occupation</th>\n",
       "      <td>-0.200720</td>\n",
       "      <td>-0.395921</td>\n",
       "      <td>-0.337003</td>\n",
       "      <td>-0.020354</td>\n",
       "      <td>1.000000</td>\n",
       "      <td>-0.293831</td>\n",
       "    </tr>\n",
       "    <tr>\n",
       "      <th>Standard_of_living_index</th>\n",
       "      <td>0.176384</td>\n",
       "      <td>0.361450</td>\n",
       "      <td>0.357490</td>\n",
       "      <td>-0.008994</td>\n",
       "      <td>-0.293831</td>\n",
       "      <td>1.000000</td>\n",
       "    </tr>\n",
       "  </tbody>\n",
       "</table>\n",
       "</div>"
      ],
      "text/plain": [
       "                          Wife_age  Wife_ education  Husband_education  \\\n",
       "Wife_age                  1.000000        -0.039194          -0.049708   \n",
       "Wife_ education          -0.039194         1.000000           0.618369   \n",
       "Husband_education        -0.049708         0.618369           1.000000   \n",
       "No_of_children_born       0.526923        -0.192009          -0.186945   \n",
       "Husband_Occupation       -0.200720        -0.395921          -0.337003   \n",
       "Standard_of_living_index  0.176384         0.361450           0.357490   \n",
       "\n",
       "                          No_of_children_born  Husband_Occupation  \\\n",
       "Wife_age                             0.526923           -0.200720   \n",
       "Wife_ education                     -0.192009           -0.395921   \n",
       "Husband_education                   -0.186945           -0.337003   \n",
       "No_of_children_born                  1.000000           -0.020354   \n",
       "Husband_Occupation                  -0.020354            1.000000   \n",
       "Standard_of_living_index            -0.008994           -0.293831   \n",
       "\n",
       "                          Standard_of_living_index  \n",
       "Wife_age                                  0.176384  \n",
       "Wife_ education                           0.361450  \n",
       "Husband_education                         0.357490  \n",
       "No_of_children_born                      -0.008994  \n",
       "Husband_Occupation                       -0.293831  \n",
       "Standard_of_living_index                  1.000000  "
      ]
     },
     "execution_count": 35,
     "metadata": {},
     "output_type": "execute_result"
    }
   ],
   "source": [
    "df.corr()"
   ]
  },
  {
   "cell_type": "code",
   "execution_count": 36,
   "id": "258e8568",
   "metadata": {},
   "outputs": [
    {
     "data": {
      "image/png": "[encoded data removed]",
      "text/plain": [
       "<Figure size 720x576 with 2 Axes>"
      ]
     },
     "metadata": {
      "needs_background": "light"
     },
     "output_type": "display_data"
    }
   ],
   "source": [
    "plt.figure(figsize=(10,8))\n",
    "mask=np.array(df.corr())\n",
    "mask[np.tril_indices_from(df.corr())]=False\n",
    "sns.heatmap(data=df.corr(), annot =True, mask = mask, vmax =1, vmin=-1, cmap =\"viridis\",linewidth=1.5);"
   ]
  },
  {
   "cell_type": "code",
   "execution_count": 37,
   "id": "3ce8daec",
   "metadata": {
    "scrolled": false
   },
   "outputs": [
    {
     "data": {
      "text/plain": [
       "<seaborn.axisgrid.PairGrid at 0x280379f3ee0>"
      ]
     },
     "execution_count": 37,
     "metadata": {},
     "output_type": "execute_result"
    },
    {
     "data": {
      "image/png": "[encoded data removed]",
      "text/plain": [
       "<Figure size 1080x1080 with 27 Axes>"
      ]
     },
     "metadata": {
      "needs_background": "light"
     },
     "output_type": "display_data"
    }
   ],
   "source": [
    "## Plotting a pairplot -  Checking for correlation between variables\n",
    "pair=sns.pairplot(df, diag_kind='kde', corner=True)  \n",
    "pair"
   ]
  },
  {
   "cell_type": "code",
   "execution_count": 38,
   "id": "6951dc9d",
   "metadata": {},
   "outputs": [],
   "source": [
    "## Converting the 'salary' Variable into numeric by using the LabelEncoder functionality inside sklearn.\n",
    "from sklearn.preprocessing import LabelEncoder\n",
    "\n",
    "## Defining a Label Encoder object instance\n",
    "LE = LabelEncoder()"
   ]
  },
  {
   "cell_type": "code",
   "execution_count": 39,
   "id": "380495a3",
   "metadata": {},
   "outputs": [
    {
     "data": {
      "text/html": [
       "<div>\n",
       "<style scoped>\n",
       "    .dataframe tbody tr th:only-of-type {\n",
       "        vertical-align: middle;\n",
       "    }\n",
       "\n",
       "    .dataframe tbody tr th {\n",
       "        vertical-align: top;\n",
       "    }\n",
       "\n",
       "    .dataframe thead th {\n",
       "        text-align: right;\n",
       "    }\n",
       "</style>\n",
       "<table border=\"1\" class=\"dataframe\">\n",
       "  <thead>\n",
       "    <tr style=\"text-align: right;\">\n",
       "      <th></th>\n",
       "      <th>Wife_age</th>\n",
       "      <th>Wife_ education</th>\n",
       "      <th>Husband_education</th>\n",
       "      <th>No_of_children_born</th>\n",
       "      <th>Wife_religion</th>\n",
       "      <th>Wife_Working</th>\n",
       "      <th>Husband_Occupation</th>\n",
       "      <th>Standard_of_living_index</th>\n",
       "      <th>Media_exposure</th>\n",
       "      <th>Contraceptive_method_used</th>\n",
       "    </tr>\n",
       "  </thead>\n",
       "  <tbody>\n",
       "    <tr>\n",
       "      <th>0</th>\n",
       "      <td>24.0</td>\n",
       "      <td>2</td>\n",
       "      <td>3</td>\n",
       "      <td>3.0</td>\n",
       "      <td>Scientology</td>\n",
       "      <td>No</td>\n",
       "      <td>2</td>\n",
       "      <td>3</td>\n",
       "      <td>Exposed</td>\n",
       "      <td>0</td>\n",
       "    </tr>\n",
       "    <tr>\n",
       "      <th>1</th>\n",
       "      <td>45.0</td>\n",
       "      <td>1</td>\n",
       "      <td>3</td>\n",
       "      <td>10.0</td>\n",
       "      <td>Scientology</td>\n",
       "      <td>No</td>\n",
       "      <td>3</td>\n",
       "      <td>4</td>\n",
       "      <td>Exposed</td>\n",
       "      <td>0</td>\n",
       "    </tr>\n",
       "    <tr>\n",
       "      <th>2</th>\n",
       "      <td>43.0</td>\n",
       "      <td>2</td>\n",
       "      <td>3</td>\n",
       "      <td>7.0</td>\n",
       "      <td>Scientology</td>\n",
       "      <td>No</td>\n",
       "      <td>3</td>\n",
       "      <td>4</td>\n",
       "      <td>Exposed</td>\n",
       "      <td>0</td>\n",
       "    </tr>\n",
       "    <tr>\n",
       "      <th>3</th>\n",
       "      <td>42.0</td>\n",
       "      <td>3</td>\n",
       "      <td>2</td>\n",
       "      <td>9.0</td>\n",
       "      <td>Scientology</td>\n",
       "      <td>No</td>\n",
       "      <td>3</td>\n",
       "      <td>3</td>\n",
       "      <td>Exposed</td>\n",
       "      <td>0</td>\n",
       "    </tr>\n",
       "    <tr>\n",
       "      <th>4</th>\n",
       "      <td>36.0</td>\n",
       "      <td>3</td>\n",
       "      <td>3</td>\n",
       "      <td>8.0</td>\n",
       "      <td>Scientology</td>\n",
       "      <td>No</td>\n",
       "      <td>3</td>\n",
       "      <td>2</td>\n",
       "      <td>Exposed</td>\n",
       "      <td>0</td>\n",
       "    </tr>\n",
       "  </tbody>\n",
       "</table>\n",
       "</div>"
      ],
      "text/plain": [
       "   Wife_age  Wife_ education  Husband_education  No_of_children_born  \\\n",
       "0      24.0                2                  3                  3.0   \n",
       "1      45.0                1                  3                 10.0   \n",
       "2      43.0                2                  3                  7.0   \n",
       "3      42.0                3                  2                  9.0   \n",
       "4      36.0                3                  3                  8.0   \n",
       "\n",
       "  Wife_religion Wife_Working  Husband_Occupation  Standard_of_living_index  \\\n",
       "0   Scientology           No                   2                         3   \n",
       "1   Scientology           No                   3                         4   \n",
       "2   Scientology           No                   3                         4   \n",
       "3   Scientology           No                   3                         3   \n",
       "4   Scientology           No                   3                         2   \n",
       "\n",
       "  Media_exposure   Contraceptive_method_used  \n",
       "0         Exposed                          0  \n",
       "1         Exposed                          0  \n",
       "2         Exposed                          0  \n",
       "3         Exposed                          0  \n",
       "4         Exposed                          0  "
      ]
     },
     "execution_count": 39,
     "metadata": {},
     "output_type": "execute_result"
    }
   ],
   "source": [
    "df['Contraceptive_method_used'] = LE.fit_transform(df['Contraceptive_method_used'])\n",
    "df.head()"
   ]
  },
  {
   "cell_type": "code",
   "execution_count": 40,
   "id": "5be817f5",
   "metadata": {},
   "outputs": [
    {
     "data": {
      "text/plain": [
       "1    0.57298\n",
       "0    0.42702\n",
       "Name: Contraceptive_method_used, dtype: float64"
      ]
     },
     "execution_count": 40,
     "metadata": {},
     "output_type": "execute_result"
    }
   ],
   "source": [
    "#Checking distribution in target column/variable.\n",
    "df['Contraceptive_method_used'].value_counts(normalize=True)"
   ]
  },
  {
   "cell_type": "code",
   "execution_count": 41,
   "id": "4361efc3",
   "metadata": {},
   "outputs": [
    {
     "data": {
      "text/html": [
       "<div>\n",
       "<style scoped>\n",
       "    .dataframe tbody tr th:only-of-type {\n",
       "        vertical-align: middle;\n",
       "    }\n",
       "\n",
       "    .dataframe tbody tr th {\n",
       "        vertical-align: top;\n",
       "    }\n",
       "\n",
       "    .dataframe thead th {\n",
       "        text-align: right;\n",
       "    }\n",
       "</style>\n",
       "<table border=\"1\" class=\"dataframe\">\n",
       "  <thead>\n",
       "    <tr style=\"text-align: right;\">\n",
       "      <th></th>\n",
       "      <th>Wife_age</th>\n",
       "      <th>Wife_ education</th>\n",
       "      <th>Husband_education</th>\n",
       "      <th>No_of_children_born</th>\n",
       "      <th>Wife_religion</th>\n",
       "      <th>Wife_Working</th>\n",
       "      <th>Husband_Occupation</th>\n",
       "      <th>Standard_of_living_index</th>\n",
       "      <th>Media_exposure</th>\n",
       "      <th>Contraceptive_method_used</th>\n",
       "    </tr>\n",
       "  </thead>\n",
       "  <tbody>\n",
       "    <tr>\n",
       "      <th>1468</th>\n",
       "      <td>33.0</td>\n",
       "      <td>4</td>\n",
       "      <td>4</td>\n",
       "      <td>3.0</td>\n",
       "      <td>Scientology</td>\n",
       "      <td>Yes</td>\n",
       "      <td>2</td>\n",
       "      <td>4</td>\n",
       "      <td>Exposed</td>\n",
       "      <td>1</td>\n",
       "    </tr>\n",
       "    <tr>\n",
       "      <th>1469</th>\n",
       "      <td>33.0</td>\n",
       "      <td>4</td>\n",
       "      <td>4</td>\n",
       "      <td>3.0</td>\n",
       "      <td>Scientology</td>\n",
       "      <td>No</td>\n",
       "      <td>1</td>\n",
       "      <td>4</td>\n",
       "      <td>Exposed</td>\n",
       "      <td>1</td>\n",
       "    </tr>\n",
       "    <tr>\n",
       "      <th>1470</th>\n",
       "      <td>39.0</td>\n",
       "      <td>3</td>\n",
       "      <td>3</td>\n",
       "      <td>3.0</td>\n",
       "      <td>Scientology</td>\n",
       "      <td>Yes</td>\n",
       "      <td>1</td>\n",
       "      <td>4</td>\n",
       "      <td>Exposed</td>\n",
       "      <td>1</td>\n",
       "    </tr>\n",
       "    <tr>\n",
       "      <th>1471</th>\n",
       "      <td>33.0</td>\n",
       "      <td>3</td>\n",
       "      <td>3</td>\n",
       "      <td>3.0</td>\n",
       "      <td>Scientology</td>\n",
       "      <td>Yes</td>\n",
       "      <td>2</td>\n",
       "      <td>2</td>\n",
       "      <td>Exposed</td>\n",
       "      <td>1</td>\n",
       "    </tr>\n",
       "    <tr>\n",
       "      <th>1472</th>\n",
       "      <td>17.0</td>\n",
       "      <td>3</td>\n",
       "      <td>3</td>\n",
       "      <td>1.0</td>\n",
       "      <td>Scientology</td>\n",
       "      <td>No</td>\n",
       "      <td>2</td>\n",
       "      <td>4</td>\n",
       "      <td>Exposed</td>\n",
       "      <td>1</td>\n",
       "    </tr>\n",
       "  </tbody>\n",
       "</table>\n",
       "</div>"
      ],
      "text/plain": [
       "      Wife_age  Wife_ education  Husband_education  No_of_children_born  \\\n",
       "1468      33.0                4                  4                  3.0   \n",
       "1469      33.0                4                  4                  3.0   \n",
       "1470      39.0                3                  3                  3.0   \n",
       "1471      33.0                3                  3                  3.0   \n",
       "1472      17.0                3                  3                  1.0   \n",
       "\n",
       "     Wife_religion Wife_Working  Husband_Occupation  Standard_of_living_index  \\\n",
       "1468   Scientology          Yes                   2                         4   \n",
       "1469   Scientology           No                   1                         4   \n",
       "1470   Scientology          Yes                   1                         4   \n",
       "1471   Scientology          Yes                   2                         2   \n",
       "1472   Scientology           No                   2                         4   \n",
       "\n",
       "     Media_exposure   Contraceptive_method_used  \n",
       "1468         Exposed                          1  \n",
       "1469         Exposed                          1  \n",
       "1470         Exposed                          1  \n",
       "1471         Exposed                          1  \n",
       "1472         Exposed                          1  "
      ]
     },
     "execution_count": 41,
     "metadata": {},
     "output_type": "execute_result"
    }
   ],
   "source": [
    "df.tail()"
   ]
  },
  {
   "cell_type": "markdown",
   "id": "ff367c10",
   "metadata": {},
   "source": [
    "**Converting into Dummies**"
   ]
  },
  {
   "cell_type": "code",
   "execution_count": 42,
   "id": "f83df22e",
   "metadata": {},
   "outputs": [
    {
     "data": {
      "text/html": [
       "<div>\n",
       "<style scoped>\n",
       "    .dataframe tbody tr th:only-of-type {\n",
       "        vertical-align: middle;\n",
       "    }\n",
       "\n",
       "    .dataframe tbody tr th {\n",
       "        vertical-align: top;\n",
       "    }\n",
       "\n",
       "    .dataframe thead th {\n",
       "        text-align: right;\n",
       "    }\n",
       "</style>\n",
       "<table border=\"1\" class=\"dataframe\">\n",
       "  <thead>\n",
       "    <tr style=\"text-align: right;\">\n",
       "      <th></th>\n",
       "      <th>Wife_age</th>\n",
       "      <th>Wife_ education</th>\n",
       "      <th>Husband_education</th>\n",
       "      <th>No_of_children_born</th>\n",
       "      <th>Husband_Occupation</th>\n",
       "      <th>Standard_of_living_index</th>\n",
       "      <th>Contraceptive_method_used</th>\n",
       "      <th>Wife_religion_Scientology</th>\n",
       "      <th>Wife_Working_Yes</th>\n",
       "      <th>Media_exposure _Not-Exposed</th>\n",
       "    </tr>\n",
       "  </thead>\n",
       "  <tbody>\n",
       "    <tr>\n",
       "      <th>0</th>\n",
       "      <td>24.0</td>\n",
       "      <td>2</td>\n",
       "      <td>3</td>\n",
       "      <td>3.0</td>\n",
       "      <td>2</td>\n",
       "      <td>3</td>\n",
       "      <td>0</td>\n",
       "      <td>1</td>\n",
       "      <td>0</td>\n",
       "      <td>0</td>\n",
       "    </tr>\n",
       "    <tr>\n",
       "      <th>1</th>\n",
       "      <td>45.0</td>\n",
       "      <td>1</td>\n",
       "      <td>3</td>\n",
       "      <td>10.0</td>\n",
       "      <td>3</td>\n",
       "      <td>4</td>\n",
       "      <td>0</td>\n",
       "      <td>1</td>\n",
       "      <td>0</td>\n",
       "      <td>0</td>\n",
       "    </tr>\n",
       "    <tr>\n",
       "      <th>2</th>\n",
       "      <td>43.0</td>\n",
       "      <td>2</td>\n",
       "      <td>3</td>\n",
       "      <td>7.0</td>\n",
       "      <td>3</td>\n",
       "      <td>4</td>\n",
       "      <td>0</td>\n",
       "      <td>1</td>\n",
       "      <td>0</td>\n",
       "      <td>0</td>\n",
       "    </tr>\n",
       "    <tr>\n",
       "      <th>3</th>\n",
       "      <td>42.0</td>\n",
       "      <td>3</td>\n",
       "      <td>2</td>\n",
       "      <td>9.0</td>\n",
       "      <td>3</td>\n",
       "      <td>3</td>\n",
       "      <td>0</td>\n",
       "      <td>1</td>\n",
       "      <td>0</td>\n",
       "      <td>0</td>\n",
       "    </tr>\n",
       "    <tr>\n",
       "      <th>4</th>\n",
       "      <td>36.0</td>\n",
       "      <td>3</td>\n",
       "      <td>3</td>\n",
       "      <td>8.0</td>\n",
       "      <td>3</td>\n",
       "      <td>2</td>\n",
       "      <td>0</td>\n",
       "      <td>1</td>\n",
       "      <td>0</td>\n",
       "      <td>0</td>\n",
       "    </tr>\n",
       "  </tbody>\n",
       "</table>\n",
       "</div>"
      ],
      "text/plain": [
       "   Wife_age  Wife_ education  Husband_education  No_of_children_born  \\\n",
       "0      24.0                2                  3                  3.0   \n",
       "1      45.0                1                  3                 10.0   \n",
       "2      43.0                2                  3                  7.0   \n",
       "3      42.0                3                  2                  9.0   \n",
       "4      36.0                3                  3                  8.0   \n",
       "\n",
       "   Husband_Occupation  Standard_of_living_index  Contraceptive_method_used  \\\n",
       "0                   2                         3                          0   \n",
       "1                   3                         4                          0   \n",
       "2                   3                         4                          0   \n",
       "3                   3                         3                          0   \n",
       "4                   3                         2                          0   \n",
       "\n",
       "   Wife_religion_Scientology  Wife_Working_Yes  Media_exposure _Not-Exposed  \n",
       "0                          1                 0                            0  \n",
       "1                          1                 0                            0  \n",
       "2                          1                 0                            0  \n",
       "3                          1                 0                            0  \n",
       "4                          1                 0                            0  "
      ]
     },
     "execution_count": 42,
     "metadata": {},
     "output_type": "execute_result"
    }
   ],
   "source": [
    "## Converting the 'object' type variables as dummy variables\n",
    "\n",
    "df_dummy = pd.get_dummies(df,drop_first=True)\n",
    "df_dummy.head()"
   ]
  },
  {
   "cell_type": "code",
   "execution_count": 43,
   "id": "596e43f1",
   "metadata": {},
   "outputs": [
    {
     "name": "stdout",
     "output_type": "stream",
     "text": [
      "<class 'pandas.core.frame.DataFrame'>\n",
      "RangeIndex: 1473 entries, 0 to 1472\n",
      "Data columns (total 10 columns):\n",
      " #   Column                       Non-Null Count  Dtype  \n",
      "---  ------                       --------------  -----  \n",
      " 0   Wife_age                     1473 non-null   float64\n",
      " 1   Wife_ education              1473 non-null   int8   \n",
      " 2   Husband_education            1473 non-null   int8   \n",
      " 3   No_of_children_born          1473 non-null   float64\n",
      " 4   Husband_Occupation           1473 non-null   int8   \n",
      " 5   Standard_of_living_index     1473 non-null   int8   \n",
      " 6   Contraceptive_method_used    1473 non-null   int32  \n",
      " 7   Wife_religion_Scientology    1473 non-null   uint8  \n",
      " 8   Wife_Working_Yes             1473 non-null   uint8  \n",
      " 9   Media_exposure _Not-Exposed  1473 non-null   uint8  \n",
      "dtypes: float64(2), int32(1), int8(4), uint8(3)\n",
      "memory usage: 39.0 KB\n"
     ]
    }
   ],
   "source": [
    "df_dummy.info()"
   ]
  },
  {
   "cell_type": "markdown",
   "id": "2dd24da6",
   "metadata": {},
   "source": [
    "**Creating Variables for Training and Testing**"
   ]
  },
  {
   "cell_type": "code",
   "execution_count": 44,
   "id": "4adb6f10",
   "metadata": {},
   "outputs": [],
   "source": [
    "# Copy all the predictor variables into X dataframe\n",
    "x = df_dummy.drop('Contraceptive_method_used', axis=1)\n",
    "\n",
    "# Copy target into the y dataframe. \n",
    "y = df_dummy['Contraceptive_method_used']"
   ]
  },
  {
   "cell_type": "code",
   "execution_count": 45,
   "id": "7896aac8",
   "metadata": {},
   "outputs": [],
   "source": [
    "# Split X and y into training and test set in 70:30 ratio\n",
    "x_train, x_test, y_train, y_test = train_test_split(x, y, test_size=0.30 , random_state=1,stratify=df_dummy['Contraceptive_method_used'])"
   ]
  },
  {
   "cell_type": "code",
   "execution_count": 46,
   "id": "163df6f1",
   "metadata": {},
   "outputs": [
    {
     "data": {
      "text/plain": [
       "1    0.57323\n",
       "0    0.42677\n",
       "Name: Contraceptive_method_used, dtype: float64"
      ]
     },
     "execution_count": 46,
     "metadata": {},
     "output_type": "execute_result"
    }
   ],
   "source": [
    "# Checking the raito of dependent variable from train\n",
    "y_train.value_counts(normalize = True)"
   ]
  },
  {
   "cell_type": "code",
   "execution_count": 47,
   "id": "d36d2b05",
   "metadata": {
    "scrolled": true
   },
   "outputs": [
    {
     "data": {
      "text/plain": [
       "1    0.572398\n",
       "0    0.427602\n",
       "Name: Contraceptive_method_used, dtype: float64"
      ]
     },
     "execution_count": 47,
     "metadata": {},
     "output_type": "execute_result"
    }
   ],
   "source": [
    "# Checking the raito of dependent variable from test\n",
    "y_test.value_counts(normalize = True)"
   ]
  },
  {
   "cell_type": "code",
   "execution_count": 48,
   "id": "6946ff83",
   "metadata": {},
   "outputs": [
    {
     "data": {
      "text/plain": [
       "(1031, 9)"
      ]
     },
     "execution_count": 48,
     "metadata": {},
     "output_type": "execute_result"
    }
   ],
   "source": [
    "x_train.shape"
   ]
  },
  {
   "cell_type": "code",
   "execution_count": 49,
   "id": "49eeb880",
   "metadata": {},
   "outputs": [
    {
     "data": {
      "text/plain": [
       "(442, 9)"
      ]
     },
     "execution_count": 49,
     "metadata": {},
     "output_type": "execute_result"
    }
   ],
   "source": [
    "x_test.shape"
   ]
  },
  {
   "cell_type": "markdown",
   "id": "0a9c899c",
   "metadata": {},
   "source": [
    "**Building a Model**"
   ]
  },
  {
   "cell_type": "code",
   "execution_count": 50,
   "id": "336f260f",
   "metadata": {},
   "outputs": [
    {
     "name": "stderr",
     "output_type": "stream",
     "text": [
      "[Parallel(n_jobs=-1)]: Using backend LokyBackend with 4 concurrent workers.\n",
      "[Parallel(n_jobs=-1)]: Done   1 out of   1 | elapsed:   10.9s finished\n"
     ]
    },
    {
     "data": {
      "text/plain": [
       "LogisticRegression(max_iter=10000, n_jobs=-1, penalty='none',\n",
       "                   solver='newton-cg', verbose=True)"
      ]
     },
     "execution_count": 50,
     "metadata": {},
     "output_type": "execute_result"
    }
   ],
   "source": [
    "# Fit the Logistic Regression model\n",
    "model = LogisticRegression(solver='newton-cg',max_iter=10000,penalty='none',verbose=True,n_jobs=-1)\n",
    "model.fit(x_train, y_train)"
   ]
  },
  {
   "cell_type": "code",
   "execution_count": 51,
   "id": "e61e60a3",
   "metadata": {},
   "outputs": [],
   "source": [
    "ytrain_predict = model.predict(x_train)\n",
    "ytest_predict = model.predict(x_test)"
   ]
  },
  {
   "cell_type": "code",
   "execution_count": 52,
   "id": "a4f25307",
   "metadata": {},
   "outputs": [
    {
     "data": {
      "text/html": [
       "<div>\n",
       "<style scoped>\n",
       "    .dataframe tbody tr th:only-of-type {\n",
       "        vertical-align: middle;\n",
       "    }\n",
       "\n",
       "    .dataframe tbody tr th {\n",
       "        vertical-align: top;\n",
       "    }\n",
       "\n",
       "    .dataframe thead th {\n",
       "        text-align: right;\n",
       "    }\n",
       "</style>\n",
       "<table border=\"1\" class=\"dataframe\">\n",
       "  <thead>\n",
       "    <tr style=\"text-align: right;\">\n",
       "      <th></th>\n",
       "      <th>0</th>\n",
       "      <th>1</th>\n",
       "    </tr>\n",
       "  </thead>\n",
       "  <tbody>\n",
       "    <tr>\n",
       "      <th>0</th>\n",
       "      <td>0.203735</td>\n",
       "      <td>0.796265</td>\n",
       "    </tr>\n",
       "    <tr>\n",
       "      <th>1</th>\n",
       "      <td>0.872767</td>\n",
       "      <td>0.127233</td>\n",
       "    </tr>\n",
       "    <tr>\n",
       "      <th>2</th>\n",
       "      <td>0.968475</td>\n",
       "      <td>0.031525</td>\n",
       "    </tr>\n",
       "    <tr>\n",
       "      <th>3</th>\n",
       "      <td>0.347707</td>\n",
       "      <td>0.652293</td>\n",
       "    </tr>\n",
       "    <tr>\n",
       "      <th>4</th>\n",
       "      <td>0.295384</td>\n",
       "      <td>0.704616</td>\n",
       "    </tr>\n",
       "    <tr>\n",
       "      <th>5</th>\n",
       "      <td>0.296185</td>\n",
       "      <td>0.703815</td>\n",
       "    </tr>\n",
       "    <tr>\n",
       "      <th>6</th>\n",
       "      <td>0.843035</td>\n",
       "      <td>0.156965</td>\n",
       "    </tr>\n",
       "    <tr>\n",
       "      <th>7</th>\n",
       "      <td>0.193006</td>\n",
       "      <td>0.806994</td>\n",
       "    </tr>\n",
       "    <tr>\n",
       "      <th>8</th>\n",
       "      <td>0.522064</td>\n",
       "      <td>0.477936</td>\n",
       "    </tr>\n",
       "    <tr>\n",
       "      <th>9</th>\n",
       "      <td>0.732733</td>\n",
       "      <td>0.267267</td>\n",
       "    </tr>\n",
       "  </tbody>\n",
       "</table>\n",
       "</div>"
      ],
      "text/plain": [
       "          0         1\n",
       "0  0.203735  0.796265\n",
       "1  0.872767  0.127233\n",
       "2  0.968475  0.031525\n",
       "3  0.347707  0.652293\n",
       "4  0.295384  0.704616\n",
       "5  0.296185  0.703815\n",
       "6  0.843035  0.156965\n",
       "7  0.193006  0.806994\n",
       "8  0.522064  0.477936\n",
       "9  0.732733  0.267267"
      ]
     },
     "execution_count": 52,
     "metadata": {},
     "output_type": "execute_result"
    }
   ],
   "source": [
    "ytest_predict_prob=model.predict_proba(x_test)\n",
    "pd.DataFrame(ytest_predict_prob).head(10)"
   ]
  },
  {
   "cell_type": "code",
   "execution_count": 53,
   "id": "fb1ad2b4",
   "metadata": {},
   "outputs": [
    {
     "data": {
      "text/plain": [
       "0.6838021338506305"
      ]
     },
     "execution_count": 53,
     "metadata": {},
     "output_type": "execute_result"
    }
   ],
   "source": [
    "# Accuracy - Training Data\n",
    "model.score(x_train, y_train)"
   ]
  },
  {
   "cell_type": "code",
   "execution_count": 54,
   "id": "c23eccb0",
   "metadata": {},
   "outputs": [
    {
     "name": "stdout",
     "output_type": "stream",
     "text": [
      "AUC: 0.7136\n"
     ]
    },
    {
     "data": {
      "image/png": "[encoded data removed]",
      "text/plain": [
       "<Figure size 432x288 with 1 Axes>"
      ]
     },
     "metadata": {
      "needs_background": "light"
     },
     "output_type": "display_data"
    }
   ],
   "source": [
    "# predict probabilities\n",
    "probs = model.predict_proba(x_train)\n",
    "# keep probabilities for the positive outcome only\n",
    "probs = probs[:, 1]\n",
    "# calculate AUC\n",
    "auc = roc_auc_score(y_train, probs)\n",
    "print('AUC: %.4f' % auc)\n",
    "# calculate roc curve\n",
    "train_fpr, train_tpr, train_thresholds = roc_curve(y_train, probs)\n",
    "plt.plot([0, 1], [0, 1], linestyle='--')\n",
    "# plot the roc curve for the model\n",
    "plt.plot(train_fpr, train_tpr);"
   ]
  },
  {
   "cell_type": "code",
   "execution_count": 55,
   "id": "da17c66f",
   "metadata": {},
   "outputs": [
    {
     "data": {
      "text/plain": [
       "0.6538461538461539"
      ]
     },
     "execution_count": 55,
     "metadata": {},
     "output_type": "execute_result"
    }
   ],
   "source": [
    "# Accuracy - Test Data\n",
    "model.score(x_test, y_test)"
   ]
  },
  {
   "cell_type": "code",
   "execution_count": 56,
   "id": "07856adb",
   "metadata": {},
   "outputs": [
    {
     "name": "stdout",
     "output_type": "stream",
     "text": [
      "AUC: 0.7136\n"
     ]
    },
    {
     "data": {
      "image/png": "[encoded data removed]",
      "text/plain": [
       "<Figure size 432x288 with 1 Axes>"
      ]
     },
     "metadata": {
      "needs_background": "light"
     },
     "output_type": "display_data"
    }
   ],
   "source": [
    "# predict probabilities\n",
    "probs = model.predict_proba(x_test)\n",
    "# keep probabilities for the positive outcome only\n",
    "probs = probs[:, 1]\n",
    "# calculate AUC\n",
    "test_auc = roc_auc_score(y_test, probs)\n",
    "print('AUC: %.4f' % auc)\n",
    "# calculate roc curve\n",
    "test_fpr, test_tpr, test_thresholds = roc_curve(y_test, probs)\n",
    "plt.plot([0, 1], [0, 1], linestyle='--')\n",
    "# plot the roc curve for the model\n",
    "plt.plot(test_fpr, test_tpr);"
   ]
  },
  {
   "cell_type": "code",
   "execution_count": null,
   "id": "c6dddc9b",
   "metadata": {},
   "outputs": [],
   "source": []
  },
  {
   "cell_type": "code",
   "execution_count": 57,
   "id": "128b5715",
   "metadata": {},
   "outputs": [
    {
     "data": {
      "image/png": "[encoded data removed]",
      "text/plain": [
       "<Figure size 432x288 with 2 Axes>"
      ]
     },
     "metadata": {
      "needs_background": "light"
     },
     "output_type": "display_data"
    }
   ],
   "source": [
    "plot_confusion_matrix(model,x_train,y_train);"
   ]
  },
  {
   "cell_type": "code",
   "execution_count": 58,
   "id": "e0f80fd4",
   "metadata": {},
   "outputs": [
    {
     "data": {
      "image/png": "[encoded data removed]",
      "text/plain": [
       "<Figure size 432x288 with 1 Axes>"
      ]
     },
     "metadata": {
      "needs_background": "light"
     },
     "output_type": "display_data"
    }
   ],
   "source": [
    "plot_confusion_matrix(model,x_train,y_train,display_labels= ['No', 'Yes'],colorbar =False);"
   ]
  },
  {
   "cell_type": "code",
   "execution_count": 59,
   "id": "7309feac",
   "metadata": {},
   "outputs": [
    {
     "data": {
      "image/png": "[encoded data removed]",
      "text/plain": [
       "<Figure size 432x288 with 1 Axes>"
      ]
     },
     "metadata": {
      "needs_background": "light"
     },
     "output_type": "display_data"
    }
   ],
   "source": [
    "cm = metrics.confusion_matrix(y_train, ytrain_predict) \n",
    "sns.heatmap(cm, annot=True, fmt='.0f', cmap='viridis',\n",
    "xticklabels = ['No', 'Yes'] ,\n",
    "yticklabels = ['No', 'Yes'], cbar =False)\n",
    "\n",
    "plt.title(\"Confusion Matrix -Train set\")\n",
    "plt.ylabel('Actual labels')\n",
    "plt.xlabel('Predicted labels')\n",
    "plt.show()"
   ]
  },
  {
   "cell_type": "code",
   "execution_count": 60,
   "id": "986bce43",
   "metadata": {},
   "outputs": [
    {
     "name": "stdout",
     "output_type": "stream",
     "text": [
      "              precision    recall  f1-score   support\n",
      "\n",
      "           0       0.68      0.50      0.57       440\n",
      "           1       0.69      0.82      0.75       591\n",
      "\n",
      "    accuracy                           0.68      1031\n",
      "   macro avg       0.68      0.66      0.66      1031\n",
      "weighted avg       0.68      0.68      0.67      1031\n",
      "\n"
     ]
    }
   ],
   "source": [
    "# Performance measures using Classification report on training set\n",
    "print(classification_report(y_train, ytrain_predict))"
   ]
  },
  {
   "cell_type": "code",
   "execution_count": 61,
   "id": "81aefdf0",
   "metadata": {},
   "outputs": [
    {
     "data": {
      "image/png": "[encoded data removed]",
      "text/plain": [
       "<Figure size 432x288 with 1 Axes>"
      ]
     },
     "metadata": {
      "needs_background": "light"
     },
     "output_type": "display_data"
    }
   ],
   "source": [
    "cm = metrics.confusion_matrix(y_test, ytest_predict) \n",
    "sns.heatmap(cm, annot=True, fmt='.0f', cmap='viridis',\n",
    "xticklabels = ['No', 'Yes'] ,\n",
    "yticklabels = ['No', 'Yes'], cbar =False)\n",
    "\n",
    "plt.title(\"Confusion Matrix -Test set\")\n",
    "plt.ylabel('Actual labels')\n",
    "plt.xlabel('Predicted labels')\n",
    "plt.show()"
   ]
  },
  {
   "cell_type": "code",
   "execution_count": 62,
   "id": "a0d0a06d",
   "metadata": {},
   "outputs": [
    {
     "name": "stdout",
     "output_type": "stream",
     "text": [
      "              precision    recall  f1-score   support\n",
      "\n",
      "           0       0.63      0.46      0.53       189\n",
      "           1       0.66      0.80      0.73       253\n",
      "\n",
      "    accuracy                           0.65       442\n",
      "   macro avg       0.65      0.63      0.63       442\n",
      "weighted avg       0.65      0.65      0.64       442\n",
      "\n"
     ]
    }
   ],
   "source": [
    "# Performance measures using Classification report on Test set\n",
    "print(classification_report(y_test, ytest_predict))"
   ]
  },
  {
   "cell_type": "code",
   "execution_count": null,
   "id": "8a24c7d7",
   "metadata": {},
   "outputs": [],
   "source": []
  },
  {
   "cell_type": "markdown",
   "id": "98264a25",
   "metadata": {},
   "source": [
    "## Applying GridSearchCV for Logistic Regression"
   ]
  },
  {
   "cell_type": "code",
   "execution_count": 63,
   "id": "41e7dc8d",
   "metadata": {},
   "outputs": [],
   "source": [
    "grid={'penalty':['l2','none'],\n",
    "      'solver':['sag','lbfgs'],\n",
    "      'tol':[0.0001,0.00001]}"
   ]
  },
  {
   "cell_type": "code",
   "execution_count": 64,
   "id": "9656f90a",
   "metadata": {},
   "outputs": [],
   "source": [
    "model = LogisticRegression(max_iter=10000,n_jobs=-1)"
   ]
  },
  {
   "cell_type": "code",
   "execution_count": 65,
   "id": "987a5f17",
   "metadata": {},
   "outputs": [],
   "source": [
    "grid_search = GridSearchCV(estimator = model,cv=4, param_grid = grid,n_jobs=-1,scoring='f1')"
   ]
  },
  {
   "cell_type": "code",
   "execution_count": 66,
   "id": "a213d827",
   "metadata": {},
   "outputs": [
    {
     "data": {
      "text/plain": [
       "GridSearchCV(cv=4, estimator=LogisticRegression(max_iter=10000, n_jobs=-1),\n",
       "             n_jobs=-1,\n",
       "             param_grid={'penalty': ['l2', 'none'], 'solver': ['sag', 'lbfgs'],\n",
       "                         'tol': [0.0001, 1e-05]},\n",
       "             scoring='f1')"
      ]
     },
     "execution_count": 66,
     "metadata": {},
     "output_type": "execute_result"
    }
   ],
   "source": [
    "grid_search.fit(x_train, y_train)"
   ]
  },
  {
   "cell_type": "code",
   "execution_count": 67,
   "id": "ecdd7e7f",
   "metadata": {},
   "outputs": [
    {
     "name": "stdout",
     "output_type": "stream",
     "text": [
      "{'penalty': 'l2', 'solver': 'sag', 'tol': 0.0001} \n",
      "\n",
      "LogisticRegression(max_iter=10000, n_jobs=-1, solver='sag')\n"
     ]
    }
   ],
   "source": [
    "print(grid_search.best_params_,'\\n')\n",
    "print(grid_search.best_estimator_)"
   ]
  },
  {
   "cell_type": "code",
   "execution_count": 68,
   "id": "f910ed10",
   "metadata": {},
   "outputs": [],
   "source": [
    "best_model = grid_search.best_estimator_"
   ]
  },
  {
   "cell_type": "code",
   "execution_count": 69,
   "id": "6bd9effd",
   "metadata": {},
   "outputs": [],
   "source": [
    "# Prediction on the training set\n",
    "\n",
    "ytrain_predict = best_model.predict(x_train)\n",
    "ytest_predict = best_model.predict(x_test)"
   ]
  },
  {
   "cell_type": "code",
   "execution_count": 70,
   "id": "fd573976",
   "metadata": {},
   "outputs": [
    {
     "data": {
      "text/html": [
       "<div>\n",
       "<style scoped>\n",
       "    .dataframe tbody tr th:only-of-type {\n",
       "        vertical-align: middle;\n",
       "    }\n",
       "\n",
       "    .dataframe tbody tr th {\n",
       "        vertical-align: top;\n",
       "    }\n",
       "\n",
       "    .dataframe thead th {\n",
       "        text-align: right;\n",
       "    }\n",
       "</style>\n",
       "<table border=\"1\" class=\"dataframe\">\n",
       "  <thead>\n",
       "    <tr style=\"text-align: right;\">\n",
       "      <th></th>\n",
       "      <th>0</th>\n",
       "      <th>1</th>\n",
       "    </tr>\n",
       "  </thead>\n",
       "  <tbody>\n",
       "    <tr>\n",
       "      <th>0</th>\n",
       "      <td>0.203090</td>\n",
       "      <td>0.796910</td>\n",
       "    </tr>\n",
       "    <tr>\n",
       "      <th>1</th>\n",
       "      <td>0.868316</td>\n",
       "      <td>0.131684</td>\n",
       "    </tr>\n",
       "    <tr>\n",
       "      <th>2</th>\n",
       "      <td>0.966731</td>\n",
       "      <td>0.033269</td>\n",
       "    </tr>\n",
       "    <tr>\n",
       "      <th>3</th>\n",
       "      <td>0.344931</td>\n",
       "      <td>0.655069</td>\n",
       "    </tr>\n",
       "    <tr>\n",
       "      <th>4</th>\n",
       "      <td>0.294986</td>\n",
       "      <td>0.705014</td>\n",
       "    </tr>\n",
       "  </tbody>\n",
       "</table>\n",
       "</div>"
      ],
      "text/plain": [
       "          0         1\n",
       "0  0.203090  0.796910\n",
       "1  0.868316  0.131684\n",
       "2  0.966731  0.033269\n",
       "3  0.344931  0.655069\n",
       "4  0.294986  0.705014"
      ]
     },
     "execution_count": 70,
     "metadata": {},
     "output_type": "execute_result"
    }
   ],
   "source": [
    "## Getting the probabilities on the test set\n",
    "\n",
    "ytest_predict_prob=best_model.predict_proba(x_test)\n",
    "pd.DataFrame(ytest_predict_prob).head()"
   ]
  },
  {
   "cell_type": "code",
   "execution_count": 71,
   "id": "c121f188",
   "metadata": {},
   "outputs": [
    {
     "name": "stdout",
     "output_type": "stream",
     "text": [
      "              precision    recall  f1-score   support\n",
      "\n",
      "           0       0.67      0.49      0.57       440\n",
      "           1       0.69      0.82      0.75       591\n",
      "\n",
      "    accuracy                           0.68      1031\n",
      "   macro avg       0.68      0.66      0.66      1031\n",
      "weighted avg       0.68      0.68      0.67      1031\n",
      " \n",
      "\n"
     ]
    },
    {
     "data": {
      "image/png": "[encoded data removed]",
      "text/plain": [
       "<Figure size 432x288 with 2 Axes>"
      ]
     },
     "metadata": {
      "needs_background": "light"
     },
     "output_type": "display_data"
    }
   ],
   "source": [
    "## Confusion matrix on the training data\n",
    "\n",
    "plot_confusion_matrix(best_model,x_train,y_train)\n",
    "print(classification_report(y_train, ytrain_predict),'\\n');"
   ]
  },
  {
   "cell_type": "code",
   "execution_count": 72,
   "id": "611737cb",
   "metadata": {
    "scrolled": false
   },
   "outputs": [
    {
     "name": "stdout",
     "output_type": "stream",
     "text": [
      "              precision    recall  f1-score   support\n",
      "\n",
      "           0       0.64      0.47      0.54       189\n",
      "           1       0.67      0.81      0.73       253\n",
      "\n",
      "    accuracy                           0.66       442\n",
      "   macro avg       0.66      0.64      0.64       442\n",
      "weighted avg       0.66      0.66      0.65       442\n",
      " \n",
      "\n"
     ]
    },
    {
     "data": {
      "image/png": "[encoded data removed]",
      "text/plain": [
       "<Figure size 432x288 with 2 Axes>"
      ]
     },
     "metadata": {
      "needs_background": "light"
     },
     "output_type": "display_data"
    }
   ],
   "source": [
    "## Confusion matrix on the test data\n",
    "\n",
    "plot_confusion_matrix(best_model,x_test,y_test)\n",
    "print(classification_report(y_test, ytest_predict),'\\n');"
   ]
  },
  {
   "cell_type": "code",
   "execution_count": null,
   "id": "72687a8d",
   "metadata": {},
   "outputs": [],
   "source": []
  },
  {
   "cell_type": "code",
   "execution_count": null,
   "id": "6d064b21",
   "metadata": {},
   "outputs": [],
   "source": []
  },
  {
   "cell_type": "code",
   "execution_count": null,
   "id": "4f0b079c",
   "metadata": {},
   "outputs": [],
   "source": []
  },
  {
   "cell_type": "code",
   "execution_count": 73,
   "id": "152fb5dd",
   "metadata": {},
   "outputs": [],
   "source": [
    "## Import the model\n",
    "import statsmodels.formula.api as sm"
   ]
  },
  {
   "cell_type": "code",
   "execution_count": 74,
   "id": "016e3386",
   "metadata": {
    "scrolled": true
   },
   "outputs": [
    {
     "data": {
      "text/plain": [
       "Index(['Wife_age', 'Wife_ education', 'Husband_education',\n",
       "       'No_of_children_born', 'Wife_religion', 'Wife_Working',\n",
       "       'Husband_Occupation', 'Standard_of_living_index', 'Media_exposure ',\n",
       "       'Contraceptive_method_used'],\n",
       "      dtype='object')"
      ]
     },
     "execution_count": 74,
     "metadata": {},
     "output_type": "execute_result"
    }
   ],
   "source": [
    "df.columns"
   ]
  },
  {
   "cell_type": "code",
   "execution_count": 75,
   "id": "9655ee17",
   "metadata": {},
   "outputs": [],
   "source": [
    "## Cleaning the coulmn names\n",
    "df.columns = df.columns.str.replace(' ', '')"
   ]
  },
  {
   "cell_type": "code",
   "execution_count": 76,
   "id": "6d799dc5",
   "metadata": {},
   "outputs": [
    {
     "data": {
      "text/plain": [
       "Index(['Wife_age', 'Wife_education', 'Husband_education',\n",
       "       'No_of_children_born', 'Wife_religion', 'Wife_Working',\n",
       "       'Husband_Occupation', 'Standard_of_living_index', 'Media_exposure',\n",
       "       'Contraceptive_method_used'],\n",
       "      dtype='object')"
      ]
     },
     "execution_count": 76,
     "metadata": {},
     "output_type": "execute_result"
    }
   ],
   "source": [
    "df.columns"
   ]
  },
  {
   "cell_type": "code",
   "execution_count": 77,
   "id": "dab3d74d",
   "metadata": {},
   "outputs": [],
   "source": [
    "exp = 'Contraceptive_method_used ~ Wife_age+Wife_education+Husband_education+No_of_children_born+Wife_religion+Wife_Working+Husband_Occupation+Standard_of_living_index+Media_exposure'"
   ]
  },
  {
   "cell_type": "code",
   "execution_count": 78,
   "id": "dabe2961",
   "metadata": {},
   "outputs": [
    {
     "name": "stdout",
     "output_type": "stream",
     "text": [
      "Optimization terminated successfully.\n",
      "         Current function value: 0.604417\n",
      "         Iterations 5\n"
     ]
    },
    {
     "data": {
      "text/html": [
       "<table class=\"simpletable\">\n",
       "<caption>Logit Regression Results</caption>\n",
       "<tr>\n",
       "  <th>Dep. Variable:</th>   <td>Contraceptive_method_used</td> <th>  No. Observations:  </th>  <td>  1473</td>  \n",
       "</tr>\n",
       "<tr>\n",
       "  <th>Model:</th>                     <td>Logit</td>           <th>  Df Residuals:      </th>  <td>  1463</td>  \n",
       "</tr>\n",
       "<tr>\n",
       "  <th>Method:</th>                     <td>MLE</td>            <th>  Df Model:          </th>  <td>     9</td>  \n",
       "</tr>\n",
       "<tr>\n",
       "  <th>Date:</th>                <td>Sun, 13 Nov 2022</td>      <th>  Pseudo R-squ.:     </th>  <td>0.1144</td>  \n",
       "</tr>\n",
       "<tr>\n",
       "  <th>Time:</th>                    <td>21:58:31</td>          <th>  Log-Likelihood:    </th> <td> -890.31</td> \n",
       "</tr>\n",
       "<tr>\n",
       "  <th>converged:</th>                 <td>True</td>            <th>  LL-Null:           </th> <td> -1005.3</td> \n",
       "</tr>\n",
       "<tr>\n",
       "  <th>Covariance Type:</th>         <td>nonrobust</td>         <th>  LLR p-value:       </th> <td>1.723e-44</td>\n",
       "</tr>\n",
       "</table>\n",
       "<table class=\"simpletable\">\n",
       "<tr>\n",
       "                <td></td>                   <th>coef</th>     <th>std err</th>      <th>z</th>      <th>P>|z|</th>  <th>[0.025</th>    <th>0.975]</th>  \n",
       "</tr>\n",
       "<tr>\n",
       "  <th>Intercept</th>                     <td>   -0.4769</td> <td>    0.550</td> <td>   -0.867</td> <td> 0.386</td> <td>   -1.554</td> <td>    0.601</td>\n",
       "</tr>\n",
       "<tr>\n",
       "  <th>Wife_religion[T.Scientology]</th>  <td>   -0.3618</td> <td>    0.171</td> <td>   -2.120</td> <td> 0.034</td> <td>   -0.696</td> <td>   -0.027</td>\n",
       "</tr>\n",
       "<tr>\n",
       "  <th>Wife_Working[T.Yes]</th>           <td>   -0.1390</td> <td>    0.132</td> <td>   -1.049</td> <td> 0.294</td> <td>   -0.399</td> <td>    0.121</td>\n",
       "</tr>\n",
       "<tr>\n",
       "  <th>Media_exposure[T.Not-Exposed]</th> <td>   -0.4627</td> <td>    0.247</td> <td>   -1.877</td> <td> 0.061</td> <td>   -0.946</td> <td>    0.020</td>\n",
       "</tr>\n",
       "<tr>\n",
       "  <th>Wife_age</th>                      <td>   -0.0770</td> <td>    0.009</td> <td>   -8.137</td> <td> 0.000</td> <td>   -0.096</td> <td>   -0.058</td>\n",
       "</tr>\n",
       "<tr>\n",
       "  <th>Wife_education</th>                <td>    0.5492</td> <td>    0.080</td> <td>    6.897</td> <td> 0.000</td> <td>    0.393</td> <td>    0.705</td>\n",
       "</tr>\n",
       "<tr>\n",
       "  <th>Husband_education</th>             <td>    0.0097</td> <td>    0.092</td> <td>    0.105</td> <td> 0.916</td> <td>   -0.171</td> <td>    0.190</td>\n",
       "</tr>\n",
       "<tr>\n",
       "  <th>No_of_children_born</th>           <td>    0.3219</td> <td>    0.034</td> <td>    9.545</td> <td> 0.000</td> <td>    0.256</td> <td>    0.388</td>\n",
       "</tr>\n",
       "<tr>\n",
       "  <th>Husband_Occupation</th>            <td>    0.0822</td> <td>    0.076</td> <td>    1.083</td> <td> 0.279</td> <td>   -0.067</td> <td>    0.231</td>\n",
       "</tr>\n",
       "<tr>\n",
       "  <th>Standard_of_living_index</th>      <td>    0.2537</td> <td>    0.067</td> <td>    3.806</td> <td> 0.000</td> <td>    0.123</td> <td>    0.384</td>\n",
       "</tr>\n",
       "</table>"
      ],
      "text/plain": [
       "<class 'statsmodels.iolib.summary.Summary'>\n",
       "\"\"\"\n",
       "                               Logit Regression Results                              \n",
       "=====================================================================================\n",
       "Dep. Variable:     Contraceptive_method_used   No. Observations:                 1473\n",
       "Model:                                 Logit   Df Residuals:                     1463\n",
       "Method:                                  MLE   Df Model:                            9\n",
       "Date:                       Sun, 13 Nov 2022   Pseudo R-squ.:                  0.1144\n",
       "Time:                               21:58:31   Log-Likelihood:                -890.31\n",
       "converged:                              True   LL-Null:                       -1005.3\n",
       "Covariance Type:                   nonrobust   LLR p-value:                 1.723e-44\n",
       "=================================================================================================\n",
       "                                    coef    std err          z      P>|z|      [0.025      0.975]\n",
       "-------------------------------------------------------------------------------------------------\n",
       "Intercept                        -0.4769      0.550     -0.867      0.386      -1.554       0.601\n",
       "Wife_religion[T.Scientology]     -0.3618      0.171     -2.120      0.034      -0.696      -0.027\n",
       "Wife_Working[T.Yes]              -0.1390      0.132     -1.049      0.294      -0.399       0.121\n",
       "Media_exposure[T.Not-Exposed]    -0.4627      0.247     -1.877      0.061      -0.946       0.020\n",
       "Wife_age                         -0.0770      0.009     -8.137      0.000      -0.096      -0.058\n",
       "Wife_education                    0.5492      0.080      6.897      0.000       0.393       0.705\n",
       "Husband_education                 0.0097      0.092      0.105      0.916      -0.171       0.190\n",
       "No_of_children_born               0.3219      0.034      9.545      0.000       0.256       0.388\n",
       "Husband_Occupation                0.0822      0.076      1.083      0.279      -0.067       0.231\n",
       "Standard_of_living_index          0.2537      0.067      3.806      0.000       0.123       0.384\n",
       "=================================================================================================\n",
       "\"\"\""
      ]
     },
     "execution_count": 78,
     "metadata": {},
     "output_type": "execute_result"
    }
   ],
   "source": [
    "model_1 = sm.logit(formula =exp, data =df).fit()\n",
    "model_1.summary()"
   ]
  },
  {
   "cell_type": "code",
   "execution_count": 79,
   "id": "c9507415",
   "metadata": {},
   "outputs": [
    {
     "data": {
      "text/html": [
       "<div>\n",
       "<style scoped>\n",
       "    .dataframe tbody tr th:only-of-type {\n",
       "        vertical-align: middle;\n",
       "    }\n",
       "\n",
       "    .dataframe tbody tr th {\n",
       "        vertical-align: top;\n",
       "    }\n",
       "\n",
       "    .dataframe thead th {\n",
       "        text-align: right;\n",
       "    }\n",
       "</style>\n",
       "<table border=\"1\" class=\"dataframe\">\n",
       "  <thead>\n",
       "    <tr style=\"text-align: right;\">\n",
       "      <th></th>\n",
       "      <th>Wife_age</th>\n",
       "      <th>Wife_education</th>\n",
       "      <th>Husband_education</th>\n",
       "      <th>No_of_children_born</th>\n",
       "      <th>Wife_religion</th>\n",
       "      <th>Wife_Working</th>\n",
       "      <th>Husband_Occupation</th>\n",
       "      <th>Standard_of_living_index</th>\n",
       "      <th>Media_exposure</th>\n",
       "      <th>Contraceptive_method_used</th>\n",
       "    </tr>\n",
       "  </thead>\n",
       "  <tbody>\n",
       "    <tr>\n",
       "      <th>0</th>\n",
       "      <td>24.0</td>\n",
       "      <td>2</td>\n",
       "      <td>3</td>\n",
       "      <td>3.0</td>\n",
       "      <td>Scientology</td>\n",
       "      <td>No</td>\n",
       "      <td>2</td>\n",
       "      <td>3</td>\n",
       "      <td>Exposed</td>\n",
       "      <td>0</td>\n",
       "    </tr>\n",
       "    <tr>\n",
       "      <th>1</th>\n",
       "      <td>45.0</td>\n",
       "      <td>1</td>\n",
       "      <td>3</td>\n",
       "      <td>10.0</td>\n",
       "      <td>Scientology</td>\n",
       "      <td>No</td>\n",
       "      <td>3</td>\n",
       "      <td>4</td>\n",
       "      <td>Exposed</td>\n",
       "      <td>0</td>\n",
       "    </tr>\n",
       "    <tr>\n",
       "      <th>2</th>\n",
       "      <td>43.0</td>\n",
       "      <td>2</td>\n",
       "      <td>3</td>\n",
       "      <td>7.0</td>\n",
       "      <td>Scientology</td>\n",
       "      <td>No</td>\n",
       "      <td>3</td>\n",
       "      <td>4</td>\n",
       "      <td>Exposed</td>\n",
       "      <td>0</td>\n",
       "    </tr>\n",
       "    <tr>\n",
       "      <th>3</th>\n",
       "      <td>42.0</td>\n",
       "      <td>3</td>\n",
       "      <td>2</td>\n",
       "      <td>9.0</td>\n",
       "      <td>Scientology</td>\n",
       "      <td>No</td>\n",
       "      <td>3</td>\n",
       "      <td>3</td>\n",
       "      <td>Exposed</td>\n",
       "      <td>0</td>\n",
       "    </tr>\n",
       "    <tr>\n",
       "      <th>4</th>\n",
       "      <td>36.0</td>\n",
       "      <td>3</td>\n",
       "      <td>3</td>\n",
       "      <td>8.0</td>\n",
       "      <td>Scientology</td>\n",
       "      <td>No</td>\n",
       "      <td>3</td>\n",
       "      <td>2</td>\n",
       "      <td>Exposed</td>\n",
       "      <td>0</td>\n",
       "    </tr>\n",
       "  </tbody>\n",
       "</table>\n",
       "</div>"
      ],
      "text/plain": [
       "   Wife_age  Wife_education  Husband_education  No_of_children_born  \\\n",
       "0      24.0               2                  3                  3.0   \n",
       "1      45.0               1                  3                 10.0   \n",
       "2      43.0               2                  3                  7.0   \n",
       "3      42.0               3                  2                  9.0   \n",
       "4      36.0               3                  3                  8.0   \n",
       "\n",
       "  Wife_religion Wife_Working  Husband_Occupation  Standard_of_living_index  \\\n",
       "0   Scientology           No                   2                         3   \n",
       "1   Scientology           No                   3                         4   \n",
       "2   Scientology           No                   3                         4   \n",
       "3   Scientology           No                   3                         3   \n",
       "4   Scientology           No                   3                         2   \n",
       "\n",
       "  Media_exposure  Contraceptive_method_used  \n",
       "0        Exposed                          0  \n",
       "1        Exposed                          0  \n",
       "2        Exposed                          0  \n",
       "3        Exposed                          0  \n",
       "4        Exposed                          0  "
      ]
     },
     "execution_count": 79,
     "metadata": {},
     "output_type": "execute_result"
    }
   ],
   "source": [
    "df.head()"
   ]
  },
  {
   "cell_type": "code",
   "execution_count": null,
   "id": "1bf90bef",
   "metadata": {},
   "outputs": [],
   "source": []
  },
  {
   "cell_type": "markdown",
   "id": "c79d410c",
   "metadata": {},
   "source": [
    "LDA"
   ]
  },
  {
   "cell_type": "code",
   "execution_count": null,
   "id": "7d879365",
   "metadata": {},
   "outputs": [],
   "source": []
  },
  {
   "cell_type": "code",
   "execution_count": null,
   "id": "6c485c85",
   "metadata": {},
   "outputs": [],
   "source": []
  },
  {
   "cell_type": "code",
   "execution_count": null,
   "id": "7f8b0423",
   "metadata": {},
   "outputs": [],
   "source": []
  },
  {
   "cell_type": "code",
   "execution_count": 80,
   "id": "c6210a74",
   "metadata": {},
   "outputs": [],
   "source": [
    "# Copy all the predictor variables into X dataframe\n",
    "x = df_dummy.drop('Contraceptive_method_used', axis=1)\n",
    "\n",
    "# Copy target into the y dataframe. \n",
    "y = df_dummy['Contraceptive_method_used']"
   ]
  },
  {
   "cell_type": "code",
   "execution_count": 81,
   "id": "a9cc2133",
   "metadata": {},
   "outputs": [],
   "source": [
    "# Split X and y into training and test set in 70:30 ratio\n",
    "x_train, x_test, y_train, y_test = train_test_split(x, y, test_size=0.30 , random_state=1,stratify=df_dummy['Contraceptive_method_used'])"
   ]
  },
  {
   "cell_type": "code",
   "execution_count": 82,
   "id": "2bf73d89",
   "metadata": {},
   "outputs": [
    {
     "name": "stdout",
     "output_type": "stream",
     "text": [
      "Number of rows and columns of the training set for the independent variables: (1031, 9)\n",
      "Number of rows and columns of the training set for the dependent variable: (1031,)\n",
      "Number of rows and columns of the test set for the independent variables: (442, 9)\n",
      "Number of rows and columns of the test set for the dependent variable: (442,)\n"
     ]
    }
   ],
   "source": [
    "# Checking on the split\n",
    "print('Number of rows and columns of the training set for the independent variables:',x_train.shape)\n",
    "print('Number of rows and columns of the training set for the dependent variable:',y_train.shape)\n",
    "print('Number of rows and columns of the test set for the independent variables:',x_test.shape)\n",
    "print('Number of rows and columns of the test set for the dependent variable:',y_test.shape)"
   ]
  },
  {
   "cell_type": "markdown",
   "id": "3f787123",
   "metadata": {},
   "source": [
    "### LDA Model"
   ]
  },
  {
   "cell_type": "code",
   "execution_count": 83,
   "id": "ce7a8129",
   "metadata": {},
   "outputs": [],
   "source": [
    "#Build LDA Model\n",
    "clf = LinearDiscriminantAnalysis()\n",
    "model=clf.fit(x_train,y_train)"
   ]
  },
  {
   "cell_type": "markdown",
   "id": "d1ac0d68",
   "metadata": {},
   "source": [
    "### Generate Coefficients and intercept for the Linear Discriminant Function"
   ]
  },
  {
   "cell_type": "code",
   "execution_count": 84,
   "id": "99dbd856",
   "metadata": {},
   "outputs": [
    {
     "data": {
      "text/plain": [
       "array([0.12876709])"
      ]
     },
     "execution_count": 84,
     "metadata": {},
     "output_type": "execute_result"
    }
   ],
   "source": [
    "#intercept value\n",
    "clf.intercept_ "
   ]
  },
  {
   "cell_type": "code",
   "execution_count": 85,
   "id": "9b697e4d",
   "metadata": {},
   "outputs": [
    {
     "data": {
      "text/plain": [
       "array([[-0.08470515,  0.50787225, -0.02967695,  0.31524449,  0.03780564,\n",
       "         0.29414804, -0.41266742, -0.17566349, -0.59054111]])"
      ]
     },
     "execution_count": 85,
     "metadata": {},
     "output_type": "execute_result"
    }
   ],
   "source": [
    "#coefficients for the Linear Discriminant Function\n",
    "clf.coef_"
   ]
  },
  {
   "cell_type": "code",
   "execution_count": 86,
   "id": "f00c353d",
   "metadata": {},
   "outputs": [
    {
     "data": {
      "text/plain": [
       "Index(['Wife_age', 'Wife_ education', 'Husband_education',\n",
       "       'No_of_children_born', 'Husband_Occupation', 'Standard_of_living_index',\n",
       "       'Wife_religion_Scientology', 'Wife_Working_Yes',\n",
       "       'Media_exposure _Not-Exposed'],\n",
       "      dtype='object')"
      ]
     },
     "execution_count": 86,
     "metadata": {},
     "output_type": "execute_result"
    }
   ],
   "source": [
    "x_train.columns"
   ]
  },
  {
   "cell_type": "code",
   "execution_count": 87,
   "id": "640af0c4",
   "metadata": {},
   "outputs": [
    {
     "data": {
      "text/html": [
       "<div>\n",
       "<style scoped>\n",
       "    .dataframe tbody tr th:only-of-type {\n",
       "        vertical-align: middle;\n",
       "    }\n",
       "\n",
       "    .dataframe tbody tr th {\n",
       "        vertical-align: top;\n",
       "    }\n",
       "\n",
       "    .dataframe thead th {\n",
       "        text-align: right;\n",
       "    }\n",
       "</style>\n",
       "<table border=\"1\" class=\"dataframe\">\n",
       "  <thead>\n",
       "    <tr style=\"text-align: right;\">\n",
       "      <th></th>\n",
       "      <th>0</th>\n",
       "    </tr>\n",
       "  </thead>\n",
       "  <tbody>\n",
       "    <tr>\n",
       "      <th>Wife_age</th>\n",
       "      <td>-0.08</td>\n",
       "    </tr>\n",
       "    <tr>\n",
       "      <th>Wife_ education</th>\n",
       "      <td>0.51</td>\n",
       "    </tr>\n",
       "    <tr>\n",
       "      <th>Husband_education</th>\n",
       "      <td>-0.03</td>\n",
       "    </tr>\n",
       "    <tr>\n",
       "      <th>No_of_children_born</th>\n",
       "      <td>0.32</td>\n",
       "    </tr>\n",
       "    <tr>\n",
       "      <th>Husband_Occupation</th>\n",
       "      <td>0.04</td>\n",
       "    </tr>\n",
       "    <tr>\n",
       "      <th>Standard_of_living_index</th>\n",
       "      <td>0.29</td>\n",
       "    </tr>\n",
       "    <tr>\n",
       "      <th>Wife_religion_Scientology</th>\n",
       "      <td>-0.41</td>\n",
       "    </tr>\n",
       "    <tr>\n",
       "      <th>Wife_Working_Yes</th>\n",
       "      <td>-0.18</td>\n",
       "    </tr>\n",
       "    <tr>\n",
       "      <th>Media_exposure _Not-Exposed</th>\n",
       "      <td>-0.59</td>\n",
       "    </tr>\n",
       "  </tbody>\n",
       "</table>\n",
       "</div>"
      ],
      "text/plain": [
       "                                0\n",
       "Wife_age                    -0.08\n",
       "Wife_ education              0.51\n",
       "Husband_education           -0.03\n",
       "No_of_children_born          0.32\n",
       "Husband_Occupation           0.04\n",
       "Standard_of_living_index     0.29\n",
       "Wife_religion_Scientology   -0.41\n",
       "Wife_Working_Yes            -0.18\n",
       "Media_exposure _Not-Exposed -0.59"
      ]
     },
     "execution_count": 87,
     "metadata": {},
     "output_type": "execute_result"
    }
   ],
   "source": [
    "## Getting the equation\n",
    "round(pd.DataFrame(clf.coef_.reshape(1,-1),columns=x_train.columns),2).T"
   ]
  },
  {
   "cell_type": "code",
   "execution_count": 88,
   "id": "24e1e117",
   "metadata": {},
   "outputs": [
    {
     "name": "stdout",
     "output_type": "stream",
     "text": [
      "-0.08 * Wife_age (+) 0.51 * Wife_ education (+) -0.03 * Husband_education (+) 0.32 * No_of_children_born (+) 0.04 * Husband_Occupation (+) 0.29 * Standard_of_living_index (+) -0.41 * Wife_religion_Scientology (+) -0.18 * Wife_Working_Yes (+) -0.59 * Media_exposure _Not-Exposed (+) "
     ]
    }
   ],
   "source": [
    "# Writing the equation\n",
    "for i in range(0,x_train.shape[1]):\n",
    "    print('{} * {}'.format(np.round(clf.coef_[0][i],2),x_train.columns[i]),end=' (+) ')"
   ]
  },
  {
   "cell_type": "code",
   "execution_count": 89,
   "id": "1a78d717",
   "metadata": {},
   "outputs": [
    {
     "data": {
      "text/plain": [
       "array([[-0.08,  0.51, -0.03,  0.32,  0.04,  0.29, -0.41, -0.18, -0.59]])"
      ]
     },
     "execution_count": 89,
     "metadata": {},
     "output_type": "execute_result"
    }
   ],
   "source": [
    "a=clf.coef_\n",
    "np.round(a,2) # rounded up coefficients "
   ]
  },
  {
   "cell_type": "markdown",
   "id": "f1bdc59c",
   "metadata": {},
   "source": [
    "### Prediction"
   ]
  },
  {
   "cell_type": "code",
   "execution_count": 90,
   "id": "1edaa6b6",
   "metadata": {},
   "outputs": [],
   "source": [
    "# Training Data Class Prediction with a cut-off value of 0.5\n",
    "pred_class_train = model.predict(x_train)\n",
    "\n",
    "# Test Data Class Prediction with a cut-off value of 0.5\n",
    "pred_class_test = model.predict(x_test)"
   ]
  },
  {
   "cell_type": "markdown",
   "id": "c588bcd3",
   "metadata": {},
   "source": [
    "### Training Data and Test Data Confusion Matrix Comparison"
   ]
  },
  {
   "cell_type": "code",
   "execution_count": 91,
   "id": "a06cc899",
   "metadata": {
    "scrolled": true
   },
   "outputs": [
    {
     "data": {
      "image/png": "[encoded data removed]",
      "text/plain": [
       "<Figure size 432x288 with 4 Axes>"
      ]
     },
     "metadata": {
      "needs_background": "light"
     },
     "output_type": "display_data"
    },
    {
     "data": {
      "text/plain": [
       "<Figure size 1440x720 with 0 Axes>"
      ]
     },
     "metadata": {},
     "output_type": "display_data"
    }
   ],
   "source": [
    "f,a =  plt.subplots(1,2,sharex=True,sharey=True,squeeze=False)\n",
    "plt.figure(figsize=(20,10))\n",
    ";#Plotting confusion matrix for the different models for the Training Data\n",
    "\n",
    "plot_0 = sns.heatmap((metrics.confusion_matrix(y_train,pred_class_train)),annot=True,fmt='.5g',cmap='viridis',ax=a[0][0]);\n",
    "a[0][0].set_title('Training Data')\n",
    "\n",
    "plot_1 = sns.heatmap((metrics.confusion_matrix(y_test,pred_class_test)),annot=True,fmt='.5g',cmap='viridis',ax=a[0][1]);\n",
    "a[0][1].set_title('Test Data');"
   ]
  },
  {
   "cell_type": "code",
   "execution_count": null,
   "id": "12bf058d",
   "metadata": {},
   "outputs": [],
   "source": []
  },
  {
   "cell_type": "markdown",
   "id": "2545fa2b",
   "metadata": {},
   "source": [
    "### Training Data and Test Data Classification Report Comparison"
   ]
  },
  {
   "cell_type": "code",
   "execution_count": 92,
   "id": "ab246703",
   "metadata": {},
   "outputs": [
    {
     "name": "stdout",
     "output_type": "stream",
     "text": [
      "Classification Report of the training data:\n",
      "\n",
      "               precision    recall  f1-score   support\n",
      "\n",
      "           0       0.69      0.48      0.57       440\n",
      "           1       0.69      0.84      0.75       591\n",
      "\n",
      "    accuracy                           0.69      1031\n",
      "   macro avg       0.69      0.66      0.66      1031\n",
      "weighted avg       0.69      0.69      0.67      1031\n",
      " \n",
      "\n",
      "Classification Report of the test data:\n",
      "\n",
      "               precision    recall  f1-score   support\n",
      "\n",
      "           0       0.64      0.45      0.53       189\n",
      "           1       0.66      0.81      0.73       253\n",
      "\n",
      "    accuracy                           0.66       442\n",
      "   macro avg       0.65      0.63      0.63       442\n",
      "weighted avg       0.65      0.66      0.64       442\n",
      " \n",
      "\n"
     ]
    }
   ],
   "source": [
    "print('Classification Report of the training data:\\n\\n',metrics.classification_report(y_train,pred_class_train),'\\n')\n",
    "print('Classification Report of the test data:\\n\\n',metrics.classification_report(y_test,pred_class_test),'\\n')"
   ]
  },
  {
   "cell_type": "markdown",
   "id": "89f27961",
   "metadata": {},
   "source": [
    "### Probability prediction for the training and test data"
   ]
  },
  {
   "cell_type": "code",
   "execution_count": 93,
   "id": "9aeb0250",
   "metadata": {},
   "outputs": [],
   "source": [
    "# Training Data Probability Prediction\n",
    "pred_prob_train = model.predict_proba(x_train)\n",
    "\n",
    "# Test Data Probability Prediction\n",
    "pred_prob_test = model.predict_proba(x_test)"
   ]
  },
  {
   "cell_type": "code",
   "execution_count": 94,
   "id": "de01d323",
   "metadata": {},
   "outputs": [
    {
     "data": {
      "text/plain": [
       "array([0.74012991, 0.49453695, 0.79339843, ..., 0.67173677, 0.09856762,\n",
       "       0.79894524])"
      ]
     },
     "execution_count": 94,
     "metadata": {},
     "output_type": "execute_result"
    }
   ],
   "source": [
    "pred_prob_train[:,1]"
   ]
  },
  {
   "cell_type": "code",
   "execution_count": 95,
   "id": "7b98310d",
   "metadata": {},
   "outputs": [
    {
     "name": "stdout",
     "output_type": "stream",
     "text": [
      "AUC for the Training Data: 0.714\n"
     ]
    },
    {
     "data": {
      "image/png": "[encoded data removed]",
      "text/plain": [
       "<Figure size 432x288 with 1 Axes>"
      ]
     },
     "metadata": {
      "needs_background": "light"
     },
     "output_type": "display_data"
    }
   ],
   "source": [
    "# AUC and ROC for the training data\n",
    "\n",
    "# calculate AUC\n",
    "auc = metrics.roc_auc_score(y_train,pred_prob_train[:,1])\n",
    "print('AUC for the Training Data: %.3f' % auc)\n",
    "\n",
    "#  calculate roc curve\n",
    "fpr, tpr, thresholds = metrics.roc_curve(y_train,pred_prob_train[:,1])\n",
    "plt.plot([0, 1], [0, 1], linestyle='--')\n",
    "# plot the roc curve for the model\n",
    "plt.plot(fpr, tpr, marker='.',label = 'Training Data')\n",
    "# show the plot\n",
    "plt.legend(loc='best')\n",
    "plt.show()"
   ]
  },
  {
   "cell_type": "code",
   "execution_count": 96,
   "id": "dfad1ae3",
   "metadata": {},
   "outputs": [
    {
     "name": "stdout",
     "output_type": "stream",
     "text": [
      "AUC for the Test Data: 0.690\n"
     ]
    },
    {
     "data": {
      "image/png": "[encoded data removed]",
      "text/plain": [
       "<Figure size 432x288 with 1 Axes>"
      ]
     },
     "metadata": {
      "needs_background": "light"
     },
     "output_type": "display_data"
    }
   ],
   "source": [
    "# AUC and ROC for the test data\n",
    "\n",
    "# calculate AUC\n",
    "auc = metrics.roc_auc_score(y_test,pred_prob_test[:,1])\n",
    "print('AUC for the Test Data: %.3f' % auc)\n",
    "\n",
    "#  calculate roc curve\n",
    "fpr, tpr, thresholds = metrics.roc_curve(y_test,pred_prob_test[:,1])\n",
    "plt.plot([0, 1], [0, 1], linestyle='--')\n",
    "# plot the roc curve for the model\n",
    "plt.plot(fpr, tpr, marker='.',label='Test Data')\n",
    "# show the plot\n",
    "plt.legend(loc='best')\n",
    "plt.show()"
   ]
  },
  {
   "cell_type": "code",
   "execution_count": null,
   "id": "7e3357ae",
   "metadata": {},
   "outputs": [],
   "source": []
  },
  {
   "cell_type": "markdown",
   "id": "564f9af9",
   "metadata": {},
   "source": [
    "**CART**"
   ]
  },
  {
   "cell_type": "code",
   "execution_count": null,
   "id": "66f86465",
   "metadata": {},
   "outputs": [],
   "source": []
  },
  {
   "cell_type": "code",
   "execution_count": 97,
   "id": "f4531d79",
   "metadata": {},
   "outputs": [],
   "source": [
    "# Copy all the predictor variables into X dataframe\n",
    "x = df_dummy.drop('Contraceptive_method_used', axis=1)\n",
    "\n",
    "# Copy target into the y dataframe. \n",
    "y = df_dummy['Contraceptive_method_used']"
   ]
  },
  {
   "cell_type": "code",
   "execution_count": 98,
   "id": "42b62737",
   "metadata": {},
   "outputs": [],
   "source": [
    "# Split X and y into training and test set in 70:30 ratio\n",
    "x_train, x_test, y_train, y_test = train_test_split(x, y, test_size=0.30 , random_state=1,stratify=df_dummy['Contraceptive_method_used'])"
   ]
  },
  {
   "cell_type": "markdown",
   "id": "a803c474",
   "metadata": {},
   "source": [
    "### Building a Decision Tree Classifier"
   ]
  },
  {
   "cell_type": "code",
   "execution_count": 99,
   "id": "924f701c",
   "metadata": {},
   "outputs": [],
   "source": [
    "# Initialise a Decision Tree Classifier\n",
    "dt_model = DecisionTreeClassifier(criterion = 'gini', random_state=1)"
   ]
  },
  {
   "cell_type": "code",
   "execution_count": 100,
   "id": "a3de287a",
   "metadata": {},
   "outputs": [
    {
     "data": {
      "text/plain": [
       "DecisionTreeClassifier(random_state=1)"
      ]
     },
     "execution_count": 100,
     "metadata": {},
     "output_type": "execute_result"
    }
   ],
   "source": [
    "# Fit the model\n",
    "dt_model.fit(x_train, y_train)"
   ]
  },
  {
   "cell_type": "code",
   "execution_count": 101,
   "id": "a0a7120d",
   "metadata": {},
   "outputs": [
    {
     "name": "stdout",
     "output_type": "stream",
     "text": [
      "|--- feature_3 <= 0.50\n",
      "|   |--- feature_0 <= 17.50\n",
      "|   |   |--- class: 1\n",
      "|   |--- feature_0 >  17.50\n",
      "|   |   |--- feature_4 <= 3.50\n",
      "|   |   |   |--- class: 0\n",
      "|   |   |--- feature_4 >  3.50\n",
      "|   |   |   |--- feature_1 <= 1.50\n",
      "|   |   |   |   |--- class: 0\n",
      "|   |   |   |--- feature_1 >  1.50\n",
      "|   |   |   |   |--- class: 1\n",
      "|--- feature_3 >  0.50\n",
      "|   |--- feature_0 <= 37.50\n",
      "|   |   |--- feature_3 <= 2.50\n",
      "|   |   |   |--- feature_0 <= 34.50\n",
      "|   |   |   |   |--- feature_1 <= 2.50\n",
      "|   |   |   |   |   |--- feature_2 <= 1.50\n",
      "|   |   |   |   |   |   |--- class: 1\n",
      "|   |   |   |   |   |--- feature_2 >  1.50\n",
      "|   |   |   |   |   |   |--- feature_5 <= 1.50\n",
      "|   |   |   |   |   |   |   |--- feature_0 <= 21.00\n",
      "|   |   |   |   |   |   |   |   |--- feature_2 <= 2.50\n",
      "|   |   |   |   |   |   |   |   |   |--- class: 0\n",
      "|   |   |   |   |   |   |   |   |--- feature_2 >  2.50\n",
      "|   |   |   |   |   |   |   |   |   |--- class: 1\n",
      "|   |   |   |   |   |   |   |--- feature_0 >  21.00\n",
      "|   |   |   |   |   |   |   |   |--- feature_0 <= 25.50\n",
      "|   |   |   |   |   |   |   |   |   |--- feature_0 <= 24.50\n",
      "|   |   |   |   |   |   |   |   |   |   |--- class: 0\n",
      "|   |   |   |   |   |   |   |   |   |--- feature_0 >  24.50\n",
      "|   |   |   |   |   |   |   |   |   |   |--- feature_7 <= 0.50\n",
      "|   |   |   |   |   |   |   |   |   |   |   |--- class: 1\n",
      "|   |   |   |   |   |   |   |   |   |   |--- feature_7 >  0.50\n",
      "|   |   |   |   |   |   |   |   |   |   |   |--- class: 0\n",
      "|   |   |   |   |   |   |   |   |--- feature_0 >  25.50\n",
      "|   |   |   |   |   |   |   |   |   |--- class: 0\n",
      "|   |   |   |   |   |   |--- feature_5 >  1.50\n",
      "|   |   |   |   |   |   |   |--- feature_4 <= 1.50\n",
      "|   |   |   |   |   |   |   |   |--- feature_2 <= 3.50\n",
      "|   |   |   |   |   |   |   |   |   |--- class: 0\n",
      "|   |   |   |   |   |   |   |   |--- feature_2 >  3.50\n",
      "|   |   |   |   |   |   |   |   |   |--- class: 1\n",
      "|   |   |   |   |   |   |   |--- feature_4 >  1.50\n",
      "|   |   |   |   |   |   |   |   |--- feature_2 <= 2.50\n",
      "|   |   |   |   |   |   |   |   |   |--- feature_0 <= 26.00\n",
      "|   |   |   |   |   |   |   |   |   |   |--- feature_0 <= 23.50\n",
      "|   |   |   |   |   |   |   |   |   |   |   |--- truncated branch of depth 4\n",
      "|   |   |   |   |   |   |   |   |   |   |--- feature_0 >  23.50\n",
      "|   |   |   |   |   |   |   |   |   |   |   |--- class: 1\n",
      "|   |   |   |   |   |   |   |   |   |--- feature_0 >  26.00\n",
      "|   |   |   |   |   |   |   |   |   |   |--- feature_0 <= 28.50\n",
      "|   |   |   |   |   |   |   |   |   |   |   |--- class: 0\n",
      "|   |   |   |   |   |   |   |   |   |   |--- feature_0 >  28.50\n",
      "|   |   |   |   |   |   |   |   |   |   |   |--- truncated branch of depth 2\n",
      "|   |   |   |   |   |   |   |   |--- feature_2 >  2.50\n",
      "|   |   |   |   |   |   |   |   |   |--- feature_0 <= 20.50\n",
      "|   |   |   |   |   |   |   |   |   |   |--- class: 0\n",
      "|   |   |   |   |   |   |   |   |   |--- feature_0 >  20.50\n",
      "|   |   |   |   |   |   |   |   |   |   |--- feature_5 <= 2.50\n",
      "|   |   |   |   |   |   |   |   |   |   |   |--- truncated branch of depth 4\n",
      "|   |   |   |   |   |   |   |   |   |   |--- feature_5 >  2.50\n",
      "|   |   |   |   |   |   |   |   |   |   |   |--- truncated branch of depth 9\n",
      "|   |   |   |   |--- feature_1 >  2.50\n",
      "|   |   |   |   |   |--- feature_0 <= 32.50\n",
      "|   |   |   |   |   |   |--- feature_0 <= 20.50\n",
      "|   |   |   |   |   |   |   |--- feature_4 <= 2.50\n",
      "|   |   |   |   |   |   |   |   |--- feature_3 <= 1.50\n",
      "|   |   |   |   |   |   |   |   |   |--- feature_0 <= 18.00\n",
      "|   |   |   |   |   |   |   |   |   |   |--- class: 1\n",
      "|   |   |   |   |   |   |   |   |   |--- feature_0 >  18.00\n",
      "|   |   |   |   |   |   |   |   |   |   |--- feature_5 <= 2.00\n",
      "|   |   |   |   |   |   |   |   |   |   |   |--- class: 1\n",
      "|   |   |   |   |   |   |   |   |   |   |--- feature_5 >  2.00\n",
      "|   |   |   |   |   |   |   |   |   |   |   |--- truncated branch of depth 5\n",
      "|   |   |   |   |   |   |   |   |--- feature_3 >  1.50\n",
      "|   |   |   |   |   |   |   |   |   |--- class: 1\n",
      "|   |   |   |   |   |   |   |--- feature_4 >  2.50\n",
      "|   |   |   |   |   |   |   |   |--- feature_1 <= 3.50\n",
      "|   |   |   |   |   |   |   |   |   |--- feature_0 <= 19.50\n",
      "|   |   |   |   |   |   |   |   |   |   |--- class: 0\n",
      "|   |   |   |   |   |   |   |   |   |--- feature_0 >  19.50\n",
      "|   |   |   |   |   |   |   |   |   |   |--- feature_3 <= 1.50\n",
      "|   |   |   |   |   |   |   |   |   |   |   |--- class: 0\n",
      "|   |   |   |   |   |   |   |   |   |   |--- feature_3 >  1.50\n",
      "|   |   |   |   |   |   |   |   |   |   |   |--- class: 0\n",
      "|   |   |   |   |   |   |   |   |--- feature_1 >  3.50\n",
      "|   |   |   |   |   |   |   |   |   |--- class: 1\n",
      "|   |   |   |   |   |   |--- feature_0 >  20.50\n",
      "|   |   |   |   |   |   |   |--- feature_0 <= 22.50\n",
      "|   |   |   |   |   |   |   |   |--- feature_5 <= 2.50\n",
      "|   |   |   |   |   |   |   |   |   |--- class: 1\n",
      "|   |   |   |   |   |   |   |   |--- feature_5 >  2.50\n",
      "|   |   |   |   |   |   |   |   |   |--- feature_4 <= 2.50\n",
      "|   |   |   |   |   |   |   |   |   |   |--- feature_0 <= 21.50\n",
      "|   |   |   |   |   |   |   |   |   |   |   |--- truncated branch of depth 2\n",
      "|   |   |   |   |   |   |   |   |   |   |--- feature_0 >  21.50\n",
      "|   |   |   |   |   |   |   |   |   |   |   |--- class: 1\n",
      "|   |   |   |   |   |   |   |   |   |--- feature_4 >  2.50\n",
      "|   |   |   |   |   |   |   |   |   |   |--- feature_3 <= 1.50\n",
      "|   |   |   |   |   |   |   |   |   |   |   |--- truncated branch of depth 3\n",
      "|   |   |   |   |   |   |   |   |   |   |--- feature_3 >  1.50\n",
      "|   |   |   |   |   |   |   |   |   |   |   |--- truncated branch of depth 3\n",
      "|   |   |   |   |   |   |   |--- feature_0 >  22.50\n",
      "|   |   |   |   |   |   |   |   |--- feature_0 <= 31.50\n",
      "|   |   |   |   |   |   |   |   |   |--- feature_0 <= 30.50\n",
      "|   |   |   |   |   |   |   |   |   |   |--- feature_5 <= 1.50\n",
      "|   |   |   |   |   |   |   |   |   |   |   |--- truncated branch of depth 3\n",
      "|   |   |   |   |   |   |   |   |   |   |--- feature_5 >  1.50\n",
      "|   |   |   |   |   |   |   |   |   |   |   |--- truncated branch of depth 13\n",
      "|   |   |   |   |   |   |   |   |   |--- feature_0 >  30.50\n",
      "|   |   |   |   |   |   |   |   |   |   |--- class: 0\n",
      "|   |   |   |   |   |   |   |   |--- feature_0 >  31.50\n",
      "|   |   |   |   |   |   |   |   |   |--- feature_3 <= 1.50\n",
      "|   |   |   |   |   |   |   |   |   |   |--- feature_2 <= 3.50\n",
      "|   |   |   |   |   |   |   |   |   |   |   |--- class: 1\n",
      "|   |   |   |   |   |   |   |   |   |   |--- feature_2 >  3.50\n",
      "|   |   |   |   |   |   |   |   |   |   |   |--- truncated branch of depth 3\n",
      "|   |   |   |   |   |   |   |   |   |--- feature_3 >  1.50\n",
      "|   |   |   |   |   |   |   |   |   |   |--- feature_5 <= 3.50\n",
      "|   |   |   |   |   |   |   |   |   |   |   |--- truncated branch of depth 3\n",
      "|   |   |   |   |   |   |   |   |   |   |--- feature_5 >  3.50\n",
      "|   |   |   |   |   |   |   |   |   |   |   |--- class: 1\n",
      "|   |   |   |   |   |--- feature_0 >  32.50\n",
      "|   |   |   |   |   |   |--- feature_3 <= 1.50\n",
      "|   |   |   |   |   |   |   |--- class: 0\n",
      "|   |   |   |   |   |   |--- feature_3 >  1.50\n",
      "|   |   |   |   |   |   |   |--- feature_5 <= 3.50\n",
      "|   |   |   |   |   |   |   |   |--- feature_6 <= 0.50\n",
      "|   |   |   |   |   |   |   |   |   |--- class: 1\n",
      "|   |   |   |   |   |   |   |   |--- feature_6 >  0.50\n",
      "|   |   |   |   |   |   |   |   |   |--- feature_7 <= 0.50\n",
      "|   |   |   |   |   |   |   |   |   |   |--- class: 1\n",
      "|   |   |   |   |   |   |   |   |   |--- feature_7 >  0.50\n",
      "|   |   |   |   |   |   |   |   |   |   |--- class: 0\n",
      "|   |   |   |   |   |   |   |--- feature_5 >  3.50\n",
      "|   |   |   |   |   |   |   |   |--- feature_1 <= 3.50\n",
      "|   |   |   |   |   |   |   |   |   |--- class: 1\n",
      "|   |   |   |   |   |   |   |   |--- feature_1 >  3.50\n",
      "|   |   |   |   |   |   |   |   |   |--- feature_0 <= 33.50\n",
      "|   |   |   |   |   |   |   |   |   |   |--- class: 0\n",
      "|   |   |   |   |   |   |   |   |   |--- feature_0 >  33.50\n",
      "|   |   |   |   |   |   |   |   |   |   |--- feature_6 <= 0.50\n",
      "|   |   |   |   |   |   |   |   |   |   |   |--- class: 0\n",
      "|   |   |   |   |   |   |   |   |   |   |--- feature_6 >  0.50\n",
      "|   |   |   |   |   |   |   |   |   |   |   |--- truncated branch of depth 2\n",
      "|   |   |   |--- feature_0 >  34.50\n",
      "|   |   |   |   |--- feature_4 <= 1.50\n",
      "|   |   |   |   |   |--- feature_7 <= 0.50\n",
      "|   |   |   |   |   |   |--- feature_6 <= 0.50\n",
      "|   |   |   |   |   |   |   |--- feature_3 <= 1.50\n",
      "|   |   |   |   |   |   |   |   |--- class: 1\n",
      "|   |   |   |   |   |   |   |--- feature_3 >  1.50\n",
      "|   |   |   |   |   |   |   |   |--- class: 0\n",
      "|   |   |   |   |   |   |--- feature_6 >  0.50\n",
      "|   |   |   |   |   |   |   |--- class: 0\n",
      "|   |   |   |   |   |--- feature_7 >  0.50\n",
      "|   |   |   |   |   |   |--- class: 1\n",
      "|   |   |   |   |--- feature_4 >  1.50\n",
      "|   |   |   |   |   |--- class: 0\n",
      "|   |   |--- feature_3 >  2.50\n",
      "|   |   |   |--- feature_5 <= 2.50\n",
      "|   |   |   |   |--- feature_0 <= 21.50\n",
      "|   |   |   |   |   |--- class: 0\n",
      "|   |   |   |   |--- feature_0 >  21.50\n",
      "|   |   |   |   |   |--- feature_0 <= 25.50\n",
      "|   |   |   |   |   |   |--- feature_4 <= 2.50\n",
      "|   |   |   |   |   |   |   |--- feature_2 <= 2.50\n",
      "|   |   |   |   |   |   |   |   |--- class: 0\n",
      "|   |   |   |   |   |   |   |--- feature_2 >  2.50\n",
      "|   |   |   |   |   |   |   |   |--- feature_0 <= 24.50\n",
      "|   |   |   |   |   |   |   |   |   |--- class: 1\n",
      "|   |   |   |   |   |   |   |   |--- feature_0 >  24.50\n",
      "|   |   |   |   |   |   |   |   |   |--- feature_2 <= 3.50\n",
      "|   |   |   |   |   |   |   |   |   |   |--- class: 1\n",
      "|   |   |   |   |   |   |   |   |   |--- feature_2 >  3.50\n",
      "|   |   |   |   |   |   |   |   |   |   |--- class: 0\n",
      "|   |   |   |   |   |   |--- feature_4 >  2.50\n",
      "|   |   |   |   |   |   |   |--- class: 1\n",
      "|   |   |   |   |   |--- feature_0 >  25.50\n",
      "|   |   |   |   |   |   |--- feature_0 <= 28.50\n",
      "|   |   |   |   |   |   |   |--- feature_5 <= 1.50\n",
      "|   |   |   |   |   |   |   |   |--- feature_3 <= 4.50\n",
      "|   |   |   |   |   |   |   |   |   |--- class: 0\n",
      "|   |   |   |   |   |   |   |   |--- feature_3 >  4.50\n",
      "|   |   |   |   |   |   |   |   |   |--- feature_4 <= 2.50\n",
      "|   |   |   |   |   |   |   |   |   |   |--- class: 0\n",
      "|   |   |   |   |   |   |   |   |   |--- feature_4 >  2.50\n",
      "|   |   |   |   |   |   |   |   |   |   |--- class: 1\n",
      "|   |   |   |   |   |   |   |--- feature_5 >  1.50\n",
      "|   |   |   |   |   |   |   |   |--- feature_4 <= 2.50\n",
      "|   |   |   |   |   |   |   |   |   |--- class: 1\n",
      "|   |   |   |   |   |   |   |   |--- feature_4 >  2.50\n",
      "|   |   |   |   |   |   |   |   |   |--- feature_0 <= 26.50\n",
      "|   |   |   |   |   |   |   |   |   |   |--- class: 1\n",
      "|   |   |   |   |   |   |   |   |   |--- feature_0 >  26.50\n",
      "|   |   |   |   |   |   |   |   |   |   |--- class: 0\n",
      "|   |   |   |   |   |   |--- feature_0 >  28.50\n",
      "|   |   |   |   |   |   |   |--- feature_0 <= 29.50\n",
      "|   |   |   |   |   |   |   |   |--- class: 1\n",
      "|   |   |   |   |   |   |   |--- feature_0 >  29.50\n",
      "|   |   |   |   |   |   |   |   |--- feature_8 <= 0.50\n",
      "|   |   |   |   |   |   |   |   |   |--- feature_2 <= 2.50\n",
      "|   |   |   |   |   |   |   |   |   |   |--- feature_1 <= 1.50\n",
      "|   |   |   |   |   |   |   |   |   |   |   |--- truncated branch of depth 2\n",
      "|   |   |   |   |   |   |   |   |   |   |--- feature_1 >  1.50\n",
      "|   |   |   |   |   |   |   |   |   |   |   |--- class: 1\n",
      "|   |   |   |   |   |   |   |   |   |--- feature_2 >  2.50\n",
      "|   |   |   |   |   |   |   |   |   |   |--- feature_3 <= 6.50\n",
      "|   |   |   |   |   |   |   |   |   |   |   |--- truncated branch of depth 7\n",
      "|   |   |   |   |   |   |   |   |   |   |--- feature_3 >  6.50\n",
      "|   |   |   |   |   |   |   |   |   |   |   |--- class: 0\n",
      "|   |   |   |   |   |   |   |   |--- feature_8 >  0.50\n",
      "|   |   |   |   |   |   |   |   |   |--- feature_3 <= 5.00\n",
      "|   |   |   |   |   |   |   |   |   |   |--- feature_3 <= 3.50\n",
      "|   |   |   |   |   |   |   |   |   |   |   |--- class: 1\n",
      "|   |   |   |   |   |   |   |   |   |   |--- feature_3 >  3.50\n",
      "|   |   |   |   |   |   |   |   |   |   |   |--- truncated branch of depth 3\n",
      "|   |   |   |   |   |   |   |   |   |--- feature_3 >  5.00\n",
      "|   |   |   |   |   |   |   |   |   |   |--- feature_3 <= 7.50\n",
      "|   |   |   |   |   |   |   |   |   |   |   |--- truncated branch of depth 2\n",
      "|   |   |   |   |   |   |   |   |   |   |--- feature_3 >  7.50\n",
      "|   |   |   |   |   |   |   |   |   |   |   |--- class: 0\n",
      "|   |   |   |--- feature_5 >  2.50\n",
      "|   |   |   |   |--- feature_4 <= 2.50\n",
      "|   |   |   |   |   |--- feature_2 <= 3.50\n",
      "|   |   |   |   |   |   |--- feature_0 <= 35.50\n",
      "|   |   |   |   |   |   |   |--- feature_3 <= 6.50\n",
      "|   |   |   |   |   |   |   |   |--- feature_0 <= 27.50\n",
      "|   |   |   |   |   |   |   |   |   |--- feature_3 <= 4.50\n",
      "|   |   |   |   |   |   |   |   |   |   |--- feature_0 <= 23.50\n",
      "|   |   |   |   |   |   |   |   |   |   |   |--- class: 1\n",
      "|   |   |   |   |   |   |   |   |   |   |--- feature_0 >  23.50\n",
      "|   |   |   |   |   |   |   |   |   |   |   |--- truncated branch of depth 3\n",
      "|   |   |   |   |   |   |   |   |   |--- feature_3 >  4.50\n",
      "|   |   |   |   |   |   |   |   |   |   |--- class: 1\n",
      "|   |   |   |   |   |   |   |   |--- feature_0 >  27.50\n",
      "|   |   |   |   |   |   |   |   |   |--- feature_7 <= 0.50\n",
      "|   |   |   |   |   |   |   |   |   |   |--- class: 1\n",
      "|   |   |   |   |   |   |   |   |   |--- feature_7 >  0.50\n",
      "|   |   |   |   |   |   |   |   |   |   |--- feature_1 <= 2.50\n",
      "|   |   |   |   |   |   |   |   |   |   |   |--- class: 1\n",
      "|   |   |   |   |   |   |   |   |   |   |--- feature_1 >  2.50\n",
      "|   |   |   |   |   |   |   |   |   |   |   |--- truncated branch of depth 3\n",
      "|   |   |   |   |   |   |   |--- feature_3 >  6.50\n",
      "|   |   |   |   |   |   |   |   |--- feature_0 <= 32.50\n",
      "|   |   |   |   |   |   |   |   |   |--- class: 0\n",
      "|   |   |   |   |   |   |   |   |--- feature_0 >  32.50\n",
      "|   |   |   |   |   |   |   |   |   |--- feature_0 <= 33.50\n",
      "|   |   |   |   |   |   |   |   |   |   |--- class: 1\n",
      "|   |   |   |   |   |   |   |   |   |--- feature_0 >  33.50\n",
      "|   |   |   |   |   |   |   |   |   |   |--- class: 0\n",
      "|   |   |   |   |   |   |--- feature_0 >  35.50\n",
      "|   |   |   |   |   |   |   |--- feature_4 <= 1.50\n",
      "|   |   |   |   |   |   |   |   |--- class: 1\n",
      "|   |   |   |   |   |   |   |--- feature_4 >  1.50\n",
      "|   |   |   |   |   |   |   |   |--- class: 0\n",
      "|   |   |   |   |   |--- feature_2 >  3.50\n",
      "|   |   |   |   |   |   |--- feature_0 <= 30.50\n",
      "|   |   |   |   |   |   |   |--- feature_1 <= 3.50\n",
      "|   |   |   |   |   |   |   |   |--- feature_4 <= 1.50\n",
      "|   |   |   |   |   |   |   |   |   |--- feature_3 <= 3.50\n",
      "|   |   |   |   |   |   |   |   |   |   |--- class: 1\n",
      "|   |   |   |   |   |   |   |   |   |--- feature_3 >  3.50\n",
      "|   |   |   |   |   |   |   |   |   |   |--- feature_5 <= 3.50\n",
      "|   |   |   |   |   |   |   |   |   |   |   |--- class: 0\n",
      "|   |   |   |   |   |   |   |   |   |   |--- feature_5 >  3.50\n",
      "|   |   |   |   |   |   |   |   |   |   |   |--- class: 0\n",
      "|   |   |   |   |   |   |   |   |--- feature_4 >  1.50\n",
      "|   |   |   |   |   |   |   |   |   |--- class: 1\n",
      "|   |   |   |   |   |   |   |--- feature_1 >  3.50\n",
      "|   |   |   |   |   |   |   |   |--- feature_5 <= 3.50\n",
      "|   |   |   |   |   |   |   |   |   |--- class: 1\n",
      "|   |   |   |   |   |   |   |   |--- feature_5 >  3.50\n",
      "|   |   |   |   |   |   |   |   |   |--- feature_0 <= 28.50\n",
      "|   |   |   |   |   |   |   |   |   |   |--- class: 0\n",
      "|   |   |   |   |   |   |   |   |   |--- feature_0 >  28.50\n",
      "|   |   |   |   |   |   |   |   |   |   |--- feature_0 <= 29.50\n",
      "|   |   |   |   |   |   |   |   |   |   |   |--- class: 1\n",
      "|   |   |   |   |   |   |   |   |   |   |--- feature_0 >  29.50\n",
      "|   |   |   |   |   |   |   |   |   |   |   |--- class: 0\n",
      "|   |   |   |   |   |   |--- feature_0 >  30.50\n",
      "|   |   |   |   |   |   |   |--- feature_5 <= 3.50\n",
      "|   |   |   |   |   |   |   |   |--- feature_0 <= 34.50\n",
      "|   |   |   |   |   |   |   |   |   |--- feature_7 <= 0.50\n",
      "|   |   |   |   |   |   |   |   |   |   |--- feature_0 <= 31.50\n",
      "|   |   |   |   |   |   |   |   |   |   |   |--- class: 1\n",
      "|   |   |   |   |   |   |   |   |   |   |--- feature_0 >  31.50\n",
      "|   |   |   |   |   |   |   |   |   |   |   |--- truncated branch of depth 5\n",
      "|   |   |   |   |   |   |   |   |   |--- feature_7 >  0.50\n",
      "|   |   |   |   |   |   |   |   |   |   |--- class: 0\n",
      "|   |   |   |   |   |   |   |   |--- feature_0 >  34.50\n",
      "|   |   |   |   |   |   |   |   |   |--- feature_1 <= 2.50\n",
      "|   |   |   |   |   |   |   |   |   |   |--- class: 0\n",
      "|   |   |   |   |   |   |   |   |   |--- feature_1 >  2.50\n",
      "|   |   |   |   |   |   |   |   |   |   |--- class: 1\n",
      "|   |   |   |   |   |   |   |--- feature_5 >  3.50\n",
      "|   |   |   |   |   |   |   |   |--- feature_6 <= 0.50\n",
      "|   |   |   |   |   |   |   |   |   |--- class: 1\n",
      "|   |   |   |   |   |   |   |   |--- feature_6 >  0.50\n",
      "|   |   |   |   |   |   |   |   |   |--- feature_1 <= 3.50\n",
      "|   |   |   |   |   |   |   |   |   |   |--- feature_0 <= 35.50\n",
      "|   |   |   |   |   |   |   |   |   |   |   |--- truncated branch of depth 4\n",
      "|   |   |   |   |   |   |   |   |   |   |--- feature_0 >  35.50\n",
      "|   |   |   |   |   |   |   |   |   |   |   |--- truncated branch of depth 2\n",
      "|   |   |   |   |   |   |   |   |   |--- feature_1 >  3.50\n",
      "|   |   |   |   |   |   |   |   |   |   |--- feature_0 <= 32.50\n",
      "|   |   |   |   |   |   |   |   |   |   |   |--- class: 1\n",
      "|   |   |   |   |   |   |   |   |   |   |--- feature_0 >  32.50\n",
      "|   |   |   |   |   |   |   |   |   |   |   |--- truncated branch of depth 10\n",
      "|   |   |   |   |--- feature_4 >  2.50\n",
      "|   |   |   |   |   |--- feature_0 <= 21.50\n",
      "|   |   |   |   |   |   |--- class: 0\n",
      "|   |   |   |   |   |--- feature_0 >  21.50\n",
      "|   |   |   |   |   |   |--- feature_0 <= 28.50\n",
      "|   |   |   |   |   |   |   |--- feature_2 <= 3.50\n",
      "|   |   |   |   |   |   |   |   |--- feature_0 <= 26.50\n",
      "|   |   |   |   |   |   |   |   |   |--- feature_5 <= 3.50\n",
      "|   |   |   |   |   |   |   |   |   |   |--- class: 1\n",
      "|   |   |   |   |   |   |   |   |   |--- feature_5 >  3.50\n",
      "|   |   |   |   |   |   |   |   |   |   |--- feature_0 <= 25.00\n",
      "|   |   |   |   |   |   |   |   |   |   |   |--- class: 0\n",
      "|   |   |   |   |   |   |   |   |   |   |--- feature_0 >  25.00\n",
      "|   |   |   |   |   |   |   |   |   |   |   |--- truncated branch of depth 2\n",
      "|   |   |   |   |   |   |   |   |--- feature_0 >  26.50\n",
      "|   |   |   |   |   |   |   |   |   |--- feature_1 <= 1.50\n",
      "|   |   |   |   |   |   |   |   |   |   |--- class: 1\n",
      "|   |   |   |   |   |   |   |   |   |--- feature_1 >  1.50\n",
      "|   |   |   |   |   |   |   |   |   |   |--- class: 0\n",
      "|   |   |   |   |   |   |   |--- feature_2 >  3.50\n",
      "|   |   |   |   |   |   |   |   |--- feature_1 <= 2.50\n",
      "|   |   |   |   |   |   |   |   |   |--- feature_0 <= 25.50\n",
      "|   |   |   |   |   |   |   |   |   |   |--- class: 1\n",
      "|   |   |   |   |   |   |   |   |   |--- feature_0 >  25.50\n",
      "|   |   |   |   |   |   |   |   |   |   |--- feature_0 <= 26.50\n",
      "|   |   |   |   |   |   |   |   |   |   |   |--- class: 0\n",
      "|   |   |   |   |   |   |   |   |   |   |--- feature_0 >  26.50\n",
      "|   |   |   |   |   |   |   |   |   |   |   |--- class: 1\n",
      "|   |   |   |   |   |   |   |   |--- feature_1 >  2.50\n",
      "|   |   |   |   |   |   |   |   |   |--- class: 1\n",
      "|   |   |   |   |   |   |--- feature_0 >  28.50\n",
      "|   |   |   |   |   |   |   |--- feature_0 <= 32.50\n",
      "|   |   |   |   |   |   |   |   |--- feature_2 <= 2.50\n",
      "|   |   |   |   |   |   |   |   |   |--- feature_0 <= 31.50\n",
      "|   |   |   |   |   |   |   |   |   |   |--- feature_0 <= 30.50\n",
      "|   |   |   |   |   |   |   |   |   |   |   |--- class: 1\n",
      "|   |   |   |   |   |   |   |   |   |   |--- feature_0 >  30.50\n",
      "|   |   |   |   |   |   |   |   |   |   |   |--- truncated branch of depth 2\n",
      "|   |   |   |   |   |   |   |   |   |--- feature_0 >  31.50\n",
      "|   |   |   |   |   |   |   |   |   |   |--- class: 1\n",
      "|   |   |   |   |   |   |   |   |--- feature_2 >  2.50\n",
      "|   |   |   |   |   |   |   |   |   |--- class: 1\n",
      "|   |   |   |   |   |   |   |--- feature_0 >  32.50\n",
      "|   |   |   |   |   |   |   |   |--- feature_3 <= 4.50\n",
      "|   |   |   |   |   |   |   |   |   |--- class: 1\n",
      "|   |   |   |   |   |   |   |   |--- feature_3 >  4.50\n",
      "|   |   |   |   |   |   |   |   |   |--- feature_2 <= 3.50\n",
      "|   |   |   |   |   |   |   |   |   |   |--- feature_7 <= 0.50\n",
      "|   |   |   |   |   |   |   |   |   |   |   |--- class: 1\n",
      "|   |   |   |   |   |   |   |   |   |   |--- feature_7 >  0.50\n",
      "|   |   |   |   |   |   |   |   |   |   |   |--- truncated branch of depth 3\n",
      "|   |   |   |   |   |   |   |   |   |--- feature_2 >  3.50\n",
      "|   |   |   |   |   |   |   |   |   |   |--- feature_5 <= 3.50\n",
      "|   |   |   |   |   |   |   |   |   |   |   |--- class: 0\n",
      "|   |   |   |   |   |   |   |   |   |   |--- feature_5 >  3.50\n",
      "|   |   |   |   |   |   |   |   |   |   |   |--- truncated branch of depth 5\n",
      "|   |--- feature_0 >  37.50\n",
      "|   |   |--- feature_1 <= 2.50\n",
      "|   |   |   |--- feature_3 <= 12.50\n",
      "|   |   |   |   |--- feature_5 <= 3.50\n",
      "|   |   |   |   |   |--- feature_0 <= 45.50\n",
      "|   |   |   |   |   |   |--- feature_8 <= 0.50\n",
      "|   |   |   |   |   |   |   |--- feature_7 <= 0.50\n",
      "|   |   |   |   |   |   |   |   |--- feature_3 <= 9.50\n",
      "|   |   |   |   |   |   |   |   |   |--- feature_0 <= 43.50\n",
      "|   |   |   |   |   |   |   |   |   |   |--- feature_3 <= 3.50\n",
      "|   |   |   |   |   |   |   |   |   |   |   |--- class: 0\n",
      "|   |   |   |   |   |   |   |   |   |   |--- feature_3 >  3.50\n",
      "|   |   |   |   |   |   |   |   |   |   |   |--- truncated branch of depth 5\n",
      "|   |   |   |   |   |   |   |   |   |--- feature_0 >  43.50\n",
      "|   |   |   |   |   |   |   |   |   |   |--- feature_3 <= 6.00\n",
      "|   |   |   |   |   |   |   |   |   |   |   |--- class: 1\n",
      "|   |   |   |   |   |   |   |   |   |   |--- feature_3 >  6.00\n",
      "|   |   |   |   |   |   |   |   |   |   |   |--- class: 0\n",
      "|   |   |   |   |   |   |   |   |--- feature_3 >  9.50\n",
      "|   |   |   |   |   |   |   |   |   |--- class: 0\n",
      "|   |   |   |   |   |   |   |--- feature_7 >  0.50\n",
      "|   |   |   |   |   |   |   |   |--- class: 0\n",
      "|   |   |   |   |   |   |--- feature_8 >  0.50\n",
      "|   |   |   |   |   |   |   |--- class: 0\n",
      "|   |   |   |   |   |--- feature_0 >  45.50\n",
      "|   |   |   |   |   |   |--- class: 0\n",
      "|   |   |   |   |--- feature_5 >  3.50\n",
      "|   |   |   |   |   |--- feature_6 <= 0.50\n",
      "|   |   |   |   |   |   |--- class: 1\n",
      "|   |   |   |   |   |--- feature_6 >  0.50\n",
      "|   |   |   |   |   |   |--- feature_0 <= 47.50\n",
      "|   |   |   |   |   |   |   |--- feature_2 <= 1.50\n",
      "|   |   |   |   |   |   |   |   |--- class: 1\n",
      "|   |   |   |   |   |   |   |--- feature_2 >  1.50\n",
      "|   |   |   |   |   |   |   |   |--- feature_7 <= 0.50\n",
      "|   |   |   |   |   |   |   |   |   |--- feature_3 <= 2.50\n",
      "|   |   |   |   |   |   |   |   |   |   |--- class: 0\n",
      "|   |   |   |   |   |   |   |   |   |--- feature_3 >  2.50\n",
      "|   |   |   |   |   |   |   |   |   |   |--- feature_3 <= 5.00\n",
      "|   |   |   |   |   |   |   |   |   |   |   |--- truncated branch of depth 2\n",
      "|   |   |   |   |   |   |   |   |   |   |--- feature_3 >  5.00\n",
      "|   |   |   |   |   |   |   |   |   |   |   |--- truncated branch of depth 5\n",
      "|   |   |   |   |   |   |   |   |--- feature_7 >  0.50\n",
      "|   |   |   |   |   |   |   |   |   |--- feature_2 <= 2.50\n",
      "|   |   |   |   |   |   |   |   |   |   |--- class: 1\n",
      "|   |   |   |   |   |   |   |   |   |--- feature_2 >  2.50\n",
      "|   |   |   |   |   |   |   |   |   |   |--- class: 0\n",
      "|   |   |   |   |   |   |--- feature_0 >  47.50\n",
      "|   |   |   |   |   |   |   |--- class: 0\n",
      "|   |   |   |--- feature_3 >  12.50\n",
      "|   |   |   |   |--- class: 1\n",
      "|   |   |--- feature_1 >  2.50\n",
      "|   |   |   |--- feature_3 <= 1.50\n",
      "|   |   |   |   |--- feature_5 <= 2.50\n",
      "|   |   |   |   |   |--- feature_2 <= 3.50\n",
      "|   |   |   |   |   |   |--- class: 1\n",
      "|   |   |   |   |   |--- feature_2 >  3.50\n",
      "|   |   |   |   |   |   |--- class: 0\n",
      "|   |   |   |   |--- feature_5 >  2.50\n",
      "|   |   |   |   |   |--- feature_0 <= 41.50\n",
      "|   |   |   |   |   |   |--- feature_0 <= 40.50\n",
      "|   |   |   |   |   |   |   |--- class: 0\n",
      "|   |   |   |   |   |   |--- feature_0 >  40.50\n",
      "|   |   |   |   |   |   |   |--- class: 1\n",
      "|   |   |   |   |   |--- feature_0 >  41.50\n",
      "|   |   |   |   |   |   |--- class: 0\n",
      "|   |   |   |--- feature_3 >  1.50\n",
      "|   |   |   |   |--- feature_1 <= 3.50\n",
      "|   |   |   |   |   |--- feature_2 <= 2.50\n",
      "|   |   |   |   |   |   |--- class: 0\n",
      "|   |   |   |   |   |--- feature_2 >  2.50\n",
      "|   |   |   |   |   |   |--- feature_0 <= 42.50\n",
      "|   |   |   |   |   |   |   |--- feature_3 <= 7.50\n",
      "|   |   |   |   |   |   |   |   |--- feature_2 <= 3.50\n",
      "|   |   |   |   |   |   |   |   |   |--- feature_5 <= 3.50\n",
      "|   |   |   |   |   |   |   |   |   |   |--- class: 0\n",
      "|   |   |   |   |   |   |   |   |   |--- feature_5 >  3.50\n",
      "|   |   |   |   |   |   |   |   |   |   |--- feature_6 <= 0.50\n",
      "|   |   |   |   |   |   |   |   |   |   |   |--- class: 1\n",
      "|   |   |   |   |   |   |   |   |   |   |--- feature_6 >  0.50\n",
      "|   |   |   |   |   |   |   |   |   |   |   |--- truncated branch of depth 4\n",
      "|   |   |   |   |   |   |   |   |--- feature_2 >  3.50\n",
      "|   |   |   |   |   |   |   |   |   |--- feature_4 <= 2.50\n",
      "|   |   |   |   |   |   |   |   |   |   |--- feature_0 <= 39.50\n",
      "|   |   |   |   |   |   |   |   |   |   |   |--- truncated branch of depth 2\n",
      "|   |   |   |   |   |   |   |   |   |   |--- feature_0 >  39.50\n",
      "|   |   |   |   |   |   |   |   |   |   |   |--- truncated branch of depth 2\n",
      "|   |   |   |   |   |   |   |   |   |--- feature_4 >  2.50\n",
      "|   |   |   |   |   |   |   |   |   |   |--- class: 1\n",
      "|   |   |   |   |   |   |   |--- feature_3 >  7.50\n",
      "|   |   |   |   |   |   |   |   |--- class: 0\n",
      "|   |   |   |   |   |   |--- feature_0 >  42.50\n",
      "|   |   |   |   |   |   |   |--- feature_7 <= 0.50\n",
      "|   |   |   |   |   |   |   |   |--- feature_3 <= 2.50\n",
      "|   |   |   |   |   |   |   |   |   |--- class: 0\n",
      "|   |   |   |   |   |   |   |   |--- feature_3 >  2.50\n",
      "|   |   |   |   |   |   |   |   |   |--- feature_5 <= 2.50\n",
      "|   |   |   |   |   |   |   |   |   |   |--- class: 1\n",
      "|   |   |   |   |   |   |   |   |   |--- feature_5 >  2.50\n",
      "|   |   |   |   |   |   |   |   |   |   |--- feature_2 <= 3.50\n",
      "|   |   |   |   |   |   |   |   |   |   |   |--- truncated branch of depth 2\n",
      "|   |   |   |   |   |   |   |   |   |   |--- feature_2 >  3.50\n",
      "|   |   |   |   |   |   |   |   |   |   |   |--- truncated branch of depth 3\n",
      "|   |   |   |   |   |   |   |--- feature_7 >  0.50\n",
      "|   |   |   |   |   |   |   |   |--- feature_4 <= 1.50\n",
      "|   |   |   |   |   |   |   |   |   |--- feature_3 <= 4.50\n",
      "|   |   |   |   |   |   |   |   |   |   |--- class: 0\n",
      "|   |   |   |   |   |   |   |   |   |--- feature_3 >  4.50\n",
      "|   |   |   |   |   |   |   |   |   |   |--- class: 1\n",
      "|   |   |   |   |   |   |   |   |--- feature_4 >  1.50\n",
      "|   |   |   |   |   |   |   |   |   |--- class: 1\n",
      "|   |   |   |   |--- feature_1 >  3.50\n",
      "|   |   |   |   |   |--- feature_0 <= 48.50\n",
      "|   |   |   |   |   |   |--- feature_3 <= 9.50\n",
      "|   |   |   |   |   |   |   |--- feature_2 <= 2.50\n",
      "|   |   |   |   |   |   |   |   |--- class: 0\n",
      "|   |   |   |   |   |   |   |--- feature_2 >  2.50\n",
      "|   |   |   |   |   |   |   |   |--- feature_3 <= 3.50\n",
      "|   |   |   |   |   |   |   |   |   |--- feature_4 <= 1.50\n",
      "|   |   |   |   |   |   |   |   |   |   |--- feature_8 <= 0.50\n",
      "|   |   |   |   |   |   |   |   |   |   |   |--- truncated branch of depth 4\n",
      "|   |   |   |   |   |   |   |   |   |   |--- feature_8 >  0.50\n",
      "|   |   |   |   |   |   |   |   |   |   |   |--- class: 0\n",
      "|   |   |   |   |   |   |   |   |   |--- feature_4 >  1.50\n",
      "|   |   |   |   |   |   |   |   |   |   |--- feature_0 <= 39.50\n",
      "|   |   |   |   |   |   |   |   |   |   |   |--- class: 1\n",
      "|   |   |   |   |   |   |   |   |   |   |--- feature_0 >  39.50\n",
      "|   |   |   |   |   |   |   |   |   |   |   |--- truncated branch of depth 2\n",
      "|   |   |   |   |   |   |   |   |--- feature_3 >  3.50\n",
      "|   |   |   |   |   |   |   |   |   |--- feature_0 <= 42.50\n",
      "|   |   |   |   |   |   |   |   |   |   |--- class: 1\n",
      "|   |   |   |   |   |   |   |   |   |--- feature_0 >  42.50\n",
      "|   |   |   |   |   |   |   |   |   |   |--- feature_3 <= 6.50\n",
      "|   |   |   |   |   |   |   |   |   |   |   |--- truncated branch of depth 7\n",
      "|   |   |   |   |   |   |   |   |   |   |--- feature_3 >  6.50\n",
      "|   |   |   |   |   |   |   |   |   |   |   |--- class: 1\n",
      "|   |   |   |   |   |   |--- feature_3 >  9.50\n",
      "|   |   |   |   |   |   |   |--- class: 0\n",
      "|   |   |   |   |   |--- feature_0 >  48.50\n",
      "|   |   |   |   |   |   |--- feature_3 <= 8.50\n",
      "|   |   |   |   |   |   |   |--- class: 0\n",
      "|   |   |   |   |   |   |--- feature_3 >  8.50\n",
      "|   |   |   |   |   |   |   |--- class: 1\n",
      "\n"
     ]
    }
   ],
   "source": [
    "# Text and value represtation\n",
    "from sklearn import tree\n",
    "text_representation = tree.export_text(dt_model)\n",
    "print(text_representation)"
   ]
  },
  {
   "cell_type": "code",
   "execution_count": 102,
   "id": "abf55e64",
   "metadata": {},
   "outputs": [],
   "source": [
    "# Building a tree from dot file\n",
    "from sklearn import tree\n",
    "\n",
    "train_char_label = ['No', 'Yes']\n",
    "ld_Tree_File = open('ld_Tree_File.dot','w')\n",
    "dot_data = tree.export_graphviz(dt_model, \n",
    "                                out_file=ld_Tree_File, \n",
    "                                feature_names = list(x_train), \n",
    "                                class_names = list(train_char_label))\n",
    "\n",
    "ld_Tree_File.close()"
   ]
  },
  {
   "cell_type": "markdown",
   "id": "41100467",
   "metadata": {},
   "source": [
    "### Variable Importance"
   ]
  },
  {
   "cell_type": "code",
   "execution_count": 103,
   "id": "2ce4ce08",
   "metadata": {},
   "outputs": [
    {
     "data": {
      "text/html": [
       "<div>\n",
       "<style scoped>\n",
       "    .dataframe tbody tr th:only-of-type {\n",
       "        vertical-align: middle;\n",
       "    }\n",
       "\n",
       "    .dataframe tbody tr th {\n",
       "        vertical-align: top;\n",
       "    }\n",
       "\n",
       "    .dataframe thead th {\n",
       "        text-align: right;\n",
       "    }\n",
       "</style>\n",
       "<table border=\"1\" class=\"dataframe\">\n",
       "  <thead>\n",
       "    <tr style=\"text-align: right;\">\n",
       "      <th></th>\n",
       "      <th>Features</th>\n",
       "      <th>Importance</th>\n",
       "    </tr>\n",
       "  </thead>\n",
       "  <tbody>\n",
       "    <tr>\n",
       "      <th>0</th>\n",
       "      <td>Wife_age</td>\n",
       "      <td>0.297</td>\n",
       "    </tr>\n",
       "    <tr>\n",
       "      <th>3</th>\n",
       "      <td>No_of_children_born</td>\n",
       "      <td>0.268</td>\n",
       "    </tr>\n",
       "    <tr>\n",
       "      <th>1</th>\n",
       "      <td>Wife_ education</td>\n",
       "      <td>0.107</td>\n",
       "    </tr>\n",
       "    <tr>\n",
       "      <th>2</th>\n",
       "      <td>Husband_education</td>\n",
       "      <td>0.086</td>\n",
       "    </tr>\n",
       "    <tr>\n",
       "      <th>4</th>\n",
       "      <td>Husband_Occupation</td>\n",
       "      <td>0.081</td>\n",
       "    </tr>\n",
       "    <tr>\n",
       "      <th>5</th>\n",
       "      <td>Standard_of_living_index</td>\n",
       "      <td>0.079</td>\n",
       "    </tr>\n",
       "    <tr>\n",
       "      <th>7</th>\n",
       "      <td>Wife_Working_Yes</td>\n",
       "      <td>0.045</td>\n",
       "    </tr>\n",
       "    <tr>\n",
       "      <th>6</th>\n",
       "      <td>Wife_religion_Scientology</td>\n",
       "      <td>0.028</td>\n",
       "    </tr>\n",
       "    <tr>\n",
       "      <th>8</th>\n",
       "      <td>Media_exposure _Not-Exposed</td>\n",
       "      <td>0.008</td>\n",
       "    </tr>\n",
       "  </tbody>\n",
       "</table>\n",
       "</div>"
      ],
      "text/plain": [
       "                      Features  Importance\n",
       "0                     Wife_age       0.297\n",
       "3          No_of_children_born       0.268\n",
       "1              Wife_ education       0.107\n",
       "2            Husband_education       0.086\n",
       "4           Husband_Occupation       0.081\n",
       "5     Standard_of_living_index       0.079\n",
       "7             Wife_Working_Yes       0.045\n",
       "6    Wife_religion_Scientology       0.028\n",
       "8  Media_exposure _Not-Exposed       0.008"
      ]
     },
     "execution_count": 103,
     "metadata": {},
     "output_type": "execute_result"
    }
   ],
   "source": [
    "# Important features in your dataset\n",
    "Feature_imp = pd.DataFrame()\n",
    "Feature_imp[\"Features\"]= x_train.columns\n",
    "Feature_imp['Importance'] = round(pd.Series(dt_model.feature_importances_),3)\n",
    "Feature_imp_sorted = Feature_imp.sort_values(by =\"Importance\", ascending =False)\n",
    "Feature_imp_sorted"
   ]
  },
  {
   "cell_type": "code",
   "execution_count": 104,
   "id": "ad3ed5e7",
   "metadata": {},
   "outputs": [
    {
     "data": {
      "image/png": "[encoded data removed]",
      "text/plain": [
       "<Figure size 432x288 with 1 Axes>"
      ]
     },
     "metadata": {},
     "output_type": "display_data"
    }
   ],
   "source": [
    "# Visualising the Feature Importance\n",
    "sns.set_style(\"white\")\n",
    "plt.figure(figsize=(6,4))\n",
    "ax = sns.barplot(x = \"Importance\", y = \"Features\", data =Feature_imp_sorted);\n",
    "ax.bar_label(ax.containers[0], label_type='edge', color = 'red',rotation =0, fontsize = 10,padding =5);"
   ]
  },
  {
   "cell_type": "markdown",
   "id": "67d59ff6",
   "metadata": {},
   "source": [
    "### Predicting Test Data"
   ]
  },
  {
   "cell_type": "code",
   "execution_count": 105,
   "id": "c149f2de",
   "metadata": {},
   "outputs": [],
   "source": [
    "# Applying the model on test data\n",
    "y_predict = dt_model.predict(x_test)"
   ]
  },
  {
   "cell_type": "code",
   "execution_count": 106,
   "id": "219b4e5d",
   "metadata": {},
   "outputs": [
    {
     "data": {
      "text/plain": [
       "(442,)"
      ]
     },
     "execution_count": 106,
     "metadata": {},
     "output_type": "execute_result"
    }
   ],
   "source": [
    "y_predict.shape"
   ]
  },
  {
   "cell_type": "code",
   "execution_count": 107,
   "id": "f6666bf2",
   "metadata": {},
   "outputs": [
    {
     "data": {
      "text/plain": [
       "0.9815712900096993"
      ]
     },
     "execution_count": 107,
     "metadata": {},
     "output_type": "execute_result"
    }
   ],
   "source": [
    "#Train Data Accuracy Score\n",
    "dt_model.score(x_train,y_train) "
   ]
  },
  {
   "cell_type": "code",
   "execution_count": 108,
   "id": "abd25641",
   "metadata": {},
   "outputs": [
    {
     "data": {
      "text/plain": [
       "0.6289592760180995"
      ]
     },
     "execution_count": 108,
     "metadata": {},
     "output_type": "execute_result"
    }
   ],
   "source": [
    "#Train Data Accuracy Score\n",
    "dt_model.score(x_test,y_test) "
   ]
  },
  {
   "cell_type": "markdown",
   "id": "cc27b35f",
   "metadata": {},
   "source": [
    "# Regularising the Decision Tree"
   ]
  },
  {
   "cell_type": "markdown",
   "id": "53770811",
   "metadata": {},
   "source": [
    "### Adding Tuning Parameters"
   ]
  },
  {
   "cell_type": "code",
   "execution_count": 109,
   "id": "db45f960",
   "metadata": {},
   "outputs": [
    {
     "data": {
      "text/plain": [
       "DecisionTreeClassifier(max_depth=30, min_samples_leaf=100, min_samples_split=50,\n",
       "                       random_state=1)"
      ]
     },
     "execution_count": 109,
     "metadata": {},
     "output_type": "execute_result"
    }
   ],
   "source": [
    "# Exploring Parameters- Learn from data\n",
    "reg_dt_model = DecisionTreeClassifier(criterion = 'gini', max_depth = 30,min_samples_leaf=100,min_samples_split=50, random_state=1)\n",
    "reg_dt_model.fit(x_train, y_train)"
   ]
  },
  {
   "cell_type": "code",
   "execution_count": 110,
   "id": "59793c2f",
   "metadata": {},
   "outputs": [],
   "source": [
    "ld_tree_regularized = open('ld_tree_regularized_6.dot','w')\n",
    "dot_data = tree.export_graphviz(reg_dt_model, out_file= ld_tree_regularized , feature_names = list(x_train), class_names = list(train_char_label))\n",
    "\n",
    "ld_tree_regularized.close()\n",
    "dot_data"
   ]
  },
  {
   "cell_type": "code",
   "execution_count": null,
   "id": "5fc12136",
   "metadata": {},
   "outputs": [],
   "source": []
  },
  {
   "cell_type": "code",
   "execution_count": 111,
   "id": "ca147083",
   "metadata": {},
   "outputs": [
    {
     "data": {
      "text/html": [
       "<div>\n",
       "<style scoped>\n",
       "    .dataframe tbody tr th:only-of-type {\n",
       "        vertical-align: middle;\n",
       "    }\n",
       "\n",
       "    .dataframe tbody tr th {\n",
       "        vertical-align: top;\n",
       "    }\n",
       "\n",
       "    .dataframe thead th {\n",
       "        text-align: right;\n",
       "    }\n",
       "</style>\n",
       "<table border=\"1\" class=\"dataframe\">\n",
       "  <thead>\n",
       "    <tr style=\"text-align: right;\">\n",
       "      <th></th>\n",
       "      <th>Features</th>\n",
       "      <th>Importance</th>\n",
       "    </tr>\n",
       "  </thead>\n",
       "  <tbody>\n",
       "    <tr>\n",
       "      <th>0</th>\n",
       "      <td>Wife_age</td>\n",
       "      <td>0.489</td>\n",
       "    </tr>\n",
       "    <tr>\n",
       "      <th>3</th>\n",
       "      <td>No_of_children_born</td>\n",
       "      <td>0.305</td>\n",
       "    </tr>\n",
       "    <tr>\n",
       "      <th>1</th>\n",
       "      <td>Wife_ education</td>\n",
       "      <td>0.199</td>\n",
       "    </tr>\n",
       "    <tr>\n",
       "      <th>5</th>\n",
       "      <td>Standard_of_living_index</td>\n",
       "      <td>0.007</td>\n",
       "    </tr>\n",
       "    <tr>\n",
       "      <th>2</th>\n",
       "      <td>Husband_education</td>\n",
       "      <td>0.000</td>\n",
       "    </tr>\n",
       "    <tr>\n",
       "      <th>4</th>\n",
       "      <td>Husband_Occupation</td>\n",
       "      <td>0.000</td>\n",
       "    </tr>\n",
       "    <tr>\n",
       "      <th>6</th>\n",
       "      <td>Wife_religion_Scientology</td>\n",
       "      <td>0.000</td>\n",
       "    </tr>\n",
       "    <tr>\n",
       "      <th>7</th>\n",
       "      <td>Wife_Working_Yes</td>\n",
       "      <td>0.000</td>\n",
       "    </tr>\n",
       "    <tr>\n",
       "      <th>8</th>\n",
       "      <td>Media_exposure _Not-Exposed</td>\n",
       "      <td>0.000</td>\n",
       "    </tr>\n",
       "  </tbody>\n",
       "</table>\n",
       "</div>"
      ],
      "text/plain": [
       "                      Features  Importance\n",
       "0                     Wife_age       0.489\n",
       "3          No_of_children_born       0.305\n",
       "1              Wife_ education       0.199\n",
       "5     Standard_of_living_index       0.007\n",
       "2            Husband_education       0.000\n",
       "4           Husband_Occupation       0.000\n",
       "6    Wife_religion_Scientology       0.000\n",
       "7             Wife_Working_Yes       0.000\n",
       "8  Media_exposure _Not-Exposed       0.000"
      ]
     },
     "execution_count": 111,
     "metadata": {},
     "output_type": "execute_result"
    }
   ],
   "source": [
    "# Important features in your dataset\n",
    "Feature_imp_reg = pd.DataFrame()\n",
    "Feature_imp_reg[\"Features\"]= x_train.columns\n",
    "Feature_imp_reg['Importance'] = round(pd.Series(reg_dt_model.feature_importances_),3)\n",
    "Feature_imp_reg_sorted = Feature_imp_reg.sort_values(by =\"Importance\", ascending =False)\n",
    "Feature_imp_reg_sorted"
   ]
  },
  {
   "cell_type": "code",
   "execution_count": 112,
   "id": "6c2ea8b3",
   "metadata": {},
   "outputs": [
    {
     "data": {
      "image/png": "[encoded data removed]",
      "text/plain": [
       "<Figure size 432x288 with 1 Axes>"
      ]
     },
     "metadata": {},
     "output_type": "display_data"
    }
   ],
   "source": [
    "# Visualising the Feature Importance - Regularised\n",
    "sns.set_style(\"white\")\n",
    "plt.figure(figsize=(6,4))\n",
    "ax = sns.barplot(x = \"Importance\", y = \"Features\", data =Feature_imp_reg_sorted);\n",
    "ax.bar_label(ax.containers[0], label_type='edge', color = 'blue',rotation =0, fontsize = 10,padding =5);"
   ]
  },
  {
   "cell_type": "code",
   "execution_count": 113,
   "id": "30400fcc",
   "metadata": {},
   "outputs": [],
   "source": [
    "ytrain_predict = reg_dt_model.predict(x_train)\n",
    "ytest_predict = reg_dt_model.predict(x_test)"
   ]
  },
  {
   "cell_type": "code",
   "execution_count": 114,
   "id": "7fe82560",
   "metadata": {},
   "outputs": [
    {
     "name": "stdout",
     "output_type": "stream",
     "text": [
      "ytrain_predict (1031,)\n",
      "ytest_predict (442,)\n"
     ]
    }
   ],
   "source": [
    "print('ytrain_predict',ytrain_predict.shape)\n",
    "print('ytest_predict',ytest_predict.shape)"
   ]
  },
  {
   "cell_type": "code",
   "execution_count": 115,
   "id": "13f61194",
   "metadata": {},
   "outputs": [
    {
     "data": {
      "text/plain": [
       "array([1, 0, 0, 1, 1, 1, 0, 1, 1, 1, 1, 1, 1, 1, 1, 1, 1, 1, 1, 1, 1, 1,\n",
       "       1, 1, 1, 0, 1, 1, 1, 1, 1, 1, 1, 1, 0, 1, 1, 1, 0, 1, 1, 1, 1, 1,\n",
       "       1, 1, 1, 1, 0, 1, 1, 1, 1, 0, 1, 1, 0, 1, 1, 1, 0, 1, 1, 1, 1, 1,\n",
       "       1, 1, 1, 1, 0, 1, 1, 1, 0, 1, 0, 1, 0, 1, 1, 1, 0, 1, 1, 1, 0, 1,\n",
       "       1, 1, 0, 1, 1, 0, 1, 1, 1, 1, 1, 1, 1, 0, 1, 1, 1, 1, 1, 1, 1, 0,\n",
       "       1, 1, 1, 1, 0, 1, 1, 1, 1, 1, 1, 1, 1, 0, 1, 0, 0, 1, 1, 0, 0, 0,\n",
       "       1, 0, 1, 1, 1, 1, 1, 1, 1, 0, 1, 1, 1, 1, 1, 1, 1, 1, 1, 1, 1, 1,\n",
       "       1, 0, 1, 1, 1, 1, 1, 1, 0, 1, 1, 1, 1, 1, 1, 1, 1, 1, 1, 1, 0, 1,\n",
       "       1, 1, 1, 1, 1, 1, 1, 1, 1, 1, 1, 0, 1, 1, 1, 1, 1, 1, 1, 1, 1, 1,\n",
       "       1, 1, 1, 1, 1, 1, 1, 1, 1, 0, 1, 1, 1, 0, 1, 1, 1, 1, 1, 1, 1, 1,\n",
       "       1, 0, 1, 1, 1, 1, 1, 0, 1, 1, 1, 1, 1, 1, 1, 1, 1, 0, 1, 0, 0, 1,\n",
       "       1, 0, 1, 0, 1, 1, 1, 1, 0, 0, 1, 0, 1, 1, 1, 1, 1, 1, 1, 1, 0, 1,\n",
       "       1, 1, 0, 1, 1, 1, 0, 1, 1, 1, 1, 0, 1, 1, 1, 1, 1, 1, 1, 1, 1, 0,\n",
       "       1, 1, 1, 1, 0, 0, 1, 1, 1, 1, 1, 0, 0, 1, 1, 1, 1, 1, 1, 1, 1, 0,\n",
       "       0, 1, 1, 0, 1, 1, 1, 1, 1, 0, 1, 1, 1, 0, 1, 1, 1, 1, 1, 1, 1, 1,\n",
       "       1, 1, 1, 1, 1, 1, 1, 0, 1, 1, 1, 0, 1, 1, 1, 1, 1, 1, 1, 1, 1, 1,\n",
       "       1, 0, 1, 1, 1, 1, 1, 1, 1, 1, 1, 1, 1, 1, 1, 1, 1, 0, 0, 1, 1, 0,\n",
       "       1, 1, 1, 1, 1, 1, 0, 1, 1, 0, 1, 0, 0, 1, 1, 0, 1, 0, 1, 1, 1, 1,\n",
       "       1, 1, 1, 1, 1, 1, 1, 0, 1, 1, 1, 1, 1, 1, 1, 1, 0, 1, 1, 1, 1, 1,\n",
       "       0, 1, 1, 1, 0, 1, 1, 1, 1, 1, 0, 1, 1, 1, 1, 1, 1, 1, 1, 1, 1, 1,\n",
       "       1, 1])"
      ]
     },
     "execution_count": 115,
     "metadata": {},
     "output_type": "execute_result"
    }
   ],
   "source": [
    "ytest_predict"
   ]
  },
  {
   "cell_type": "code",
   "execution_count": 116,
   "id": "f4804282",
   "metadata": {},
   "outputs": [
    {
     "data": {
      "text/plain": [
       "array([[0.34710744, 0.65289256],\n",
       "       [0.77876106, 0.22123894],\n",
       "       [0.83333333, 0.16666667],\n",
       "       [0.38095238, 0.61904762],\n",
       "       [0.38095238, 0.61904762],\n",
       "       [0.34710744, 0.65289256],\n",
       "       [0.77876106, 0.22123894],\n",
       "       [0.38095238, 0.61904762],\n",
       "       [0.34710744, 0.65289256],\n",
       "       [0.34710744, 0.65289256],\n",
       "       [0.38095238, 0.61904762],\n",
       "       [0.48214286, 0.51785714],\n",
       "       [0.38095238, 0.61904762],\n",
       "       [0.15555556, 0.84444444],\n",
       "       [0.31818182, 0.68181818],\n",
       "       [0.15555556, 0.84444444],\n",
       "       [0.31818182, 0.68181818],\n",
       "       [0.48214286, 0.51785714],\n",
       "       [0.38095238, 0.61904762],\n",
       "       [0.15555556, 0.84444444],\n",
       "       [0.15555556, 0.84444444],\n",
       "       [0.48214286, 0.51785714],\n",
       "       [0.15555556, 0.84444444],\n",
       "       [0.31818182, 0.68181818],\n",
       "       [0.23214286, 0.76785714],\n",
       "       [0.83333333, 0.16666667],\n",
       "       [0.48214286, 0.51785714],\n",
       "       [0.34710744, 0.65289256],\n",
       "       [0.31818182, 0.68181818],\n",
       "       [0.38095238, 0.61904762],\n",
       "       [0.34710744, 0.65289256],\n",
       "       [0.48214286, 0.51785714],\n",
       "       [0.38095238, 0.61904762],\n",
       "       [0.34710744, 0.65289256],\n",
       "       [0.77876106, 0.22123894],\n",
       "       [0.48214286, 0.51785714],\n",
       "       [0.38095238, 0.61904762],\n",
       "       [0.23214286, 0.76785714],\n",
       "       [0.83333333, 0.16666667],\n",
       "       [0.23214286, 0.76785714],\n",
       "       [0.31818182, 0.68181818],\n",
       "       [0.15555556, 0.84444444],\n",
       "       [0.34710744, 0.65289256],\n",
       "       [0.31818182, 0.68181818],\n",
       "       [0.38095238, 0.61904762],\n",
       "       [0.23214286, 0.76785714],\n",
       "       [0.31818182, 0.68181818],\n",
       "       [0.23214286, 0.76785714],\n",
       "       [0.77876106, 0.22123894],\n",
       "       [0.23214286, 0.76785714],\n",
       "       [0.15555556, 0.84444444],\n",
       "       [0.31818182, 0.68181818],\n",
       "       [0.38095238, 0.61904762],\n",
       "       [0.77876106, 0.22123894],\n",
       "       [0.48214286, 0.51785714],\n",
       "       [0.31818182, 0.68181818],\n",
       "       [0.83333333, 0.16666667],\n",
       "       [0.15555556, 0.84444444],\n",
       "       [0.48214286, 0.51785714],\n",
       "       [0.15555556, 0.84444444],\n",
       "       [0.83333333, 0.16666667],\n",
       "       [0.23214286, 0.76785714],\n",
       "       [0.38095238, 0.61904762],\n",
       "       [0.38095238, 0.61904762],\n",
       "       [0.48214286, 0.51785714],\n",
       "       [0.34710744, 0.65289256],\n",
       "       [0.15555556, 0.84444444],\n",
       "       [0.48214286, 0.51785714],\n",
       "       [0.31818182, 0.68181818],\n",
       "       [0.48214286, 0.51785714],\n",
       "       [0.83333333, 0.16666667],\n",
       "       [0.48214286, 0.51785714],\n",
       "       [0.38095238, 0.61904762],\n",
       "       [0.48214286, 0.51785714],\n",
       "       [0.83333333, 0.16666667],\n",
       "       [0.48214286, 0.51785714],\n",
       "       [0.77876106, 0.22123894],\n",
       "       [0.48214286, 0.51785714],\n",
       "       [0.83333333, 0.16666667],\n",
       "       [0.23214286, 0.76785714],\n",
       "       [0.48214286, 0.51785714],\n",
       "       [0.38095238, 0.61904762],\n",
       "       [0.83333333, 0.16666667],\n",
       "       [0.48214286, 0.51785714],\n",
       "       [0.38095238, 0.61904762],\n",
       "       [0.15555556, 0.84444444],\n",
       "       [0.83333333, 0.16666667],\n",
       "       [0.34710744, 0.65289256],\n",
       "       [0.23214286, 0.76785714],\n",
       "       [0.38095238, 0.61904762],\n",
       "       [0.77876106, 0.22123894],\n",
       "       [0.38095238, 0.61904762],\n",
       "       [0.38095238, 0.61904762],\n",
       "       [0.77876106, 0.22123894],\n",
       "       [0.31818182, 0.68181818],\n",
       "       [0.23214286, 0.76785714],\n",
       "       [0.31818182, 0.68181818],\n",
       "       [0.23214286, 0.76785714],\n",
       "       [0.48214286, 0.51785714],\n",
       "       [0.23214286, 0.76785714],\n",
       "       [0.23214286, 0.76785714],\n",
       "       [0.83333333, 0.16666667],\n",
       "       [0.38095238, 0.61904762],\n",
       "       [0.15555556, 0.84444444],\n",
       "       [0.48214286, 0.51785714],\n",
       "       [0.31818182, 0.68181818],\n",
       "       [0.31818182, 0.68181818],\n",
       "       [0.15555556, 0.84444444],\n",
       "       [0.15555556, 0.84444444],\n",
       "       [0.77876106, 0.22123894],\n",
       "       [0.34710744, 0.65289256],\n",
       "       [0.38095238, 0.61904762],\n",
       "       [0.31818182, 0.68181818],\n",
       "       [0.23214286, 0.76785714],\n",
       "       [0.83333333, 0.16666667],\n",
       "       [0.34710744, 0.65289256],\n",
       "       [0.31818182, 0.68181818],\n",
       "       [0.48214286, 0.51785714],\n",
       "       [0.31818182, 0.68181818],\n",
       "       [0.34710744, 0.65289256],\n",
       "       [0.38095238, 0.61904762],\n",
       "       [0.34710744, 0.65289256],\n",
       "       [0.34710744, 0.65289256],\n",
       "       [0.77876106, 0.22123894],\n",
       "       [0.48214286, 0.51785714],\n",
       "       [0.77876106, 0.22123894],\n",
       "       [0.83333333, 0.16666667],\n",
       "       [0.34710744, 0.65289256],\n",
       "       [0.31818182, 0.68181818],\n",
       "       [0.77876106, 0.22123894],\n",
       "       [0.77876106, 0.22123894],\n",
       "       [0.83333333, 0.16666667],\n",
       "       [0.23214286, 0.76785714],\n",
       "       [0.83333333, 0.16666667],\n",
       "       [0.48214286, 0.51785714],\n",
       "       [0.31818182, 0.68181818],\n",
       "       [0.34710744, 0.65289256],\n",
       "       [0.48214286, 0.51785714],\n",
       "       [0.48214286, 0.51785714],\n",
       "       [0.38095238, 0.61904762],\n",
       "       [0.15555556, 0.84444444],\n",
       "       [0.77876106, 0.22123894],\n",
       "       [0.31818182, 0.68181818],\n",
       "       [0.38095238, 0.61904762],\n",
       "       [0.38095238, 0.61904762],\n",
       "       [0.48214286, 0.51785714],\n",
       "       [0.31818182, 0.68181818],\n",
       "       [0.38095238, 0.61904762],\n",
       "       [0.48214286, 0.51785714],\n",
       "       [0.23214286, 0.76785714],\n",
       "       [0.23214286, 0.76785714],\n",
       "       [0.34710744, 0.65289256],\n",
       "       [0.38095238, 0.61904762],\n",
       "       [0.34710744, 0.65289256],\n",
       "       [0.31818182, 0.68181818],\n",
       "       [0.77876106, 0.22123894],\n",
       "       [0.31818182, 0.68181818],\n",
       "       [0.15555556, 0.84444444],\n",
       "       [0.31818182, 0.68181818],\n",
       "       [0.34710744, 0.65289256],\n",
       "       [0.31818182, 0.68181818],\n",
       "       [0.31818182, 0.68181818],\n",
       "       [0.83333333, 0.16666667],\n",
       "       [0.48214286, 0.51785714],\n",
       "       [0.48214286, 0.51785714],\n",
       "       [0.23214286, 0.76785714],\n",
       "       [0.48214286, 0.51785714],\n",
       "       [0.38095238, 0.61904762],\n",
       "       [0.34710744, 0.65289256],\n",
       "       [0.23214286, 0.76785714],\n",
       "       [0.38095238, 0.61904762],\n",
       "       [0.23214286, 0.76785714],\n",
       "       [0.15555556, 0.84444444],\n",
       "       [0.31818182, 0.68181818],\n",
       "       [0.77876106, 0.22123894],\n",
       "       [0.31818182, 0.68181818],\n",
       "       [0.23214286, 0.76785714],\n",
       "       [0.15555556, 0.84444444],\n",
       "       [0.38095238, 0.61904762],\n",
       "       [0.31818182, 0.68181818],\n",
       "       [0.34710744, 0.65289256],\n",
       "       [0.34710744, 0.65289256],\n",
       "       [0.38095238, 0.61904762],\n",
       "       [0.48214286, 0.51785714],\n",
       "       [0.23214286, 0.76785714],\n",
       "       [0.48214286, 0.51785714],\n",
       "       [0.15555556, 0.84444444],\n",
       "       [0.83333333, 0.16666667],\n",
       "       [0.38095238, 0.61904762],\n",
       "       [0.31818182, 0.68181818],\n",
       "       [0.23214286, 0.76785714],\n",
       "       [0.23214286, 0.76785714],\n",
       "       [0.48214286, 0.51785714],\n",
       "       [0.38095238, 0.61904762],\n",
       "       [0.48214286, 0.51785714],\n",
       "       [0.31818182, 0.68181818],\n",
       "       [0.23214286, 0.76785714],\n",
       "       [0.34710744, 0.65289256],\n",
       "       [0.34710744, 0.65289256],\n",
       "       [0.38095238, 0.61904762],\n",
       "       [0.34710744, 0.65289256],\n",
       "       [0.23214286, 0.76785714],\n",
       "       [0.31818182, 0.68181818],\n",
       "       [0.34710744, 0.65289256],\n",
       "       [0.48214286, 0.51785714],\n",
       "       [0.23214286, 0.76785714],\n",
       "       [0.34710744, 0.65289256],\n",
       "       [0.83333333, 0.16666667],\n",
       "       [0.34710744, 0.65289256],\n",
       "       [0.31818182, 0.68181818],\n",
       "       [0.31818182, 0.68181818],\n",
       "       [0.77876106, 0.22123894],\n",
       "       [0.15555556, 0.84444444],\n",
       "       [0.34710744, 0.65289256],\n",
       "       [0.34710744, 0.65289256],\n",
       "       [0.15555556, 0.84444444],\n",
       "       [0.34710744, 0.65289256],\n",
       "       [0.31818182, 0.68181818],\n",
       "       [0.15555556, 0.84444444],\n",
       "       [0.31818182, 0.68181818],\n",
       "       [0.23214286, 0.76785714],\n",
       "       [0.77876106, 0.22123894],\n",
       "       [0.23214286, 0.76785714],\n",
       "       [0.15555556, 0.84444444],\n",
       "       [0.31818182, 0.68181818],\n",
       "       [0.34710744, 0.65289256],\n",
       "       [0.15555556, 0.84444444],\n",
       "       [0.83333333, 0.16666667],\n",
       "       [0.23214286, 0.76785714],\n",
       "       [0.23214286, 0.76785714],\n",
       "       [0.34710744, 0.65289256],\n",
       "       [0.31818182, 0.68181818],\n",
       "       [0.38095238, 0.61904762],\n",
       "       [0.34710744, 0.65289256],\n",
       "       [0.34710744, 0.65289256],\n",
       "       [0.34710744, 0.65289256],\n",
       "       [0.48214286, 0.51785714],\n",
       "       [0.83333333, 0.16666667],\n",
       "       [0.34710744, 0.65289256],\n",
       "       [0.77876106, 0.22123894],\n",
       "       [0.77876106, 0.22123894],\n",
       "       [0.15555556, 0.84444444],\n",
       "       [0.34710744, 0.65289256],\n",
       "       [0.77876106, 0.22123894],\n",
       "       [0.15555556, 0.84444444],\n",
       "       [0.83333333, 0.16666667],\n",
       "       [0.48214286, 0.51785714],\n",
       "       [0.48214286, 0.51785714],\n",
       "       [0.38095238, 0.61904762],\n",
       "       [0.38095238, 0.61904762],\n",
       "       [0.77876106, 0.22123894],\n",
       "       [0.77876106, 0.22123894],\n",
       "       [0.38095238, 0.61904762],\n",
       "       [0.77876106, 0.22123894],\n",
       "       [0.31818182, 0.68181818],\n",
       "       [0.38095238, 0.61904762],\n",
       "       [0.38095238, 0.61904762],\n",
       "       [0.38095238, 0.61904762],\n",
       "       [0.48214286, 0.51785714],\n",
       "       [0.34710744, 0.65289256],\n",
       "       [0.31818182, 0.68181818],\n",
       "       [0.38095238, 0.61904762],\n",
       "       [0.83333333, 0.16666667],\n",
       "       [0.15555556, 0.84444444],\n",
       "       [0.48214286, 0.51785714],\n",
       "       [0.15555556, 0.84444444],\n",
       "       [0.77876106, 0.22123894],\n",
       "       [0.38095238, 0.61904762],\n",
       "       [0.23214286, 0.76785714],\n",
       "       [0.38095238, 0.61904762],\n",
       "       [0.83333333, 0.16666667],\n",
       "       [0.31818182, 0.68181818],\n",
       "       [0.15555556, 0.84444444],\n",
       "       [0.31818182, 0.68181818],\n",
       "       [0.48214286, 0.51785714],\n",
       "       [0.77876106, 0.22123894],\n",
       "       [0.15555556, 0.84444444],\n",
       "       [0.15555556, 0.84444444],\n",
       "       [0.48214286, 0.51785714],\n",
       "       [0.38095238, 0.61904762],\n",
       "       [0.34710744, 0.65289256],\n",
       "       [0.38095238, 0.61904762],\n",
       "       [0.23214286, 0.76785714],\n",
       "       [0.34710744, 0.65289256],\n",
       "       [0.15555556, 0.84444444],\n",
       "       [0.77876106, 0.22123894],\n",
       "       [0.31818182, 0.68181818],\n",
       "       [0.38095238, 0.61904762],\n",
       "       [0.38095238, 0.61904762],\n",
       "       [0.23214286, 0.76785714],\n",
       "       [0.83333333, 0.16666667],\n",
       "       [0.77876106, 0.22123894],\n",
       "       [0.48214286, 0.51785714],\n",
       "       [0.38095238, 0.61904762],\n",
       "       [0.15555556, 0.84444444],\n",
       "       [0.48214286, 0.51785714],\n",
       "       [0.38095238, 0.61904762],\n",
       "       [0.77876106, 0.22123894],\n",
       "       [0.77876106, 0.22123894],\n",
       "       [0.34710744, 0.65289256],\n",
       "       [0.48214286, 0.51785714],\n",
       "       [0.31818182, 0.68181818],\n",
       "       [0.31818182, 0.68181818],\n",
       "       [0.38095238, 0.61904762],\n",
       "       [0.15555556, 0.84444444],\n",
       "       [0.38095238, 0.61904762],\n",
       "       [0.34710744, 0.65289256],\n",
       "       [0.83333333, 0.16666667],\n",
       "       [0.77876106, 0.22123894],\n",
       "       [0.31818182, 0.68181818],\n",
       "       [0.23214286, 0.76785714],\n",
       "       [0.77876106, 0.22123894],\n",
       "       [0.34710744, 0.65289256],\n",
       "       [0.23214286, 0.76785714],\n",
       "       [0.48214286, 0.51785714],\n",
       "       [0.31818182, 0.68181818],\n",
       "       [0.23214286, 0.76785714],\n",
       "       [0.83333333, 0.16666667],\n",
       "       [0.31818182, 0.68181818],\n",
       "       [0.15555556, 0.84444444],\n",
       "       [0.31818182, 0.68181818],\n",
       "       [0.77876106, 0.22123894],\n",
       "       [0.34710744, 0.65289256],\n",
       "       [0.48214286, 0.51785714],\n",
       "       [0.34710744, 0.65289256],\n",
       "       [0.31818182, 0.68181818],\n",
       "       [0.15555556, 0.84444444],\n",
       "       [0.31818182, 0.68181818],\n",
       "       [0.31818182, 0.68181818],\n",
       "       [0.15555556, 0.84444444],\n",
       "       [0.34710744, 0.65289256],\n",
       "       [0.34710744, 0.65289256],\n",
       "       [0.31818182, 0.68181818],\n",
       "       [0.23214286, 0.76785714],\n",
       "       [0.31818182, 0.68181818],\n",
       "       [0.31818182, 0.68181818],\n",
       "       [0.48214286, 0.51785714],\n",
       "       [0.77876106, 0.22123894],\n",
       "       [0.48214286, 0.51785714],\n",
       "       [0.23214286, 0.76785714],\n",
       "       [0.34710744, 0.65289256],\n",
       "       [0.83333333, 0.16666667],\n",
       "       [0.38095238, 0.61904762],\n",
       "       [0.15555556, 0.84444444],\n",
       "       [0.15555556, 0.84444444],\n",
       "       [0.48214286, 0.51785714],\n",
       "       [0.38095238, 0.61904762],\n",
       "       [0.23214286, 0.76785714],\n",
       "       [0.38095238, 0.61904762],\n",
       "       [0.48214286, 0.51785714],\n",
       "       [0.23214286, 0.76785714],\n",
       "       [0.34710744, 0.65289256],\n",
       "       [0.38095238, 0.61904762],\n",
       "       [0.77876106, 0.22123894],\n",
       "       [0.38095238, 0.61904762],\n",
       "       [0.31818182, 0.68181818],\n",
       "       [0.48214286, 0.51785714],\n",
       "       [0.23214286, 0.76785714],\n",
       "       [0.31818182, 0.68181818],\n",
       "       [0.38095238, 0.61904762],\n",
       "       [0.31818182, 0.68181818],\n",
       "       [0.23214286, 0.76785714],\n",
       "       [0.38095238, 0.61904762],\n",
       "       [0.48214286, 0.51785714],\n",
       "       [0.48214286, 0.51785714],\n",
       "       [0.48214286, 0.51785714],\n",
       "       [0.31818182, 0.68181818],\n",
       "       [0.48214286, 0.51785714],\n",
       "       [0.15555556, 0.84444444],\n",
       "       [0.83333333, 0.16666667],\n",
       "       [0.83333333, 0.16666667],\n",
       "       [0.15555556, 0.84444444],\n",
       "       [0.48214286, 0.51785714],\n",
       "       [0.77876106, 0.22123894],\n",
       "       [0.48214286, 0.51785714],\n",
       "       [0.31818182, 0.68181818],\n",
       "       [0.15555556, 0.84444444],\n",
       "       [0.34710744, 0.65289256],\n",
       "       [0.34710744, 0.65289256],\n",
       "       [0.34710744, 0.65289256],\n",
       "       [0.83333333, 0.16666667],\n",
       "       [0.48214286, 0.51785714],\n",
       "       [0.48214286, 0.51785714],\n",
       "       [0.83333333, 0.16666667],\n",
       "       [0.38095238, 0.61904762],\n",
       "       [0.83333333, 0.16666667],\n",
       "       [0.77876106, 0.22123894],\n",
       "       [0.31818182, 0.68181818],\n",
       "       [0.34710744, 0.65289256],\n",
       "       [0.77876106, 0.22123894],\n",
       "       [0.38095238, 0.61904762],\n",
       "       [0.77876106, 0.22123894],\n",
       "       [0.48214286, 0.51785714],\n",
       "       [0.38095238, 0.61904762],\n",
       "       [0.31818182, 0.68181818],\n",
       "       [0.38095238, 0.61904762],\n",
       "       [0.38095238, 0.61904762],\n",
       "       [0.38095238, 0.61904762],\n",
       "       [0.34710744, 0.65289256],\n",
       "       [0.15555556, 0.84444444],\n",
       "       [0.31818182, 0.68181818],\n",
       "       [0.38095238, 0.61904762],\n",
       "       [0.48214286, 0.51785714],\n",
       "       [0.77876106, 0.22123894],\n",
       "       [0.38095238, 0.61904762],\n",
       "       [0.48214286, 0.51785714],\n",
       "       [0.38095238, 0.61904762],\n",
       "       [0.34710744, 0.65289256],\n",
       "       [0.48214286, 0.51785714],\n",
       "       [0.38095238, 0.61904762],\n",
       "       [0.31818182, 0.68181818],\n",
       "       [0.38095238, 0.61904762],\n",
       "       [0.77876106, 0.22123894],\n",
       "       [0.34710744, 0.65289256],\n",
       "       [0.48214286, 0.51785714],\n",
       "       [0.34710744, 0.65289256],\n",
       "       [0.38095238, 0.61904762],\n",
       "       [0.31818182, 0.68181818],\n",
       "       [0.83333333, 0.16666667],\n",
       "       [0.31818182, 0.68181818],\n",
       "       [0.23214286, 0.76785714],\n",
       "       [0.34710744, 0.65289256],\n",
       "       [0.83333333, 0.16666667],\n",
       "       [0.34710744, 0.65289256],\n",
       "       [0.34710744, 0.65289256],\n",
       "       [0.31818182, 0.68181818],\n",
       "       [0.34710744, 0.65289256],\n",
       "       [0.31818182, 0.68181818],\n",
       "       [0.77876106, 0.22123894],\n",
       "       [0.15555556, 0.84444444],\n",
       "       [0.15555556, 0.84444444],\n",
       "       [0.48214286, 0.51785714],\n",
       "       [0.15555556, 0.84444444],\n",
       "       [0.38095238, 0.61904762],\n",
       "       [0.34710744, 0.65289256],\n",
       "       [0.23214286, 0.76785714],\n",
       "       [0.31818182, 0.68181818],\n",
       "       [0.31818182, 0.68181818],\n",
       "       [0.15555556, 0.84444444],\n",
       "       [0.38095238, 0.61904762],\n",
       "       [0.48214286, 0.51785714],\n",
       "       [0.23214286, 0.76785714]])"
      ]
     },
     "execution_count": 116,
     "metadata": {},
     "output_type": "execute_result"
    }
   ],
   "source": [
    "ytest_predict_prob=reg_dt_model.predict_proba(x_test)\n",
    "ytest_predict_prob"
   ]
  },
  {
   "cell_type": "code",
   "execution_count": 117,
   "id": "c611f66b",
   "metadata": {
    "scrolled": true
   },
   "outputs": [
    {
     "data": {
      "text/html": [
       "<div>\n",
       "<style scoped>\n",
       "    .dataframe tbody tr th:only-of-type {\n",
       "        vertical-align: middle;\n",
       "    }\n",
       "\n",
       "    .dataframe tbody tr th {\n",
       "        vertical-align: top;\n",
       "    }\n",
       "\n",
       "    .dataframe thead th {\n",
       "        text-align: right;\n",
       "    }\n",
       "</style>\n",
       "<table border=\"1\" class=\"dataframe\">\n",
       "  <thead>\n",
       "    <tr style=\"text-align: right;\">\n",
       "      <th></th>\n",
       "      <th>0</th>\n",
       "      <th>1</th>\n",
       "    </tr>\n",
       "  </thead>\n",
       "  <tbody>\n",
       "    <tr>\n",
       "      <th>0</th>\n",
       "      <td>0.347107</td>\n",
       "      <td>0.652893</td>\n",
       "    </tr>\n",
       "    <tr>\n",
       "      <th>1</th>\n",
       "      <td>0.778761</td>\n",
       "      <td>0.221239</td>\n",
       "    </tr>\n",
       "    <tr>\n",
       "      <th>2</th>\n",
       "      <td>0.833333</td>\n",
       "      <td>0.166667</td>\n",
       "    </tr>\n",
       "    <tr>\n",
       "      <th>3</th>\n",
       "      <td>0.380952</td>\n",
       "      <td>0.619048</td>\n",
       "    </tr>\n",
       "    <tr>\n",
       "      <th>4</th>\n",
       "      <td>0.380952</td>\n",
       "      <td>0.619048</td>\n",
       "    </tr>\n",
       "  </tbody>\n",
       "</table>\n",
       "</div>"
      ],
      "text/plain": [
       "          0         1\n",
       "0  0.347107  0.652893\n",
       "1  0.778761  0.221239\n",
       "2  0.833333  0.166667\n",
       "3  0.380952  0.619048\n",
       "4  0.380952  0.619048"
      ]
     },
     "execution_count": 117,
     "metadata": {},
     "output_type": "execute_result"
    }
   ],
   "source": [
    " pd.DataFrame(ytest_predict_prob).head()"
   ]
  },
  {
   "cell_type": "code",
   "execution_count": 118,
   "id": "4e8fe785",
   "metadata": {},
   "outputs": [
    {
     "data": {
      "text/plain": [
       "0.7002909796314258"
      ]
     },
     "execution_count": 118,
     "metadata": {},
     "output_type": "execute_result"
    }
   ],
   "source": [
    "#Train Data Accuracy Score\n",
    "reg_dt_model.score(x_train,y_train) "
   ]
  },
  {
   "cell_type": "code",
   "execution_count": 119,
   "id": "9745f713",
   "metadata": {},
   "outputs": [
    {
     "data": {
      "text/plain": [
       "0.6538461538461539"
      ]
     },
     "execution_count": 119,
     "metadata": {},
     "output_type": "execute_result"
    }
   ],
   "source": [
    "#Test Data Accuracy Score\n",
    "reg_dt_model.score(x_test,y_test)"
   ]
  },
  {
   "cell_type": "markdown",
   "id": "e3d51c95",
   "metadata": {},
   "source": [
    "## Measuring AUC-ROC Curve"
   ]
  },
  {
   "cell_type": "code",
   "execution_count": 120,
   "id": "76765830",
   "metadata": {},
   "outputs": [
    {
     "name": "stdout",
     "output_type": "stream",
     "text": [
      "AUC: 0.739\n"
     ]
    },
    {
     "data": {
      "image/png": "[encoded data removed]",
      "text/plain": [
       "<Figure size 432x288 with 1 Axes>"
      ]
     },
     "metadata": {},
     "output_type": "display_data"
    }
   ],
   "source": [
    "# predict probabilities\n",
    "probs = reg_dt_model.predict_proba(x_train)\n",
    "# keep probabilities for the positive outcome only\n",
    "probs = probs[:, 1]\n",
    "# calculate AUC\n",
    "from sklearn.metrics import roc_auc_score\n",
    "auc = roc_auc_score(y_train, probs)\n",
    "print('AUC: %.3f' % auc)\n",
    "# calculate roc curve\n",
    "from sklearn.metrics import roc_curve\n",
    "fpr, tpr, thresholds = roc_curve(y_train, probs)\n",
    "plt.plot([0, 1], [0, 1], linestyle='--')\n",
    "# plot the roc curve for the model\n",
    "plt.plot(fpr, tpr, marker='.')\n",
    "\n",
    "## Labelling \n",
    "plt.title(\" ROC Curves & AUC -Train data\")\n",
    "plt.xlabel(\" Specificity\")\n",
    "plt.ylabel(\"Sensitivity\")\n",
    "\n",
    "# show the plot\n",
    "plt.show()"
   ]
  },
  {
   "cell_type": "code",
   "execution_count": 121,
   "id": "2c6a579d",
   "metadata": {},
   "outputs": [
    {
     "name": "stdout",
     "output_type": "stream",
     "text": [
      "AUC: 0.715\n"
     ]
    },
    {
     "data": {
      "image/png": "[encoded data removed]",
      "text/plain": [
       "<Figure size 432x288 with 1 Axes>"
      ]
     },
     "metadata": {},
     "output_type": "display_data"
    }
   ],
   "source": [
    "# predict probabilities\n",
    "probs = reg_dt_model.predict_proba(x_test)\n",
    "# keep probabilities for the positive outcome only\n",
    "probs = probs[:, 1]\n",
    "# calculate AUC\n",
    "from sklearn.metrics import roc_auc_score\n",
    "auc = roc_auc_score(y_test, probs)\n",
    "print('AUC: %.3f' % auc)\n",
    "# calculate roc curve\n",
    "from sklearn.metrics import roc_curve\n",
    "fpr, tpr, thresholds = roc_curve(y_test, probs)\n",
    "plt.plot([0, 1], [0, 1], linestyle='--')\n",
    "# plot the roc curve for the model\n",
    "plt.plot(fpr, tpr, marker='.')\n",
    "\n",
    "## Labelling \n",
    "plt.title(\" ROC Curves & AUC -Test Data\")\n",
    "plt.xlabel(\" Specificity\")\n",
    "plt.ylabel(\"Sensitivity\")\n",
    "\n",
    "# show the plot\n",
    "plt.show()"
   ]
  },
  {
   "cell_type": "markdown",
   "id": "6b5cf309",
   "metadata": {},
   "source": [
    "## Confusion Matrix for the training data"
   ]
  },
  {
   "cell_type": "code",
   "execution_count": 122,
   "id": "d59fe882",
   "metadata": {},
   "outputs": [],
   "source": [
    "from sklearn.metrics import classification_report,confusion_matrix\n",
    "from sklearn import metrics"
   ]
  },
  {
   "cell_type": "code",
   "execution_count": 123,
   "id": "bb7b8cc0",
   "metadata": {},
   "outputs": [
    {
     "data": {
      "image/png": "[encoded data removed]",
      "text/plain": [
       "<Figure size 432x288 with 1 Axes>"
      ]
     },
     "metadata": {},
     "output_type": "display_data"
    }
   ],
   "source": [
    "# Confusion Matrix on Train data\n",
    "cm = metrics.confusion_matrix(y_train, ytrain_predict) \n",
    "sns.heatmap(cm, annot=True, fmt='.0f', cmap='viridis',\n",
    "xticklabels = [\"No\", \"Yes\"] ,\n",
    "yticklabels = [\"No\", \"Yes\"], cbar =False)\n",
    "\n",
    "plt.title(\"Confusion Matrix -Train set\")\n",
    "plt.ylabel('Actual labels')\n",
    "plt.xlabel('Predicted labels')\n",
    "plt.show()"
   ]
  },
  {
   "cell_type": "code",
   "execution_count": 124,
   "id": "0e96b690",
   "metadata": {},
   "outputs": [
    {
     "data": {
      "text/plain": [
       "0.7002909796314258"
      ]
     },
     "execution_count": 124,
     "metadata": {},
     "output_type": "execute_result"
    }
   ],
   "source": [
    "#Train Data Accuracy Score\n",
    "reg_dt_model.score(x_train,y_train) "
   ]
  },
  {
   "cell_type": "code",
   "execution_count": 125,
   "id": "4f74987d",
   "metadata": {},
   "outputs": [
    {
     "name": "stdout",
     "output_type": "stream",
     "text": [
      "              precision    recall  f1-score   support\n",
      "\n",
      "           0       0.80      0.39      0.53       440\n",
      "           1       0.67      0.93      0.78       591\n",
      "\n",
      "    accuracy                           0.70      1031\n",
      "   macro avg       0.74      0.66      0.65      1031\n",
      "weighted avg       0.73      0.70      0.67      1031\n",
      "\n"
     ]
    }
   ],
   "source": [
    "# Classification report\n",
    "print(classification_report(y_train, ytrain_predict))"
   ]
  },
  {
   "cell_type": "code",
   "execution_count": 126,
   "id": "e76ba55d",
   "metadata": {},
   "outputs": [
    {
     "data": {
      "image/png": "[encoded data removed]",
      "text/plain": [
       "<Figure size 432x288 with 1 Axes>"
      ]
     },
     "metadata": {},
     "output_type": "display_data"
    }
   ],
   "source": [
    "# Confusion Matrix on Test data\n",
    "cm = metrics.confusion_matrix(y_test, ytest_predict) \n",
    "sns.heatmap(cm, annot=True, fmt='.0f', cmap='viridis',\n",
    "xticklabels = [\"No\", \"Yes\"] ,\n",
    "yticklabels = [\"No\", \"Yes\"], cbar =False)\n",
    "\n",
    "plt.title(\"Confusion Matrix -Test set\")\n",
    "plt.ylabel('Actual labels')\n",
    "plt.xlabel('Predicted labels')\n",
    "plt.show()"
   ]
  },
  {
   "cell_type": "code",
   "execution_count": 127,
   "id": "09e3183a",
   "metadata": {},
   "outputs": [
    {
     "data": {
      "text/plain": [
       "0.6538461538461539"
      ]
     },
     "execution_count": 127,
     "metadata": {},
     "output_type": "execute_result"
    }
   ],
   "source": [
    "#Test Data Accuracy Score\n",
    "reg_dt_model.score(x_test,y_test)"
   ]
  },
  {
   "cell_type": "code",
   "execution_count": 128,
   "id": "80c107ad",
   "metadata": {},
   "outputs": [
    {
     "name": "stdout",
     "output_type": "stream",
     "text": [
      "              precision    recall  f1-score   support\n",
      "\n",
      "           0       0.74      0.30      0.42       189\n",
      "           1       0.64      0.92      0.75       253\n",
      "\n",
      "    accuracy                           0.65       442\n",
      "   macro avg       0.69      0.61      0.59       442\n",
      "weighted avg       0.68      0.65      0.61       442\n",
      "\n"
     ]
    }
   ],
   "source": [
    "# Classification report\n",
    "print(classification_report(y_test, ytest_predict))"
   ]
  },
  {
   "cell_type": "code",
   "execution_count": null,
   "id": "2d9016a1",
   "metadata": {},
   "outputs": [],
   "source": []
  },
  {
   "cell_type": "code",
   "execution_count": null,
   "id": "30a977d0",
   "metadata": {},
   "outputs": [],
   "source": []
  },
  {
   "cell_type": "code",
   "execution_count": null,
   "id": "cf5a5c3f",
   "metadata": {},
   "outputs": [],
   "source": []
  },
  {
   "cell_type": "code",
   "execution_count": null,
   "id": "f53acc20",
   "metadata": {},
   "outputs": [],
   "source": []
  },
  {
   "cell_type": "code",
   "execution_count": null,
   "id": "95432cff",
   "metadata": {},
   "outputs": [],
   "source": []
  },
  {
   "cell_type": "code",
   "execution_count": null,
   "id": "e0102123",
   "metadata": {},
   "outputs": [],
   "source": []
  }
 ],
 "metadata": {
  "kernelspec": {
   "display_name": "Python 3 (ipykernel)",
   "language": "python",
   "name": "python3"
  },
  "language_info": {
   "codemirror_mode": {
    "name": "ipython",
    "version": 3
   },
   "file_extension": ".py",
   "mimetype": "text/x-python",
   "name": "python",
   "nbconvert_exporter": "python",
   "pygments_lexer": "ipython3",
   "version": "3.9.12"
  },
  "toc": {
   "base_numbering": 1,
   "nav_menu": {},
   "number_sections": true,
   "sideBar": true,
   "skip_h1_title": false,
   "title_cell": "Table of Contents",
   "title_sidebar": "Contents",
   "toc_cell": false,
   "toc_position": {},
   "toc_section_display": true,
   "toc_window_display": false
  }
 },
 "nbformat": 4,
 "nbformat_minor": 5
}
